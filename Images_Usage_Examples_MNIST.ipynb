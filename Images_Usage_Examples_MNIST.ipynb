{
 "cells": [
  {
   "cell_type": "code",
   "execution_count": 1,
   "metadata": {
    "colab": {
     "base_uri": "https://localhost:8080/"
    },
    "id": "A8g74WkoriQz",
    "outputId": "58b78c50-ec9e-45bc-b736-f9df698a71ab"
   },
   "outputs": [
    {
     "name": "stdout",
     "output_type": "stream",
     "text": [
      "Requirement already satisfied: bitarray in /usr/local/lib/python3.7/dist-packages (2.3.4)\n",
      "Requirement already satisfied: deap in /usr/local/lib/python3.7/dist-packages (1.3.1)\n",
      "Requirement already satisfied: lime in /usr/local/lib/python3.7/dist-packages (0.2.0.1)\n",
      "Requirement already satisfied: numpy in /usr/local/lib/python3.7/dist-packages (from deap) (1.19.5)\n",
      "Requirement already satisfied: matplotlib in /usr/local/lib/python3.7/dist-packages (from lime) (3.2.2)\n",
      "Requirement already satisfied: tqdm in /usr/local/lib/python3.7/dist-packages (from lime) (4.62.3)\n",
      "Requirement already satisfied: scikit-image>=0.12 in /usr/local/lib/python3.7/dist-packages (from lime) (0.16.2)\n",
      "Requirement already satisfied: scikit-learn>=0.18 in /usr/local/lib/python3.7/dist-packages (from lime) (0.22.2.post1)\n",
      "Requirement already satisfied: scipy in /usr/local/lib/python3.7/dist-packages (from lime) (1.4.1)\n",
      "Requirement already satisfied: networkx>=2.0 in /usr/local/lib/python3.7/dist-packages (from scikit-image>=0.12->lime) (2.6.3)\n",
      "Requirement already satisfied: PyWavelets>=0.4.0 in /usr/local/lib/python3.7/dist-packages (from scikit-image>=0.12->lime) (1.1.1)\n",
      "Requirement already satisfied: pillow>=4.3.0 in /usr/local/lib/python3.7/dist-packages (from scikit-image>=0.12->lime) (7.1.2)\n",
      "Requirement already satisfied: imageio>=2.3.0 in /usr/local/lib/python3.7/dist-packages (from scikit-image>=0.12->lime) (2.4.1)\n",
      "Requirement already satisfied: cycler>=0.10 in /usr/local/lib/python3.7/dist-packages (from matplotlib->lime) (0.10.0)\n",
      "Requirement already satisfied: python-dateutil>=2.1 in /usr/local/lib/python3.7/dist-packages (from matplotlib->lime) (2.8.2)\n",
      "Requirement already satisfied: pyparsing!=2.0.4,!=2.1.2,!=2.1.6,>=2.0.1 in /usr/local/lib/python3.7/dist-packages (from matplotlib->lime) (2.4.7)\n",
      "Requirement already satisfied: kiwisolver>=1.0.1 in /usr/local/lib/python3.7/dist-packages (from matplotlib->lime) (1.3.2)\n",
      "Requirement already satisfied: six in /usr/local/lib/python3.7/dist-packages (from cycler>=0.10->matplotlib->lime) (1.15.0)\n",
      "Requirement already satisfied: joblib>=0.11 in /usr/local/lib/python3.7/dist-packages (from scikit-learn>=0.18->lime) (1.0.1)\n"
     ]
    }
   ],
   "source": [
    "!pip install bitarray deap lime"
   ]
  },
  {
   "cell_type": "code",
   "execution_count": 2,
   "metadata": {
    "colab": {
     "base_uri": "https://localhost:8080/"
    },
    "id": "VkBwD3J1rxqc",
    "outputId": "85b0aed1-89e7-47b7-cf7b-df17ba3f72a0"
   },
   "outputs": [
    {
     "name": "stdout",
     "output_type": "stream",
     "text": [
      "fatal: destination path 'XAI_lib_HAI-net_Tutorial' already exists and is not an empty directory.\n"
     ]
    }
   ],
   "source": [
    "!git clone https://github.com/rinziv/XAI_lib_HAI-net_Tutorial.git"
   ]
  },
  {
   "cell_type": "code",
   "execution_count": 1,
   "metadata": {
    "colab": {
     "base_uri": "https://localhost:8080/"
    },
    "id": "x4NOL_Wzr1TG",
    "outputId": "e8ffb8e6-52a5-4125-abe9-7e9e9ae8c06d"
   },
   "outputs": [
    {
     "name": "stdout",
     "output_type": "stream",
     "text": [
      "/content/XAI_lib_HAI-net_Tutorial\n"
     ]
    }
   ],
   "source": [
    "cd XAI_lib_HAI-net_Tutorial"
   ]
  },
  {
   "cell_type": "markdown",
   "metadata": {
    "id": "c4UQbPHarKP9"
   },
   "source": [
    "# Examples of XAI-Lib Usage for MNIST data"
   ]
  },
  {
   "cell_type": "code",
   "execution_count": 2,
   "metadata": {
    "id": "pOGmVi7rrKP-"
   },
   "outputs": [],
   "source": [
    "import numpy as np\n",
    "import pandas as pd\n",
    "import matplotlib.pyplot as plt\n",
    "import pickle"
   ]
  },
  {
   "cell_type": "code",
   "execution_count": 3,
   "metadata": {
    "id": "X3LvqYl7sVWk"
   },
   "outputs": [],
   "source": [
    "# Load Dataset\n",
    "from tensorflow.keras.datasets import mnist\n",
    "(MNIST_x_data_train, MNIST_y_data_train), (MNIST_x_data_test, MNIST_y_data_test) = mnist.load_data()"
   ]
  },
  {
   "cell_type": "code",
   "execution_count": 4,
   "metadata": {
    "colab": {
     "base_uri": "https://localhost:8080/"
    },
    "id": "TpcrUNqQsVYw",
    "outputId": "1b75ed1d-76b6-4d94-bad0-ee8ab889df06"
   },
   "outputs": [
    {
     "data": {
      "text/plain": [
       "Net(\n",
       "  (conv_block): Sequential(\n",
       "    (0): Conv2d(1, 32, kernel_size=(3, 3), stride=(1, 1), padding=(1, 1))\n",
       "    (1): BatchNorm2d(32, eps=1e-05, momentum=0.1, affine=True, track_running_stats=True)\n",
       "    (2): ReLU(inplace=True)\n",
       "    (3): Conv2d(32, 64, kernel_size=(3, 3), stride=(1, 1), padding=(1, 1))\n",
       "    (4): BatchNorm2d(64, eps=1e-05, momentum=0.1, affine=True, track_running_stats=True)\n",
       "    (5): ReLU(inplace=True)\n",
       "    (6): MaxPool2d(kernel_size=2, stride=2, padding=0, dilation=1, ceil_mode=False)\n",
       "    (7): Conv2d(64, 128, kernel_size=(3, 3), stride=(1, 1), padding=(1, 1))\n",
       "    (8): BatchNorm2d(128, eps=1e-05, momentum=0.1, affine=True, track_running_stats=True)\n",
       "    (9): ReLU(inplace=True)\n",
       "    (10): MaxPool2d(kernel_size=2, stride=2, padding=0, dilation=1, ceil_mode=False)\n",
       "  )\n",
       "  (linear_block): Sequential(\n",
       "    (0): Dropout(p=0.5, inplace=False)\n",
       "    (1): Linear(in_features=6272, out_features=128, bias=True)\n",
       "    (2): BatchNorm1d(128, eps=1e-05, momentum=0.1, affine=True, track_running_stats=True)\n",
       "    (3): ReLU(inplace=True)\n",
       "    (4): Dropout(p=0.5, inplace=False)\n",
       "    (5): Linear(in_features=128, out_features=64, bias=True)\n",
       "    (6): BatchNorm1d(64, eps=1e-05, momentum=0.1, affine=True, track_running_stats=True)\n",
       "    (7): ReLU(inplace=True)\n",
       "    (8): Dropout(p=0.5, inplace=False)\n",
       "    (9): Linear(in_features=64, out_features=10, bias=True)\n",
       "  )\n",
       ")"
      ]
     },
     "execution_count": 4,
     "metadata": {},
     "output_type": "execute_result"
    }
   ],
   "source": [
    "# Load the model\n",
    "import torch\n",
    "import torch.nn as nn\n",
    "\n",
    "class Net(nn.Module):\n",
    "    def __init__(self):\n",
    "        super(Net, self).__init__()\n",
    "        \n",
    "        self.conv_block = nn.Sequential(\n",
    "            nn.Conv2d(1, 32, kernel_size=3, stride=1, padding=1),\n",
    "            nn.BatchNorm2d(32),\n",
    "            nn.ReLU(inplace=True),\n",
    "            nn.Conv2d(32, 64, kernel_size=3, stride=1, padding=1),\n",
    "            nn.BatchNorm2d(64),\n",
    "            nn.ReLU(inplace=True),\n",
    "            nn.MaxPool2d(kernel_size=2, stride=2),\n",
    "            nn.Conv2d(64, 128, kernel_size=3, stride=1, padding=1),\n",
    "            nn.BatchNorm2d(128),\n",
    "            nn.ReLU(inplace=True),\n",
    "            nn.MaxPool2d(kernel_size=2, stride=2) \n",
    "        )\n",
    "        \n",
    "        self.linear_block = nn.Sequential(\n",
    "            nn.Dropout(p=0.5),\n",
    "            nn.Linear(128*7*7, 128),\n",
    "            nn.BatchNorm1d(128),\n",
    "            nn.ReLU(inplace=True),\n",
    "            nn.Dropout(0.5),\n",
    "            nn.Linear(128, 64),\n",
    "            nn.BatchNorm1d(64),\n",
    "            nn.ReLU(inplace=True),\n",
    "            nn.Dropout(0.5),\n",
    "            nn.Linear(64, 10)\n",
    "        )\n",
    "        \n",
    "    def forward(self, x):\n",
    "        x = self.conv_block(x)\n",
    "        x = x.view(x.size(0), -1)\n",
    "        x = torch.nn.functional.softmax(self.linear_block(x),dim=1)\n",
    "        \n",
    "        return x\n",
    "MNIST_CNN = Net()\n",
    "MNIST_CNN.load_state_dict(torch.load('./models/MNIST_Pytorch_CNN.pt',map_location=torch.device('cpu')))\n",
    "MNIST_CNN.eval()"
   ]
  },
  {
   "cell_type": "markdown",
   "metadata": {
    "id": "ywni0iHJrKP_"
   },
   "source": [
    "## Intgrad"
   ]
  },
  {
   "cell_type": "markdown",
   "metadata": {
    "id": "mLnGYgNDrKP_"
   },
   "source": [
    "<img src='https://github.com/rinziv/XAI_lib_HAI-net_Tutorial/blob/main/images/intgrad_MNIST.jpg?raw=1' width=\"400\" height=\"300\">"
   ]
  },
  {
   "cell_type": "code",
   "execution_count": 9,
   "metadata": {
    "colab": {
     "base_uri": "https://localhost:8080/",
     "height": 248
    },
    "id": "URSvZ118rKQA",
    "outputId": "669360cf-c37d-4cda-c4e9-ea556d131a5e"
   },
   "outputs": [
    {
     "data": {
      "image/png": "[encoded data removed]",
      "text/plain": [
       "<Figure size 432x288 with 2 Axes>"
      ]
     },
     "metadata": {
      "needs_background": "light"
     },
     "output_type": "display_data"
    }
   ],
   "source": [
    "from xailib.explainers.intgrad_explainer import IntgradImageExplainer\n",
    "from skimage.color import gray2rgb\n",
    "\n",
    "def rgb2gray(rgb):\n",
    "    return np.dot(rgb[..., :3], [0.299, 0.587, 0.114])\n",
    "\n",
    "# 1) Create the Explainer\n",
    "ig = IntgradImageExplainer(MNIST_CNN)\n",
    "\n",
    "# 2) Fit the Explainer\n",
    "ig.fit()\n",
    "\n",
    "# 3) Select the image we want to give an explanation for\n",
    "image = MNIST_x_data_train[0]\n",
    "\n",
    "# 4a) Preprocessing function: function that takes as input an image and return the correct format for the black box\n",
    "def preprocessing(image):\n",
    "    return torch.tensor([[image]]).float()\n",
    "\n",
    "# 4b) Predict Function of our black box: It needs to take as input the output of preprocessing and return an array of probabilities of classes with shape (-1,num_classes)\n",
    "def predict(image):\n",
    "    return MNIST_CNN(image)\n",
    "\n",
    "# 5) Explain an Instance\n",
    "scores = ig.explain(image, 5, 'black', preprocessing, predict, model_type='pytorch')\n",
    "\n",
    "plt.imshow(scores[:,:,0],cmap='coolwarm')\n",
    "plt.colorbar()\n",
    "plt.axis('off');"
   ]
  },
  {
   "cell_type": "markdown",
   "metadata": {
    "id": "RmmwqNbtrKQD",
    "tags": []
   },
   "source": [
    "## LIME"
   ]
  },
  {
   "cell_type": "markdown",
   "metadata": {
    "id": "5CYsCLKNrKQD"
   },
   "source": [
    "<img src='https://github.com/rinziv/XAI_lib_HAI-net_Tutorial/blob/main/images/lime_MNIST.jpg?raw=1' width=\"800\" height=\"250\">"
   ]
  },
  {
   "cell_type": "code",
   "execution_count": 11,
   "metadata": {
    "colab": {
     "base_uri": "https://localhost:8080/",
     "height": 325
    },
    "id": "ojmzdgBVrKQE",
    "outputId": "91ea1836-d50a-46fa-90ba-ac62c43a8ebd"
   },
   "outputs": [
    {
     "data": {
      "application/vnd.jupyter.widget-view+json": {
       "model_id": "ebd2ecc263324e65a8a9e67f8d4958b4",
       "version_major": 2,
       "version_minor": 0
      },
      "text/plain": [
       "  0%|          | 0/500 [00:00<?, ?it/s]"
      ]
     },
     "metadata": {},
     "output_type": "display_data"
    },
    {
     "data": {
      "image/png": "[encoded data removed]",
      "text/plain": [
       "<Figure size 1080x360 with 3 Axes>"
      ]
     },
     "metadata": {
      "needs_background": "light"
     },
     "output_type": "display_data"
    }
   ],
   "source": [
    "from xailib.explainers.lime_explainer import LimeXAIImageExplainer\n",
    "from skimage.color import label2rgb, gray2rgb, rgb2gray\n",
    "\n",
    "# index of the image to explain\n",
    "idx = 0\n",
    "\n",
    "# 1) Create the Explainer\n",
    "lm = LimeXAIImageExplainer(MNIST_CNN)\n",
    "\n",
    "# 2a) Fit the Explainer\n",
    "lm.fit()\n",
    "\n",
    "# 2b) Create custom classifier function if not predict \n",
    "# function that takes as input an array of images (the LIME neighbourhood) and return an array of (num_images,num_classes)\n",
    "# If None will use black_box.predict function\n",
    "def classifier_fn(images):\n",
    "    images = torch.tensor(rgb2gray(images).reshape(-1,1,28,28)).float()\n",
    "    return np.argmax(MNIST_CNN(images).detach().numpy(),axis=1).reshape(-1,1)\n",
    "\n",
    "# 3) Explain an Instance\n",
    "explanation = lm.explain(gray2rgb(MNIST_x_data_train[idx]), classifier_fn, num_samples=500)\n",
    "\n",
    "# 4) Plot the results\n",
    "lm.plot_lime_values(MNIST_x_data_train[idx], explanation)"
   ]
  },
  {
   "cell_type": "code",
   "execution_count": 12,
   "metadata": {
    "colab": {
     "base_uri": "https://localhost:8080/",
     "height": 248
    },
    "id": "gVoDw_c7rKQE",
    "outputId": "d910a84a-b62c-40d4-9705-c50139ecfdcf"
   },
   "outputs": [
    {
     "data": {
      "image/png": "[encoded data removed]",
      "text/plain": [
       "<Figure size 432x288 with 1 Axes>"
      ]
     },
     "metadata": {
      "needs_background": "light"
     },
     "output_type": "display_data"
    }
   ],
   "source": [
    "from skimage.segmentation import mark_boundaries\n",
    "temp, mask = explanation.get_image_and_mask(explanation.top_labels[0], positive_only=True, num_features=5, hide_rest=False)\n",
    "img_boundry1 = mark_boundaries(temp/255.0, mask)\n",
    "plt.imshow(img_boundry1)\n",
    "plt.axis('off');"
   ]
  },
  {
   "cell_type": "code",
   "execution_count": 13,
   "metadata": {
    "colab": {
     "base_uri": "https://localhost:8080/",
     "height": 265
    },
    "id": "AAvEcXahrKQE",
    "outputId": "b9751495-8c99-4436-9bb0-129159969b40"
   },
   "outputs": [
    {
     "data": {
      "image/png": "[encoded data removed]",
      "text/plain": [
       "<Figure size 432x288 with 1 Axes>"
      ]
     },
     "metadata": {
      "needs_background": "light"
     },
     "output_type": "display_data"
    }
   ],
   "source": [
    "temp, mask = explanation.get_image_and_mask(explanation.top_labels[0], positive_only=False, num_features=10, hide_rest=False)\n",
    "img_boundry2 = mark_boundaries(temp/255.0, mask)\n",
    "plt.imshow(img_boundry2);"
   ]
  },
  {
   "cell_type": "code",
   "execution_count": 14,
   "metadata": {
    "colab": {
     "base_uri": "https://localhost:8080/",
     "height": 248
    },
    "id": "_-JW9RyHrKQF",
    "outputId": "402fa58f-4323-49f8-f42c-b50b60762340"
   },
   "outputs": [
    {
     "data": {
      "image/png": "[encoded data removed]",
      "text/plain": [
       "<Figure size 432x288 with 1 Axes>"
      ]
     },
     "metadata": {
      "needs_background": "light"
     },
     "output_type": "display_data"
    }
   ],
   "source": [
    "from skimage.segmentation import quickshift, mark_boundaries\n",
    "from skimage.color import gray2rgb\n",
    "image = gray2rgb(MNIST_x_data_train[0].astype(int))\n",
    "\"\"\"\n",
    "First you need to define the segmentation function to use, in this example we will use\n",
    "quickshift from skimage. It is foundamental to tune the parameters of the segmentation in\n",
    "order to have a good one. It is recommentded to print an example of just only the segmentation\n",
    "to see if it works for that kind of image\n",
    "For quickshift we have to tune these two parameters below\n",
    "kernel_size : float, optional\n",
    "    Width of Gaussian kernel used in smoothing the\n",
    "    sample density. Higher means fewer clusters.\n",
    "max_dist : float, optional\n",
    "    Cut-off point for data distances.\n",
    "    Higher means fewer clusters.\n",
    "\"\"\"\n",
    "def segmentation_fn(image):\n",
    "    return quickshift(image, kernel_size=2, max_dist=3)\n",
    "plt.imshow(mark_boundaries(image/255,segmentation_fn(image)))\n",
    "plt.axis('off');"
   ]
  },
  {
   "cell_type": "code",
   "execution_count": 15,
   "metadata": {
    "colab": {
     "base_uri": "https://localhost:8080/",
     "height": 325,
     "referenced_widgets": [
      "fbe404dcb1884b05861a06a0ae878443",
      "82d88036c6db4885a1fc69b94a6c8e81",
      "5cb114a749594d46aaaf10b94b1d304a",
      "85fbb795e6aa4c74b0c61b8a27097d4b",
      "1b4f096f4ac141378889360b81d0ec9c",
      "c03efda8755e430f991c5ed169e78e85",
      "95ea62012ebe47b891ed716291d11597",
      "bcda2357e6474ffc85a2d493f3e50685",
      "cc516e14bd1d449aa56c96340f19e569",
      "0454d5ffd8f84e6b89e9caa77c56035e",
      "cec432c1aaeb4806836de1d9d371af59"
     ]
    },
    "id": "lHiOIizBrKQF",
    "outputId": "c2d984be-646a-445c-dd20-6753fadac40e"
   },
   "outputs": [
    {
     "data": {
      "application/vnd.jupyter.widget-view+json": {
       "model_id": "fbe404dcb1884b05861a06a0ae878443",
       "version_major": 2,
       "version_minor": 0
      },
      "text/plain": [
       "  0%|          | 0/500 [00:00<?, ?it/s]"
      ]
     },
     "metadata": {},
     "output_type": "display_data"
    },
    {
     "data": {
      "image/png": "[encoded data removed]",
      "text/plain": [
       "<Figure size 1080x360 with 3 Axes>"
      ]
     },
     "metadata": {
      "needs_background": "light"
     },
     "output_type": "display_data"
    }
   ],
   "source": [
    "from xailib.explainers.lime_explainer import LimeXAIImageExplainer\n",
    "from skimage.color import label2rgb, gray2rgb, rgb2gray\n",
    "\n",
    "# index of the image to explain\n",
    "idx = 0\n",
    "\n",
    "# 1) Create the Explainer\n",
    "lm = LimeXAIImageExplainer(MNIST_CNN)\n",
    "\n",
    "# 2a) Fit the Explainer\n",
    "lm.fit()\n",
    "\n",
    "# 2b) Create custom classifier function if not predict \n",
    "# function that takes as input an array of images (the LIME neighbourhood) and return an array of (num_images,num_classes)\n",
    "# If None will use black_box.predict function\n",
    "def classifier_fn(images):\n",
    "    images = torch.tensor(rgb2gray(images).reshape(-1,1,28,28)).float()\n",
    "    return np.argmax(MNIST_CNN(images).detach().numpy(),axis=1).reshape(-1,1)\n",
    "\n",
    "# 3) Explain an Instance\n",
    "explanation = lm.explain(gray2rgb(MNIST_x_data_train[idx]), classifier_fn, segmentation_fn, num_samples=500)\n",
    "\n",
    "# 4) Plot the results\n",
    "lm.plot_lime_values(MNIST_x_data_train[idx], explanation)"
   ]
  },
  {
   "cell_type": "markdown",
   "metadata": {
    "id": "sCMhR7JVrKQG"
   },
   "source": [
    "## RISE"
   ]
  },
  {
   "cell_type": "markdown",
   "metadata": {
    "id": "eVKYfDOFrKQG"
   },
   "source": [
    "<img src='https://github.com/rinziv/XAI_lib_HAI-net_Tutorial/blob/main/images/rise_MNIST.jpg?raw=1' width=\"800\" height=\"250\">"
   ]
  },
  {
   "cell_type": "code",
   "execution_count": 17,
   "metadata": {
    "colab": {
     "base_uri": "https://localhost:8080/",
     "height": 121
    },
    "id": "ZCUhvd1rrKQG",
    "outputId": "962c9410-97be-4824-ccff-b328e1c12714"
   },
   "outputs": [
    {
     "data": {
      "image/png": "[encoded data removed]",
      "text/plain": [
       "<Figure size 2160x360 with 10 Axes>"
      ]
     },
     "metadata": {
      "needs_background": "light"
     },
     "output_type": "display_data"
    }
   ],
   "source": [
    "from xailib.explainers.rise_explainer import RiseXAIImageExplainer\n",
    "\n",
    "class Rise_model_wrapper():\n",
    "    def __init__(self, bb, input_size):\n",
    "        self.model = bb\n",
    "        self.input_size = input_size\n",
    "        \n",
    "    def predict(self, X):\n",
    "        return self.model(torch.tensor(X).reshape(-1,1,28,28).float()).detach().numpy()\n",
    "        \n",
    "\n",
    "model = Rise_model_wrapper(MNIST_CNN, (28,28))\n",
    "rise = RiseXAIImageExplainer(model)\n",
    "        \n",
    "\n",
    "N = 10 # number of random masks\n",
    "s = 10 # cell_size = input_shape / s\n",
    "p1 = 0.5 # masking probability\n",
    "\n",
    "rise.fit(N, s, p1)\n",
    "\n",
    "F,ax=plt.subplots(1,10,figsize=(30,5))\n",
    "for i in range(10):\n",
    "    ax[i].imshow(rise.masks[i,:][:,:,0])"
   ]
  },
  {
   "cell_type": "code",
   "execution_count": 18,
   "metadata": {
    "colab": {
     "base_uri": "https://localhost:8080/",
     "height": 195
    },
    "id": "yKCQHW-VrKQG",
    "outputId": "ea42bcb4-9778-432b-afd6-2e9494f73fd8"
   },
   "outputs": [
    {
     "data": {
      "image/png": "[encoded data removed]",
      "text/plain": [
       "<Figure size 720x360 with 3 Axes>"
      ]
     },
     "metadata": {
      "needs_background": "light"
     },
     "output_type": "display_data"
    }
   ],
   "source": [
    "fig, ax = plt.subplots(1,3,figsize=(10,5))\n",
    "img = MNIST_x_data_train[0,:]\n",
    "N = 4000\n",
    "s = 8\n",
    "p1 = 0.5\n",
    "\n",
    "rise.fit(N, s, p1)\n",
    "\n",
    "sal = rise.explain(img.reshape(28,28,1)/255)\n",
    "\n",
    "ax[0].imshow(img,cmap='gray')\n",
    "ax[0].axis('off')\n",
    "\n",
    "ax[1].imshow(sal[MNIST_y_data_test[0]],cmap='jet')\n",
    "ax[1].axis('off')\n",
    "\n",
    "ax[2].imshow(img,cmap='gray')\n",
    "ax[2].imshow(sal[MNIST_y_data_test[0]],cmap='jet',alpha=0.5)\n",
    "ax[2].axis('off');"
   ]
  },
  {
   "cell_type": "markdown",
   "metadata": {
    "id": "qSWpL3S9rKQH"
   },
   "source": [
    "# ILORE"
   ]
  },
  {
   "cell_type": "markdown",
   "metadata": {
    "id": "haVsavrUrKQH"
   },
   "source": [
    "<img src='https://github.com/rinziv/XAI_lib_HAI-net_Tutorial/blob/main/images/lore_MNIST.jpg?raw=1' width=\"500\" height=\"250\">"
   ]
  },
  {
   "cell_type": "code",
   "execution_count": 19,
   "metadata": {
    "colab": {
     "base_uri": "https://localhost:8080/",
     "height": 248
    },
    "id": "WzU3gHp1rKQH",
    "outputId": "0fa5236c-009a-4e5d-f3f4-b5936bc604e7"
   },
   "outputs": [
    {
     "data": {
      "image/png": "[encoded data removed]",
      "text/plain": [
       "<Figure size 432x288 with 1 Axes>"
      ]
     },
     "metadata": {
      "needs_background": "light"
     },
     "output_type": "display_data"
    }
   ],
   "source": [
    "from skimage.segmentation import quickshift, mark_boundaries\n",
    "from skimage.color import gray2rgb\n",
    "image = gray2rgb(MNIST_x_data_train[0].astype(int))\n",
    "\"\"\"\n",
    "First you need to define the segmentation function to use, in this example we will use\n",
    "quickshift from skimage. It is foundamental to tune the parameters of the segmentation in\n",
    "order to have a good one. It is recommentded to print an example of just only the segmentation\n",
    "to see if it works for that kind of image\n",
    "For quickshift we have to tune these two parameters below\n",
    "kernel_size : float, optional\n",
    "    Width of Gaussian kernel used in smoothing the\n",
    "    sample density. Higher means fewer clusters.\n",
    "max_dist : float, optional\n",
    "    Cut-off point for data distances.\n",
    "    Higher means fewer clusters.\n",
    "\"\"\"\n",
    "def segmentation_fn(image):\n",
    "    return quickshift(image, kernel_size=2, max_dist=3)\n",
    "plt.imshow(mark_boundaries(image/255,segmentation_fn(image)))\n",
    "plt.axis('off');"
   ]
  },
  {
   "cell_type": "code",
   "execution_count": 20,
   "metadata": {
    "id": "u27czy2lrKQI"
   },
   "outputs": [],
   "source": [
    "from externals.LOREM.ilorem import ILOREM\n",
    "\n",
    "# Function to convert from rgb2gray since the one implemented in skimage gives problems\n",
    "def rgb2gray(rgb):\n",
    "    return np.dot(rgb[..., :3], [0.299, 0.587, 0.114])\n",
    "\n",
    "# Predict Function of our black box. \n",
    "# !!!IMPORTANT!!! It needs to take as input a list of RGB images and return an array of class indices of shape (-1,1)\n",
    "def classifier_fn(images):\n",
    "    images = torch.tensor(rgb2gray(np.array(images))/255).float().unsqueeze(1)\n",
    "    return np.argmax(MNIST_CNN(images).detach().numpy(),axis=1).reshape(-1,1)\n",
    "\n",
    "# Create the explainer\n",
    "explainer = ILOREM(bb_predict = classifier_fn, \n",
    "                   class_name='class', \n",
    "                   class_values = range(10), \n",
    "                   segmentation_fn=segmentation_fn,\n",
    "                   verbose=True)"
   ]
  },
  {
   "cell_type": "code",
   "execution_count": 21,
   "metadata": {
    "colab": {
     "base_uri": "https://localhost:8080/"
    },
    "id": "VQK1B9flrKQI",
    "outputId": "cd1b1ced-bb6f-4c75-8501-a01c502c2659"
   },
   "outputs": [
    {
     "name": "stdout",
     "output_type": "stream",
     "text": [
      "generating neighborhood\n",
      "synthetic neighborhood class counts {3: 37, 5: 59, 7: 1, 8: 1, 9: 2}\n",
      "learning local decision tree\n",
      "retrieving explanation\n"
     ]
    }
   ],
   "source": [
    "exp = explainer.explain_instance(gray2rgb(MNIST_x_data_train[0].astype(int)), num_samples=100, use_weights=True, metric='cosine')"
   ]
  },
  {
   "cell_type": "code",
   "execution_count": 22,
   "metadata": {
    "colab": {
     "base_uri": "https://localhost:8080/"
    },
    "id": "8zBol0birKQI",
    "outputId": "34093c11-7405-4601-a55a-490baf63eacf"
   },
   "outputs": [
    {
     "name": "stdout",
     "output_type": "stream",
     "text": [
      "e = {\n",
      "\tr = { 1 > 0.50, 5 > 0.50 } --> { class: 5 }\n",
      "\tc = { { 1 <= 0.50 } --> { class: 3 } }    \n",
      "}\n"
     ]
    }
   ],
   "source": [
    "print('e = {\\n\\tr = %s\\n\\tc = %s    \\n}' % (exp.rstr(), exp.cstr()))"
   ]
  },
  {
   "cell_type": "code",
   "execution_count": 23,
   "metadata": {
    "colab": {
     "base_uri": "https://localhost:8080/",
     "height": 248
    },
    "id": "rQDnnpwnrKQI",
    "outputId": "d059d52d-8e20-4ce1-94c2-9d9c6b99fdb3"
   },
   "outputs": [
    {
     "data": {
      "image/png": "[encoded data removed]",
      "text/plain": [
       "<Figure size 432x288 with 1 Axes>"
      ]
     },
     "metadata": {
      "needs_background": "light"
     },
     "output_type": "display_data"
    }
   ],
   "source": [
    "x,y = np.meshgrid(range(28),range(28))\n",
    "img2show, mask = exp.get_image_rule(hide_rest=False, num_features=None, min_importance=0.0)\n",
    "plt.imshow(mark_boundaries(img2show/255,mask))\n",
    "mask[mask != 2] = -1\n",
    "mask[mask == 2] = segmentation_fn(image)[mask == 2]\n",
    "\n",
    "mask = mask.ravel()\n",
    "\n",
    "for i in np.unique(mask):\n",
    "    if i != -1:\n",
    "        x_c = x.ravel()[np.where(mask==i)[0]]\n",
    "        y_c = y.ravel()[np.where(mask==i)[0]]\n",
    "        plt.text(np.median(x_c),np.median(y_c),str(i),fontsize=15, weight='bold')\n",
    "plt.axis('off');"
   ]
  },
  {
   "cell_type": "code",
   "execution_count": 24,
   "metadata": {
    "colab": {
     "base_uri": "https://localhost:8080/",
     "height": 264
    },
    "id": "Y0bAHuEZrKQI",
    "outputId": "a15ab562-8bd5-42aa-82ac-8eb1e877f236"
   },
   "outputs": [
    {
     "data": {
      "image/png": "[encoded data removed]",
      "text/plain": [
       "<Figure size 432x288 with 1 Axes>"
      ]
     },
     "metadata": {
      "needs_background": "light"
     },
     "output_type": "display_data"
    }
   ],
   "source": [
    "imgs2show, masks, coutcomes = exp.get_image_counterfactuals(hide_rest=False, num_features=None, min_importance=0.0)\n",
    "x,y = np.meshgrid(range(28),range(28))\n",
    "s = segmentation_fn(image)\n",
    "\n",
    "if len(imgs2show)==1:\n",
    "    plt.imshow(mark_boundaries(imgs2show[0]/255, masks[0]))\n",
    "    \n",
    "    mask = masks[0]\n",
    "    mask[mask != 1] = -1\n",
    "    mask[mask == 1] = s[mask == 1]\n",
    "    mask = mask.ravel()\n",
    "    for j in np.unique(mask):\n",
    "        if j != -1:\n",
    "            x_c = x.ravel()[np.where(mask==j)[0]]\n",
    "            y_c = y.ravel()[np.where(mask==j)[0]]\n",
    "            plt.text(np.median(x_c),np.median(y_c),str(j),fontsize=15, weight='bold')\n",
    "            \n",
    "    plt.title('Black Box Prediction: '+str(coutcomes[0]))\n",
    "    plt.axis('off')\n",
    "else:\n",
    "    F, ax = plt.subplots(1,len(imgs2show),figsize=(5*len(imgs2show),5))\n",
    "    for i in range(len(imgs2show)):\n",
    "        ax[i].imshow(mark_boundaries(imgs2show[i]/255, masks[i]))\n",
    "        \n",
    "        mask = masks[i]\n",
    "        mask[mask != 1] = -1\n",
    "        mask[mask == 1] = s[mask == 1]\n",
    "        mask = mask.ravel()\n",
    "        for j in np.unique(mask):\n",
    "            if j != -1:\n",
    "                x_c = x.ravel()[np.where(mask==j)[0]]\n",
    "                y_c = y.ravel()[np.where(mask==j)[0]]\n",
    "                ax[i].text(np.median(x_c),np.median(y_c),str(j),fontsize=15, weight='bold')\n",
    "        \n",
    "        ax[i].set_title('Black Box Prediction: '+str(coutcomes[i]))\n",
    "        ax[i].axis('off')"
   ]
  },
  {
   "cell_type": "markdown",
   "metadata": {
    "id": "br67eatjrKQJ"
   },
   "source": [
    "# ABELE"
   ]
  },
  {
   "cell_type": "markdown",
   "metadata": {
    "id": "9EjAOBzyrKQJ"
   },
   "source": [
    "In order to work ABELE needs a Test Set and an autoencoder trained on that"
   ]
  },
  {
   "cell_type": "markdown",
   "metadata": {
    "id": "8IYRpXwmrKQJ"
   },
   "source": [
    "### 1) Autoencoder Training"
   ]
  },
  {
   "cell_type": "markdown",
   "metadata": {
    "id": "IwsisxysrKQJ"
   },
   "source": [
    "Here we have a script to guide the user to the creation and the training of the autoencoder. \n",
    "If you want to use your own, you need to implement an autoencoder class with these funtioncs inside:\n",
    "- self.encode: take the image as input and return the latent space vector\n",
    "- self.decode: take a vector as input and return the reconstructed image\n",
    "- self.latent_dim: int representing the number of dimensions of the latent space\n",
    "- self.discriminator: (only for adversarial autoencoders) take a vector as input and output a class label"
   ]
  },
  {
   "cell_type": "code",
   "execution_count": 5,
   "metadata": {
    "id": "qY0l0QkprKQJ"
   },
   "outputs": [],
   "source": [
    "import sys\n",
    "import os\n",
    "from externals.ABELE.experiments.exputil import get_autoencoder\n",
    "from externals.ABELE.experiments.exputil import get_dataset\n",
    "import warnings\n",
    "warnings.filterwarnings('ignore')\n",
    "\n",
    "#disable eager execution in tensorflow 2.x for faster training time\n",
    "from tensorflow.python.framework.ops import disable_eager_execution\n",
    "disable_eager_execution()\n",
    "\n",
    "# The dataset to use for training\n",
    "# if you prefer to use yours load the data in two vector X_data and Y_data, set dataset variable to a custom name and custom_dataset to True\n",
    "dataset = 'mnist'\n",
    "custom_dataset = False\n",
    "if not custom_dataset:\n",
    "    _, _, X_test, Y_test, use_rgb = get_dataset(dataset)\n",
    "\n",
    "# The type of autoencoder to train ['aae','vae']\n",
    "ae_name = 'aae'\n",
    "\n",
    "# This script will save the models weights in the folder ./path/models/abele/dataset/ae_name\n",
    "path = './'\n",
    "path_aemodels = path + 'models/abele/%s/%s/' % (dataset,ae_name)\n",
    "if not os.path.exists(path_aemodels):\n",
    "    os.makedirs(path_aemodels)\n",
    "\n",
    "# HYPER-PARAMETERS\n",
    "#define the epochs and the batch size for which the autoencoder will be trained\n",
    "epochs = 2000\n",
    "batch_size = 64\n",
    "#Print training summary every sample_interval step\n",
    "sample_interval = 50\n",
    "\n",
    "\"\"\"\n",
    " Get_autoencoder create the autoencoder class to train\n",
    " Arguments: \n",
    "    X: dataset to use to train the ae \n",
    "    ae_name: type of the autoencoder to train, only adversarial autoencoder (aae) and variational autoencoder (vae) are supported\n",
    "    path_aemodels: path where to save the weights\n",
    "    dataset: name of the dataset to use\n",
    "    OPTIONAL:\n",
    "    latent_dim: latent space dimension (only use if dataset is custom)\n",
    "    hidden_dim: hidden dimension of the autoencoders layers (ex: 1024 will create two layers of 1024 hidden units) (only use if dataset is custom)\n",
    "    num_filters: number of filter to use in the convolutional layers (only use if dataset is custom)\n",
    "\"\"\"\n",
    "ae = get_autoencoder(X_test, ae_name, path_aemodels, dataset)\n",
    "\n",
    "\"\"\" Fit method\n",
    " Arguments: \n",
    "    X: Dataset to use to train the ae\n",
    "    epochs: Epochs to train\n",
    "    batch_size\n",
    "    sample interval (see before)\n",
    "\"\"\"\n",
    "#ae.fit(X_test, epochs=epochs, batch_size=batch_size, sample_interval=sample_interval)\n",
    "# save the weights in the oath specified before\n",
    "#ae.save_model()\n",
    "# save also some sample images to test if the autoencoderis trained correctly\n",
    "#ae.sample_images(epochs)\n",
    "ae.load_model()"
   ]
  },
  {
   "cell_type": "code",
   "execution_count": 9,
   "metadata": {
    "id": "8NHa9RHHy5O8"
   },
   "outputs": [],
   "source": [
    "# index Image 2 Explain\n",
    "i2e = 24\n",
    "img = X_test[i2e]"
   ]
  },
  {
   "cell_type": "code",
   "execution_count": 13,
   "metadata": {
    "colab": {
     "base_uri": "https://localhost:8080/",
     "height": 248
    },
    "id": "McGI6wfay-KZ",
    "outputId": "eb7ae334-6f47-4e26-8b32-665f077dd460"
   },
   "outputs": [
    {
     "data": {
      "image/png": "[encoded data removed]",
      "text/plain": [
       "<Figure size 432x288 with 1 Axes>"
      ]
     },
     "metadata": {
      "needs_background": "light"
     },
     "output_type": "display_data"
    }
   ],
   "source": [
    "plt.imshow(img)\n",
    "plt.axis('off');"
   ]
  },
  {
   "cell_type": "code",
   "execution_count": 6,
   "metadata": {
    "colab": {
     "base_uri": "https://localhost:8080/",
     "height": 1000
    },
    "id": "1LrWiFHorKQJ",
    "outputId": "18595fdc-e29d-4010-c3d2-8f63229dc3be"
   },
   "outputs": [
    {
     "name": "stdout",
     "output_type": "stream",
     "text": [
      "generating neighborhood - hrg\n",
      "gen\tnevals\tavg     \tmin     \tmax     \n",
      "0  \t75    \t0.496654\t0.496654\t0.496654\n",
      "1  \t48    \t0.534128\t0.242096\t0.991336\n",
      "2  \t53    \t0.587472\t0.0237984\t0.991336\n",
      "3  \t34    \t0.819781\t0.192827 \t0.991741\n",
      "4  \t43    \t0.894085\t0.124204 \t0.992124\n",
      "5  \t55    \t0.903067\t0.028276 \t0.9926  \n",
      "6  \t28    \t0.949786\t0.0934841\t0.9926  \n",
      "7  \t37    \t0.953955\t0.384434 \t0.993158\n",
      "8  \t46    \t0.942157\t0.360541 \t0.993158\n",
      "9  \t46    \t0.92581 \t0.320186 \t0.993158\n",
      "10 \t40    \t0.92652 \t0.407202 \t0.993158\n",
      "11 \t46    \t0.937926\t0.316016 \t0.993158\n",
      "12 \t43    \t0.934752\t0.274213 \t0.993158\n",
      "13 \t42    \t0.901009\t0.0139903\t0.993158\n",
      "14 \t44    \t0.926023\t0.355051 \t0.993158\n",
      "15 \t42    \t0.91583 \t0.0676322\t0.993158\n",
      "16 \t42    \t0.893953\t0.0191535\t0.993158\n",
      "17 \t46    \t0.918998\t0.0235395\t0.993158\n",
      "18 \t52    \t0.884192\t0.168499 \t0.993158\n",
      "19 \t45    \t0.876435\t0.00742207\t0.993158\n",
      "20 \t42    \t0.914815\t0.170053  \t0.993158\n",
      "21 \t44    \t0.933602\t0.355497  \t0.993158\n",
      "22 \t39    \t0.918153\t0.183743  \t0.993158\n",
      "23 \t47    \t0.929645\t0.0167089 \t0.993158\n",
      "24 \t48    \t0.884939\t0.0254597 \t0.993158\n",
      "25 \t49    \t0.900626\t0.00910849\t0.993158\n",
      "26 \t44    \t0.873549\t0.125102  \t0.993158\n",
      "27 \t48    \t0.91921 \t0.168206  \t0.993158\n",
      "28 \t38    \t0.893838\t0.212666  \t0.993158\n",
      "29 \t39    \t0.930493\t0.239108  \t0.993158\n",
      "30 \t37    \t0.941366\t0.225047  \t0.993158\n",
      "31 \t47    \t0.906543\t0.00942246\t0.993158\n",
      "32 \t40    \t0.926745\t0.321333  \t0.993158\n",
      "33 \t50    \t0.918753\t0.143675  \t0.993158\n",
      "34 \t45    \t0.907097\t0.0282177 \t0.993158\n",
      "35 \t48    \t0.907511\t0.0677095 \t0.993158\n",
      "36 \t33    \t0.972507\t0.0611466 \t0.993158\n",
      "37 \t38    \t0.92944 \t0.016479  \t0.993158\n",
      "38 \t49    \t0.941925\t0.158095  \t0.993158\n",
      "39 \t50    \t0.933985\t0.0509579 \t0.993158\n",
      "40 \t45    \t0.904499\t0.0362366 \t0.993158\n",
      "41 \t41    \t0.861014\t0.0211978 \t0.993158\n",
      "42 \t39    \t0.899851\t0.00770825\t0.993158\n",
      "43 \t40    \t0.905751\t0.200236  \t0.993158\n",
      "44 \t47    \t0.918775\t0.251582  \t0.993158\n",
      "45 \t49    \t0.888192\t0.0167749 \t0.993158\n",
      "46 \t46    \t0.81298 \t0.0679063 \t0.993158\n",
      "47 \t41    \t0.882965\t0.058121  \t0.993158\n",
      "48 \t37    \t0.89514 \t0.0192094 \t0.993158\n",
      "49 \t43    \t0.940027\t0.0333984 \t0.993158\n",
      "50 \t37    \t0.958422\t0.202472  \t0.993158\n",
      "51 \t49    \t0.876855\t0.146764  \t0.993158\n",
      "52 \t39    \t0.929735\t0.00992687\t0.993158\n",
      "53 \t47    \t0.893636\t0.0542649 \t0.993158\n",
      "54 \t45    \t0.914456\t0.194269  \t0.993158\n",
      "55 \t46    \t0.930376\t0.155695  \t0.993158\n",
      "56 \t41    \t0.932217\t0.100493  \t0.993158\n",
      "57 \t45    \t0.90275 \t0.183431  \t0.993158\n",
      "58 \t58    \t0.918583\t0.0218674 \t0.993158\n",
      "59 \t33    \t0.89608 \t0.143091  \t0.993158\n",
      "60 \t38    \t0.91012 \t0.0899895 \t0.993158\n",
      "61 \t56    \t0.923128\t0.124146  \t0.993158\n",
      "62 \t35    \t0.894347\t0.138187  \t0.993158\n",
      "63 \t46    \t0.89741 \t0.0604893 \t0.993158\n",
      "64 \t35    \t0.94762 \t0.370284  \t0.993158\n",
      "65 \t49    \t0.925308\t0.201591  \t0.993158\n",
      "66 \t45    \t0.911861\t0.019052  \t0.993158\n",
      "67 \t47    \t0.899732\t0.306615  \t0.993158\n",
      "68 \t45    \t0.902587\t0.209626  \t0.993158\n",
      "69 \t50    \t0.912098\t0.160644  \t0.993158\n",
      "70 \t52    \t0.905352\t0.0419782 \t0.993158\n",
      "71 \t39    \t0.929979\t0.13054   \t0.993158\n",
      "72 \t44    \t0.910011\t0.0102172 \t0.993158\n",
      "73 \t47    \t0.947097\t0.37554   \t0.993158\n",
      "74 \t38    \t0.911614\t0.00848243\t0.993158\n",
      "75 \t48    \t0.960538\t0.35659   \t0.993158\n",
      "76 \t42    \t0.930346\t0.223047  \t0.993158\n",
      "77 \t38    \t0.911756\t0.0127997 \t0.993158\n",
      "78 \t43    \t0.932371\t0.233202  \t0.993158\n",
      "79 \t45    \t0.923171\t0.167464  \t0.993158\n",
      "80 \t48    \t0.913819\t0.0731917 \t0.993158\n",
      "81 \t48    \t0.873952\t0.315447  \t0.993158\n",
      "82 \t42    \t0.947195\t0.354302  \t0.993158\n",
      "83 \t45    \t0.902444\t0.0468547 \t0.993158\n",
      "84 \t38    \t0.905119\t0.0195928 \t0.993158\n",
      "85 \t36    \t0.933598\t0.149983  \t0.993158\n",
      "86 \t44    \t0.939062\t0.0860789 \t0.993158\n",
      "87 \t50    \t0.911415\t0.0375257 \t0.993158\n",
      "88 \t48    \t0.917841\t0.0293613 \t0.993158\n",
      "89 \t32    \t0.91766 \t0.217112  \t0.993158\n",
      "90 \t48    \t0.896038\t0.187262  \t0.993158\n",
      "91 \t53    \t0.904698\t0.356322  \t0.993158\n",
      "92 \t54    \t0.884331\t0.211969  \t0.993158\n",
      "93 \t53    \t0.938005\t0.162865  \t0.993158\n",
      "94 \t37    \t0.91368 \t0.0133707 \t0.993158\n",
      "95 \t48    \t0.89863 \t0.0866572 \t0.993158\n",
      "96 \t41    \t0.891979\t0.0641733 \t0.993158\n",
      "97 \t51    \t0.909135\t0.0232276 \t0.993158\n",
      "98 \t47    \t0.94167 \t0.0845091 \t0.993158\n",
      "99 \t46    \t0.920308\t0.0705837 \t0.993158\n",
      "100\t40    \t0.896561\t0.319664  \t0.993158\n",
      "gen\tnevals\tavg\tmin\tmax\n",
      "0  \t75    \t0.5\t0.5\t0.5\n",
      "1  \t45    \t0.554675\t0.476541\t0.971452\n",
      "2  \t35    \t0.651557\t0.477562\t0.971452\n",
      "3  \t39    \t0.796127\t0.492663\t0.971452\n",
      "4  \t52    \t0.886706\t0.484514\t0.97675 \n",
      "5  \t44    \t0.898954\t0.461635\t0.97675 \n",
      "6  \t47    \t0.940615\t0.487154\t0.986388\n",
      "7  \t57    \t0.932882\t0.488986\t0.98797 \n",
      "8  \t45    \t0.962778\t0.5     \t0.98797 \n",
      "9  \t48    \t0.928767\t0.480628\t0.98822 \n",
      "10 \t49    \t0.946905\t0.481103\t0.98822 \n",
      "11 \t47    \t0.931998\t0.455727\t0.991687\n",
      "12 \t53    \t0.936661\t0.482024\t0.99192 \n",
      "13 \t55    \t0.959821\t0.482024\t0.991687\n",
      "14 \t43    \t0.945184\t0.482024\t0.991687\n",
      "15 \t41    \t0.949308\t0.427105\t0.991687\n",
      "16 \t43    \t0.961146\t0.498925\t0.991687\n",
      "17 \t41    \t0.937781\t0.497373\t0.991687\n",
      "18 \t44    \t0.987987\t0.886944\t0.991687\n",
      "19 \t48    \t0.970138\t0.495817\t0.991687\n",
      "20 \t38    \t0.966767\t0.495305\t0.991687\n",
      "21 \t43    \t0.960766\t0.498228\t0.991687\n",
      "22 \t42    \t0.965903\t0.49747 \t0.991687\n",
      "23 \t53    \t0.961503\t0.497619\t0.991687\n",
      "24 \t51    \t0.976505\t0.497054\t0.991687\n",
      "25 \t50    \t0.987261\t0.846614\t0.991687\n",
      "26 \t50    \t0.983458\t0.497942\t0.991687\n",
      "27 \t49    \t0.989633\t0.918244\t0.991904\n",
      "28 \t47    \t0.979763\t0.498955\t0.992051\n",
      "29 \t45    \t0.970977\t0.496124\t0.992051\n",
      "30 \t44    \t0.98169 \t0.638679\t0.992051\n",
      "31 \t45    \t0.982513\t0.499528\t0.992304\n",
      "32 \t35    \t0.969401\t0.496265\t0.992456\n",
      "33 \t50    \t0.987926\t0.731004\t0.992552\n",
      "34 \t38    \t0.984695\t0.498277\t0.992552\n",
      "35 \t53    \t0.959416\t0.499256\t0.992552\n",
      "36 \t44    \t0.949935\t0.483558\t0.992552\n",
      "37 \t48    \t0.963218\t0.484425\t0.992552\n",
      "38 \t54    \t0.969052\t0.498038\t0.992552\n",
      "39 \t44    \t0.990206\t0.892348\t0.992552\n",
      "40 \t44    \t0.974723\t0.498578\t0.992552\n",
      "41 \t47    \t0.963351\t0.49657 \t0.992552\n",
      "42 \t44    \t0.98076 \t0.567086\t0.992552\n",
      "43 \t54    \t0.960996\t0.498607\t0.992552\n",
      "44 \t43    \t0.981938\t0.498868\t0.992576\n",
      "45 \t54    \t0.967129\t0.495598\t0.992576\n",
      "46 \t49    \t0.970403\t0.49518 \t0.992576\n",
      "47 \t37    \t0.966582\t0.494125\t0.992576\n",
      "48 \t52    \t0.97159 \t0.498271\t0.992576\n",
      "49 \t51    \t0.965602\t0.496441\t0.992576\n",
      "50 \t40    \t0.970253\t0.497786\t0.992576\n",
      "51 \t34    \t0.977669\t0.499401\t0.992576\n",
      "52 \t49    \t0.98109 \t0.498022\t0.992576\n",
      "53 \t48    \t0.978043\t0.499514\t0.992576\n",
      "54 \t48    \t0.977843\t0.496854\t0.992576\n",
      "55 \t48    \t0.970807\t0.494831\t0.992579\n",
      "56 \t48    \t0.982388\t0.499684\t0.992579\n",
      "57 \t55    \t0.974191\t0.499684\t0.992579\n",
      "58 \t40    \t0.944943\t0.495228\t0.992579\n",
      "59 \t39    \t0.975123\t0.492495\t0.992579\n",
      "60 \t54    \t0.989201\t0.917014\t0.992579\n",
      "61 \t37    \t0.96509 \t0.496693\t0.992579\n",
      "62 \t44    \t0.99124 \t0.905351\t0.992579\n",
      "63 \t53    \t0.981398\t0.624274\t0.992579\n",
      "64 \t44    \t0.976541\t0.498618\t0.992579\n",
      "65 \t46    \t0.97732 \t0.494885\t0.992579\n",
      "66 \t48    \t0.960404\t0.498044\t0.992579\n",
      "67 \t45    \t0.983935\t0.604705\t0.992579\n",
      "68 \t43    \t0.974029\t0.498466\t0.992579\n",
      "69 \t37    \t0.978347\t0.497286\t0.992579\n",
      "70 \t47    \t0.988368\t0.791595\t0.992579\n",
      "71 \t44    \t0.972372\t0.496128\t0.992579\n",
      "72 \t40    \t0.983425\t0.705615\t0.992579\n",
      "73 \t43    \t0.98261 \t0.499841\t0.992579\n",
      "74 \t46    \t0.981695\t0.461812\t0.992579\n",
      "75 \t49    \t0.974087\t0.49868 \t0.992581\n",
      "76 \t35    \t0.973443\t0.496775\t0.992581\n",
      "77 \t42    \t0.980675\t0.499679\t0.992581\n",
      "78 \t42    \t0.963414\t0.498321\t0.992581\n",
      "79 \t36    \t0.984579\t0.499578\t0.992581\n",
      "80 \t36    \t0.984533\t0.49964 \t0.992581\n",
      "81 \t55    \t0.988197\t0.744665\t0.992581\n",
      "82 \t42    \t0.975094\t0.494693\t0.992581\n",
      "83 \t34    \t0.965291\t0.49794 \t0.992581\n",
      "84 \t35    \t0.955827\t0.488169\t0.992581\n",
      "85 \t43    \t0.973684\t0.497941\t0.992581\n",
      "86 \t52    \t0.962086\t0.496378\t0.992581\n",
      "87 \t46    \t0.972576\t0.499626\t0.992581\n",
      "88 \t45    \t0.953624\t0.496353\t0.992581\n",
      "89 \t47    \t0.968589\t0.496755\t0.992648\n",
      "90 \t46    \t0.966813\t0.498608\t0.992648\n",
      "91 \t37    \t0.972802\t0.499027\t0.992648\n",
      "92 \t49    \t0.977787\t0.528662\t0.992648\n",
      "93 \t47    \t0.982474\t0.497301\t0.992648\n",
      "94 \t41    \t0.974998\t0.495233\t0.992648\n",
      "95 \t43    \t0.985665\t0.499862\t0.992648\n",
      "96 \t40    \t0.952324\t0.498019\t0.992654\n",
      "97 \t54    \t0.958151\t0.494876\t0.992654\n",
      "98 \t29    \t0.985505\t0.499266\t0.992654\n",
      "99 \t49    \t0.955975\t0.498825\t0.992654\n",
      "100\t50    \t0.953899\t0.487374\t0.992654\n",
      "synthetic neighborhood class counts {'0': 32, '1': 9, '2': 6, '3': 6, '4': 93, '5': 2, '6': 90, '8': 36, '9': 41}\n",
      "learning local decision tree\n",
      "retrieving explanation\n",
      "--------------------------\n",
      "execution time:  128.39609932899475  sec\n",
      "e = {\n",
      "\tr = { 3 <= -1.03, 0 <= -0.25, 2 > -0.68 } --> { class: 4 }\n",
      "\tc = { { 0 > -0.25 } --> { class: 9 }, { 3 > 0.62 } --> { class: 6 } }    \n",
      "}\n",
      "--------------------------\n",
      "bb prediction of the image:  4 dt prediction:  4 fidelity:  0.9882179945572148\n",
      "latent space representation:  [-2.0828202  -0.31412625 -0.11486635 -1.6969308 ]\n"
     ]
    },
    {
     "data": {
      "image/png": "[encoded data removed]",
      "text/plain": [
       "<Figure size 720x360 with 2 Axes>"
      ]
     },
     "metadata": {
      "needs_background": "light"
     },
     "output_type": "display_data"
    }
   ],
   "source": [
    "import numpy as np\n",
    "import matplotlib.pyplot as plt\n",
    "import tensorflow as tf\n",
    "import time\n",
    "from skimage.color import gray2rgb, rgb2gray\n",
    "from skimage import feature, transform\n",
    "\n",
    "from externals.ABELE.ilore.ilorem import ILOREM\n",
    "from externals.ABELE.ilore.util import neuclidean\n",
    "from externals.ABELE.experiments.exputil import get_dataset\n",
    "from externals.ABELE.experiments.exputil import get_autoencoder\n",
    "\n",
    "import warnings\n",
    "warnings.filterwarnings('ignore')\n",
    "\n",
    "random_state = 0\n",
    "dataset = 'mnist' \n",
    "black_box = 'AB' #agnostic Black Box\n",
    "\n",
    "# load autoencoder and black box\n",
    "ae_name = 'aae' \n",
    "path = './' \n",
    "path_aemodels = path + 'models/abele/%s/%s/' % (dataset, ae_name)\n",
    "bb = tf.keras.models.load_model(\"./models/cnn_simple_mnist_no_pickle\")\n",
    "\n",
    "# defining a functions for bb to return the class index value\n",
    "def bb_predict(X):\n",
    "    X = X.astype(float)\n",
    "    Y = bb.predict(rgb2gray(X).reshape(-1,28,28,1))   \n",
    "    return np.argmax(Y, axis=1)\n",
    "\n",
    "# load data\n",
    "_, _, X_test, Y_test, _ = get_dataset(dataset)\n",
    "use_rgb = True\n",
    "\n",
    "# load auto encoder\n",
    "ae = get_autoencoder(X_test, ae_name, path_aemodels, dataset)\n",
    "ae.load_model()\n",
    "\n",
    "class_name = 'class'\n",
    "class_values = ['%s' % i for i in range(len(np.unique(Y_test)))]\n",
    "\n",
    "# time\n",
    "start = time.time()\n",
    "\n",
    "# create explainer\n",
    "\"\"\"\n",
    "Arguments:\n",
    "    bb_predict: function which return the prediction of the blackbox in form index of the class \n",
    "    class_name: name of the class used when printing rules (class_name: class_value)\n",
    "    class_values: list of names of the classes (class_name: class_value)\n",
    "    neigh_type: select the nighbourhood type,\n",
    "                supportecd types:\n",
    "                'gnt' : genetic\n",
    "                'rnd' : random\n",
    "                'hrg' : hybrid-random-genetic\n",
    "                'gntp': genetic probabilistic\n",
    "                'hrgp': hybrid probabilistic\n",
    "    ocr: [0.1] other class values, ratio of other class from the one predicted in the neighbourhood\n",
    "    kernel: [None] Kernel to weights the point in the nieghbourhood\n",
    "    kernel_width : [None]  \n",
    "    autoencoder: Autoencoder to generate the latent space points\n",
    "    use_rgb = [True] Set to True if the input images are rgb, False for grayscale\n",
    "    filter_crules: [None] if True Prototypes are checked by the black box to be the same class of the query image\n",
    "    random_state: set the seed of the random state\n",
    "    verbose: True if you want to print more informations\n",
    "    NEIGHBOURHOOD PARAMETERS: the following parameters are Neighbourhood specific and may not apply to all of the neighbourhood types\n",
    "        valid_thr: [0.5] threshold to change class in the autoencoder disciminator\n",
    "        alpha1: [0.5] weight of the feature similarity of the neighbourhood points\n",
    "        alpha2: [0.5] weight of the target similarity of the neighbourhood points\n",
    "        ngen: [100] number of generations of the genetic algorithm\n",
    "        mutpb: [0.2] The probability of mutating an individual in the genetic algorithm\n",
    "        cxpb: [0.5] The probability of mating two individuals in the genetic algorithm\n",
    "        tournsize: [3] number of tournaments in the genetic algorithm\n",
    "        hallooffame_ratio: [0.1] Fraction of exemplars to keep at every genetic generation\n",
    "\"\"\"\n",
    "explainer = ILOREM(bb_predict, \n",
    "                   class_name, \n",
    "                   class_values, \n",
    "                   neigh_type='hrg', \n",
    "                   ocr=0.1, #other class ratio in the neighbourhood\n",
    "                   kernel_width=None, \n",
    "                   kernel=None, \n",
    "                   autoencoder=ae, \n",
    "                   use_rgb=use_rgb, \n",
    "                   filter_crules=True, \n",
    "                   random_state=random_state, \n",
    "                   verbose=True, \n",
    "                   valid_thr=0.5,\n",
    "                   alpha1=0.5, \n",
    "                   alpha2=0.5, \n",
    "                   ngen=100, \n",
    "                   mutpb=0.2, \n",
    "                   cxpb=0.5, \n",
    "                   tournsize=3, \n",
    "                   halloffame_ratio=0.1)\n",
    "\n",
    "#generate explanation\n",
    "\"\"\"\n",
    "generate an explanation for a given image\n",
    "Arguments:\n",
    "    img: the image to explain\n",
    "    num_samples: [1000] number of samples to generate with the neighbourhood algorithm\n",
    "    use_weights: [True] if weights the points using distance\n",
    "Return:\n",
    "Explanation object compose by several things\n",
    "    rstr: string describing the rule\n",
    "    cstr: string describing the counterfactual rule\n",
    "    bb_pred: black box prediction of the image\n",
    "    dt_pred: decisoon tree prediction\n",
    "    fidelity: fidelity between black box and the decision tree\n",
    "    limg: latent space representation of the image\n",
    "\"\"\"\n",
    "exp = explainer.explain_instance(img, num_samples=300, use_weights=True, metric=neuclidean)\n",
    "\n",
    "# time\n",
    "end = time.time()\n",
    "print('--------------------------')\n",
    "print('execution time: ',end - start,' sec')\n",
    "print('e = {\\n\\tr = %s\\n\\tc = %s    \\n}' % (exp.rstr(), exp.cstr()))\n",
    "print('--------------------------')\n",
    "print('bb prediction of the image: ',exp.bb_pred,'dt prediction: ',exp.dt_pred,'fidelity: ',exp.fidelity)\n",
    "print('latent space representation: ',exp.limg)\n",
    "\n",
    "\"\"\"\n",
    "Arguments:\n",
    "    features: [None] list of which feature of the latent space to use, If None use all\n",
    "    samples: [10] number of prototype to use\n",
    "Return the image and the difference between the prototypes\n",
    "\"\"\"\n",
    "img2show, mask = exp.get_image_rule(features=None, samples=400)\n",
    "\n",
    "# Plot Script\n",
    "F, ax = plt.subplots(1,2, figsize=(10,5))\n",
    "if use_rgb:\n",
    "    ax[0].imshow(img2show)\n",
    "else:\n",
    "    ax[0].imshow(img2show, cmap='gray')\n",
    "bbo = bb_predict(np.array([img2show]))[0]\n",
    "ax[0].set_title('Image to explain - black box %s' % bbo)\n",
    "ax[0].axis('off')\n",
    "dx, dy = 0.05, 0.05\n",
    "xx = np.arange(0.0, img2show.shape[1], dx)\n",
    "yy = np.arange(0.0, img2show.shape[0], dy)\n",
    "xmin, xmax, ymin, ymax = np.amin(xx), np.amax(xx), np.amin(yy), np.amax(yy)\n",
    "extent = xmin, xmax, ymin, ymax\n",
    "cmap_xi = plt.get_cmap('Greys_r')\n",
    "cmap_xi.set_bad(alpha=0)\n",
    "# Compute edges (to overlay to heatmaps later)\n",
    "percentile = 100\n",
    "dilation = 3.0\n",
    "alpha = 0.8\n",
    "xi_greyscale = img2show if len(img2show.shape) == 2 else np.mean(img2show, axis=-1)\n",
    "in_image_upscaled = transform.rescale(xi_greyscale, dilation, mode='constant')\n",
    "edges = feature.canny(in_image_upscaled).astype(float)\n",
    "edges[edges < 0.5] = np.nan\n",
    "edges[:5, :] = np.nan\n",
    "edges[-5:, :] = np.nan\n",
    "edges[:, :5] = np.nan\n",
    "edges[:, -5:] = np.nan\n",
    "overlay = edges\n",
    "ax[1].imshow(mask, extent=extent, cmap=plt.cm.BrBG, alpha=1, vmin=0, vmax=255)\n",
    "ax[1].imshow(overlay, extent=extent, interpolation='none', cmap=cmap_xi, alpha=alpha)\n",
    "ax[1].axis('off')\n",
    "ax[1].set_title('Attention area respecting latent rule');"
   ]
  },
  {
   "cell_type": "markdown",
   "metadata": {
    "id": "l8GkWUyBrKQK"
   },
   "source": [
    "Green Points are the ones critical for the preditction, also called exemplars\n",
    "\n",
    "Yellow points are the ones who change class if activated\n",
    "\n",
    "White Points are do-nothing points"
   ]
  },
  {
   "cell_type": "code",
   "execution_count": 7,
   "metadata": {
    "colab": {
     "base_uri": "https://localhost:8080/",
     "height": 255
    },
    "id": "buFP1Jo3rKQK",
    "outputId": "a1a33b0f-61ea-4da9-d314-6864e5b8082c"
   },
   "outputs": [
    {
     "data": {
      "image/png": "[encoded data removed]",
      "text/plain": [
       "<Figure size 2160x360 with 5 Axes>"
      ]
     },
     "metadata": {
      "needs_background": "light"
     },
     "output_type": "display_data"
    }
   ],
   "source": [
    "\"\"\"\n",
    "Return the prototypes images\n",
    "Arguments:\n",
    "    num_prototypes: [5] number of prototypes to return\n",
    "    return_latent: [False] if True return latent representation\n",
    "    return_diff: [False] If True return the difference with the query image\n",
    "    features: [None] list of the features int he latent space to use, if none use all\n",
    "\"\"\"\n",
    "proto = exp.get_prototypes_respecting_rule(num_prototypes=5)\n",
    "\n",
    "F, ax = plt.subplots(1,5,figsize=(30,5))\n",
    "for i in range(5):\n",
    "    ax[i].imshow(proto[i]/255)\n",
    "    ax[i].axis('off')\n",
    "    ax[i].set_title('model prediction: '+str(bb_predict(proto[i])[0]))"
   ]
  },
  {
   "cell_type": "code",
   "execution_count": 8,
   "metadata": {
    "colab": {
     "base_uri": "https://localhost:8080/",
     "height": 319
    },
    "id": "5Rw-hOOcrKQK",
    "outputId": "61315ad2-3125-4fbb-891a-592c6af0fbc1"
   },
   "outputs": [
    {
     "data": {
      "image/png": "[encoded data removed]",
      "text/plain": [
       "<Figure size 2160x360 with 2 Axes>"
      ]
     },
     "metadata": {
      "needs_background": "light"
     },
     "output_type": "display_data"
    }
   ],
   "source": [
    "\"\"\"\n",
    "Return the couterfactuals satisfying the counterfactual rule\n",
    "\"\"\"\n",
    "counter = exp.get_counterfactual_prototypes()\n",
    "\n",
    "F, ax = plt.subplots(1,len(counter),figsize=(30,5))\n",
    "if len(counter)==0:\n",
    "    print('no counterfactual found')\n",
    "elif len(counter)==1:\n",
    "    plt.imshow(counter[0]/255)\n",
    "    plt.axis('off')\n",
    "    plt.set_title('model prediction: '+str(bb_predict(counter[0])[0]))    \n",
    "for i in range(len(counter)):\n",
    "    ax[i].imshow(counter[i]/255)\n",
    "    ax[i].axis('off')\n",
    "    ax[i].set_title('model prediction: '+str(bb_predict(counter[i])[0]))"
   ]
  },
  {
   "cell_type": "markdown",
   "metadata": {
    "id": "JJHaTkYprKQK"
   },
   "source": [
    "#### Custom model example"
   ]
  },
  {
   "cell_type": "code",
   "execution_count": null,
   "metadata": {
    "id": "g67FCzFcrKQK",
    "outputId": "bfc1c905-a523-4de2-a9f1-3d144c48d533"
   },
   "outputs": [
    {
     "name": "stdout",
     "output_type": "stream",
     "text": [
      "Model: \"sequential_2\"\n",
      "_________________________________________________________________\n",
      "Layer (type)                 Output Shape              Param #   \n",
      "=================================================================\n",
      "dense_10 (Dense)             (None, 128)               1408      \n",
      "_________________________________________________________________\n",
      "leaky_re_lu_6 (LeakyReLU)    (None, 128)               0         \n",
      "_________________________________________________________________\n",
      "dense_11 (Dense)             (None, 64)                8256      \n",
      "_________________________________________________________________\n",
      "leaky_re_lu_7 (LeakyReLU)    (None, 64)                0         \n",
      "_________________________________________________________________\n",
      "dense_12 (Dense)             (None, 1)                 65        \n",
      "=================================================================\n",
      "Total params: 9,729\n",
      "Trainable params: 9,729\n",
      "Non-trainable params: 0\n",
      "_________________________________________________________________\n",
      "Model: \"model_5\"\n",
      "__________________________________________________________________________________________________\n",
      "Layer (type)                    Output Shape         Param #     Connected to                     \n",
      "==================================================================================================\n",
      "input_6 (InputLayer)            [(None, 28, 28, 1)]  0                                            \n",
      "__________________________________________________________________________________________________\n",
      "conv2d (Conv2D)                 (None, 14, 14, 32)   160         input_6[0][0]                    \n",
      "__________________________________________________________________________________________________\n",
      "conv2d_1 (Conv2D)               (None, 14, 14, 32)   9248        conv2d[0][0]                     \n",
      "__________________________________________________________________________________________________\n",
      "conv2d_2 (Conv2D)               (None, 14, 14, 32)   9248        conv2d_1[0][0]                   \n",
      "__________________________________________________________________________________________________\n",
      "flatten_1 (Flatten)             (None, 6272)         0           conv2d_2[0][0]                   \n",
      "__________________________________________________________________________________________________\n",
      "dense_13 (Dense)                (None, 128)          802944      flatten_1[0][0]                  \n",
      "__________________________________________________________________________________________________\n",
      "dense_14 (Dense)                (None, 10)           1290        dense_13[0][0]                   \n",
      "__________________________________________________________________________________________________\n",
      "dense_15 (Dense)                (None, 10)           1290        dense_13[0][0]                   \n",
      "__________________________________________________________________________________________________\n",
      "lambda_1 (Lambda)               (None, 10)           0           dense_14[0][0]                   \n",
      "                                                                 dense_15[0][0]                   \n",
      "==================================================================================================\n",
      "Total params: 824,180\n",
      "Trainable params: 824,180\n",
      "Non-trainable params: 0\n",
      "__________________________________________________________________________________________________\n",
      "Model: \"model_6\"\n",
      "_________________________________________________________________\n",
      "Layer (type)                 Output Shape              Param #   \n",
      "=================================================================\n",
      "input_7 (InputLayer)         [(None, 10)]              0         \n",
      "_________________________________________________________________\n",
      "dense_16 (Dense)             (None, 128)               1408      \n",
      "_________________________________________________________________\n",
      "dense_17 (Dense)             (None, 6272)              809088    \n",
      "_________________________________________________________________\n",
      "reshape_1 (Reshape)          (None, 14, 14, 32)        0         \n",
      "_________________________________________________________________\n",
      "conv2d_transpose (Conv2DTran (None, 14, 14, 32)        9248      \n",
      "_________________________________________________________________\n",
      "conv2d_transpose_1 (Conv2DTr (None, 14, 14, 32)        9248      \n",
      "_________________________________________________________________\n",
      "conv2d_transpose_2 (Conv2DTr (None, 28, 28, 1)         129       \n",
      "=================================================================\n",
      "Total params: 829,121\n",
      "Trainable params: 829,121\n",
      "Non-trainable params: 0\n",
      "_________________________________________________________________\n",
      "Model: \"model_7\"\n",
      "__________________________________________________________________________________________________\n",
      "Layer (type)                    Output Shape         Param #     Connected to                     \n",
      "==================================================================================================\n",
      "input_8 (InputLayer)            [(None, 28, 28, 1)]  0                                            \n",
      "__________________________________________________________________________________________________\n",
      "model_5 (Functional)            (None, 10)           824180      input_8[0][0]                    \n",
      "__________________________________________________________________________________________________\n",
      "model_6 (Functional)            (None, 28, 28, 1)    829121      model_5[0][0]                    \n",
      "__________________________________________________________________________________________________\n",
      "model_4 (Functional)            (None, 1)            9729        model_5[0][0]                    \n",
      "==================================================================================================\n",
      "Total params: 1,663,030\n",
      "Trainable params: 1,653,301\n",
      "Non-trainable params: 9,729\n",
      "__________________________________________________________________________________________________\n",
      "Epoch 0/2000, 1.63 [D loss: 0.732403, acc: 45.31%] [G loss: 0.230978, mse: 0.230649]\n",
      "Epoch 50/2000, 0.04 [D loss: 0.333145, acc: 85.16%] [G loss: 0.070948, mse: 0.067716]\n",
      "Epoch 100/2000, 0.04 [D loss: 0.434846, acc: 79.69%] [G loss: 0.068094, mse: 0.065987]\n",
      "Epoch 150/2000, 0.05 [D loss: 0.528643, acc: 62.50%] [G loss: 0.063855, mse: 0.061877]\n",
      "Epoch 200/2000, 0.04 [D loss: 0.387076, acc: 85.94%] [G loss: 0.055891, mse: 0.054043]\n",
      "Epoch 250/2000, 0.04 [D loss: 0.447231, acc: 82.03%] [G loss: 0.040057, mse: 0.038449]\n",
      "Epoch 300/2000, 0.04 [D loss: 0.409725, acc: 83.59%] [G loss: 0.034594, mse: 0.032715]\n",
      "Epoch 350/2000, 0.04 [D loss: 0.357502, acc: 92.19%] [G loss: 0.033375, mse: 0.031525]\n",
      "Epoch 400/2000, 0.04 [D loss: 0.364928, acc: 92.19%] [G loss: 0.027411, mse: 0.025878]\n",
      "Epoch 450/2000, 0.04 [D loss: 0.339087, acc: 95.31%] [G loss: 0.025858, mse: 0.024106]\n",
      "Epoch 500/2000, 0.04 [D loss: 0.362188, acc: 89.06%] [G loss: 0.024616, mse: 0.023065]\n",
      "Epoch 550/2000, 0.04 [D loss: 0.373922, acc: 92.19%] [G loss: 0.024197, mse: 0.022705]\n",
      "Epoch 600/2000, 0.04 [D loss: 0.374863, acc: 89.06%] [G loss: 0.023061, mse: 0.021547]\n",
      "Epoch 650/2000, 0.04 [D loss: 0.399143, acc: 85.94%] [G loss: 0.021857, mse: 0.020557]\n",
      "Epoch 700/2000, 0.04 [D loss: 0.489794, acc: 79.69%] [G loss: 0.023205, mse: 0.022063]\n",
      "Epoch 750/2000, 0.04 [D loss: 0.520082, acc: 74.22%] [G loss: 0.021414, mse: 0.020394]\n",
      "Epoch 800/2000, 0.05 [D loss: 0.558193, acc: 71.88%] [G loss: 0.020084, mse: 0.019069]\n",
      "Epoch 850/2000, 0.04 [D loss: 0.621644, acc: 68.75%] [G loss: 0.018644, mse: 0.017743]\n",
      "Epoch 900/2000, 0.04 [D loss: 0.561732, acc: 71.88%] [G loss: 0.021056, mse: 0.020133]\n",
      "Epoch 950/2000, 0.04 [D loss: 0.664300, acc: 62.50%] [G loss: 0.021088, mse: 0.020305]\n",
      "Epoch 1000/2000, 0.04 [D loss: 0.683637, acc: 61.72%] [G loss: 0.019658, mse: 0.018875]\n",
      "Epoch 1050/2000, 0.04 [D loss: 0.632663, acc: 59.38%] [G loss: 0.019155, mse: 0.018293]\n",
      "Epoch 1100/2000, 0.04 [D loss: 0.630211, acc: 65.62%] [G loss: 0.022296, mse: 0.021558]\n",
      "Epoch 1150/2000, 0.04 [D loss: 0.697111, acc: 57.81%] [G loss: 0.019054, mse: 0.018317]\n",
      "Epoch 1200/2000, 0.05 [D loss: 0.711657, acc: 60.94%] [G loss: 0.019168, mse: 0.018410]\n",
      "Epoch 1250/2000, 0.05 [D loss: 0.724193, acc: 55.47%] [G loss: 0.020971, mse: 0.020197]\n",
      "Epoch 1300/2000, 0.04 [D loss: 0.680990, acc: 61.72%] [G loss: 0.016847, mse: 0.016068]\n",
      "Epoch 1350/2000, 0.06 [D loss: 0.653335, acc: 63.28%] [G loss: 0.018187, mse: 0.017387]\n",
      "Epoch 1400/2000, 0.05 [D loss: 0.649346, acc: 63.28%] [G loss: 0.018106, mse: 0.017283]\n",
      "Epoch 1450/2000, 0.11 [D loss: 0.651971, acc: 62.50%] [G loss: 0.018166, mse: 0.017399]\n",
      "Epoch 1500/2000, 0.05 [D loss: 0.633792, acc: 67.97%] [G loss: 0.018201, mse: 0.017450]\n",
      "Epoch 1550/2000, 0.05 [D loss: 0.654194, acc: 62.50%] [G loss: 0.019153, mse: 0.018346]\n",
      "Epoch 1600/2000, 0.04 [D loss: 0.675750, acc: 53.91%] [G loss: 0.017323, mse: 0.016556]\n",
      "Epoch 1650/2000, 0.04 [D loss: 0.606922, acc: 69.53%] [G loss: 0.017229, mse: 0.016414]\n",
      "Epoch 1700/2000, 0.04 [D loss: 0.623908, acc: 63.28%] [G loss: 0.016968, mse: 0.016162]\n",
      "Epoch 1750/2000, 0.04 [D loss: 0.642196, acc: 61.72%] [G loss: 0.017048, mse: 0.016318]\n",
      "Epoch 1800/2000, 0.04 [D loss: 0.647591, acc: 62.50%] [G loss: 0.018657, mse: 0.017837]\n",
      "Epoch 1850/2000, 0.04 [D loss: 0.587968, acc: 75.00%] [G loss: 0.015307, mse: 0.014413]\n",
      "Epoch 1900/2000, 0.04 [D loss: 0.676975, acc: 59.38%] [G loss: 0.015772, mse: 0.015015]\n",
      "Epoch 1950/2000, 0.04 [D loss: 0.624650, acc: 65.62%] [G loss: 0.015521, mse: 0.014705]\n"
     ]
    }
   ],
   "source": [
    "import sys\n",
    "import os\n",
    "from externals.ABELE.experiments.exputil import get_autoencoder\n",
    "from externals.ABELE.experiments.exputil import get_dataset\n",
    "import shap\n",
    "import warnings\n",
    "warnings.filterwarnings('ignore')\n",
    "import tensorflow as tf\n",
    "\n",
    "#disable eager execution for faster training time\n",
    "from tensorflow.python.framework.ops import disable_eager_execution\n",
    "disable_eager_execution()\n",
    "\n",
    "# The dataset to use for training\n",
    "# if you prefer to use yours load the data in two vector X_data and Y_data, set dataset variable to a custom name and custom_dataset to True\n",
    "dataset = 'custom'\n",
    "custom_dataset = True\n",
    "if not custom_dataset:\n",
    "    _, _, X_test, Y_test, use_rgb = get_dataset(dataset)\n",
    "\n",
    "(_, _), (X_test, Y_test) = tf.keras.datasets.mnist.load_data()\n",
    "X_test = (X_test/255).reshape(-1,28,28,1)\n",
    "\n",
    "# The type of autoencoder to train ['aae','vae']\n",
    "ae_name = 'aae'\n",
    "\n",
    "# This script will save the models weights in the folder ./path/models/abele/dataset/ae_name\n",
    "path = './'\n",
    "path_aemodels = path + 'models/abele/%s/%s/' % (dataset,ae_name)\n",
    "if not os.path.exists(path_aemodels):\n",
    "    os.makedirs(path_aemodels)\n",
    "\n",
    "# HYPER-PARAMETERS\n",
    "#define the epochs and the batch size for which the autoencoder will be trained\n",
    "epochs = 2000\n",
    "batch_size = 64\n",
    "#Print training summary every sample_interval step\n",
    "sample_interval = 50\n",
    "\n",
    "\"\"\"\n",
    " Get_autoencoder create the autoencoder class to train\n",
    " Arguments: \n",
    "    X: dataset to use to train the ae \n",
    "    ae_name: type of the autoencoder to train, only adversarial autoencoder (aae) and variational autoencoder (vae) are supported\n",
    "    path_aemodels: path where to save the weights\n",
    "    dataset: name of the dataset to use\n",
    "    OPTIONAL:\n",
    "    latent_dim: latent space dimension (only use if dataset is custom)\n",
    "    hidden_dim: hidden dimension of the autoencoders layers (ex: 1024 will create two layers of 1024 hidden units) (only use if dataset is custom)\n",
    "    num_filters: number of filter to use in the convolutional layers (only use if dataset is custom)\n",
    "\"\"\"\n",
    "ae = get_autoencoder(X_test, ae_name, path_aemodels, dataset, latent_dim=10, hidden_dim=128, num_filters=16, use_rgb=False)\n",
    "\"\"\" Fit method\n",
    " Arguments: \n",
    "    X: Dataset to use to train the ae\n",
    "    epochs: Epochs to train\n",
    "    batch_size\n",
    "    sample interval (see before)\n",
    "\"\"\"\n",
    "ae.fit(X_test, epochs=epochs, batch_size=batch_size, sample_interval=sample_interval)\n",
    "# save the weights in the path specified before\n",
    "ae.save_model()\n",
    "# save some sample images of the final epoch to test if the autoencoder has trained correctly\n",
    "ae.sample_images(epochs)"
   ]
  },
  {
   "cell_type": "markdown",
   "metadata": {
    "id": "Q-WhpwRZrKQL"
   },
   "source": [
    "### 2) Generating Explanations"
   ]
  },
  {
   "cell_type": "code",
   "execution_count": null,
   "metadata": {
    "id": "h_RpGNiUrKQL",
    "outputId": "015053cd-a08a-422c-ea66-4624609bb407"
   },
   "outputs": [
    {
     "name": "stdout",
     "output_type": "stream",
     "text": [
      "./models/abele/custom/aae/\n",
      "custom\n",
      "generating neighborhood - hrg\n",
      "gen\tnevals\tavg     \tmin     \tmax     \n",
      "0  \t250   \t0.496654\t0.496654\t0.496654\n",
      "1  \t145   \t0.54178 \t0.11501 \t0.991163\n",
      "2  \t162   \t0.650125\t0.20239 \t0.993298\n",
      "3  \t125   \t0.842789\t0.257448\t0.993298\n",
      "4  \t155   \t0.920559\t0.241609\t0.993306\n",
      "5  \t154   \t0.929829\t0.166677\t0.993306\n",
      "6  \t127   \t0.949359\t0.217098\t0.993306\n",
      "7  \t141   \t0.929717\t0.152925\t0.993306\n",
      "8  \t129   \t0.936843\t0.31149 \t0.993306\n",
      "9  \t154   \t0.917172\t0.334342\t0.993306\n",
      "10 \t143   \t0.934204\t0.1259  \t0.993306\n",
      "11 \t156   \t0.909883\t0.15621 \t0.993306\n",
      "12 \t147   \t0.934008\t0.196246\t0.993306\n",
      "13 \t154   \t0.933711\t0.325197\t0.993306\n",
      "14 \t139   \t0.943742\t0.164501\t0.993306\n",
      "15 \t140   \t0.922864\t0.232102\t0.993306\n",
      "16 \t156   \t0.941807\t0.308765\t0.993306\n",
      "17 \t161   \t0.924797\t0.0567546\t0.993306\n",
      "18 \t166   \t0.915068\t0.122795 \t0.993306\n",
      "19 \t151   \t0.924286\t0.289667 \t0.993306\n",
      "20 \t160   \t0.926573\t0.313448 \t0.993306\n",
      "21 \t125   \t0.946051\t0.335738 \t0.993306\n",
      "22 \t151   \t0.946579\t0.345524 \t0.993306\n",
      "23 \t154   \t0.934482\t0.174861 \t0.993306\n",
      "24 \t156   \t0.945534\t0.271137 \t0.993306\n",
      "25 \t151   \t0.944475\t0.297142 \t0.993306\n",
      "26 \t141   \t0.93015 \t0.0940388\t0.993306\n",
      "27 \t151   \t0.936092\t0.122952 \t0.993306\n",
      "28 \t151   \t0.926013\t0.199053 \t0.993306\n",
      "29 \t119   \t0.931195\t0.241652 \t0.993306\n",
      "30 \t157   \t0.942212\t0.200076 \t0.993306\n",
      "31 \t162   \t0.943419\t0.313261 \t0.993306\n",
      "32 \t151   \t0.934583\t0.251434 \t0.993306\n",
      "33 \t143   \t0.953614\t0.353842 \t0.993306\n",
      "34 \t171   \t0.933485\t0.163305 \t0.993306\n",
      "35 \t154   \t0.930157\t0.262977 \t0.993306\n",
      "36 \t170   \t0.938263\t0.200666 \t0.993306\n",
      "37 \t159   \t0.906101\t0.236626 \t0.993306\n",
      "38 \t127   \t0.940236\t0.335157 \t0.993306\n",
      "39 \t152   \t0.940126\t0.263222 \t0.993306\n",
      "40 \t148   \t0.944149\t0.337725 \t0.993306\n",
      "41 \t151   \t0.926615\t0.0301158\t0.993306\n",
      "42 \t137   \t0.937951\t0.322494 \t0.993306\n",
      "43 \t144   \t0.939725\t0.24091  \t0.993306\n",
      "44 \t156   \t0.938987\t0.1149   \t0.993306\n",
      "45 \t156   \t0.941631\t0.348226 \t0.993306\n",
      "46 \t131   \t0.954652\t0.325622 \t0.993306\n",
      "47 \t158   \t0.948913\t0.298124 \t0.993306\n",
      "48 \t138   \t0.936418\t0.202175 \t0.993306\n",
      "49 \t149   \t0.933971\t0.206753 \t0.993306\n",
      "50 \t152   \t0.928756\t0.148435 \t0.993306\n",
      "51 \t150   \t0.93173 \t0.229692 \t0.993306\n",
      "52 \t138   \t0.94503 \t0.351437 \t0.993306\n",
      "53 \t135   \t0.925358\t0.0687762\t0.993306\n",
      "54 \t154   \t0.940366\t0.178622 \t0.993306\n",
      "55 \t158   \t0.917052\t0.11594  \t0.993306\n",
      "56 \t147   \t0.943295\t0.331557 \t0.993306\n",
      "57 \t153   \t0.938677\t0.203618 \t0.993306\n",
      "58 \t160   \t0.937619\t0.273097 \t0.993306\n",
      "59 \t146   \t0.944441\t0.38605  \t0.993306\n",
      "60 \t159   \t0.930601\t0.232238 \t0.993306\n",
      "61 \t146   \t0.934732\t0.185553 \t0.993306\n",
      "62 \t150   \t0.922776\t0.0963296\t0.993306\n",
      "63 \t152   \t0.91157 \t0.167175 \t0.993306\n",
      "64 \t170   \t0.903263\t0.11959  \t0.993306\n",
      "65 \t153   \t0.92905 \t0.173291 \t0.993306\n",
      "66 \t143   \t0.932189\t0.270122 \t0.993306\n",
      "67 \t141   \t0.941626\t0.278144 \t0.993306\n",
      "68 \t169   \t0.943487\t0.262289 \t0.993306\n",
      "69 \t153   \t0.934265\t0.290072 \t0.993306\n",
      "70 \t152   \t0.939264\t0.242893 \t0.993306\n",
      "71 \t155   \t0.933394\t0.312522 \t0.993306\n",
      "72 \t151   \t0.926387\t0.174491 \t0.993306\n",
      "73 \t151   \t0.922941\t0.23925  \t0.993306\n",
      "74 \t132   \t0.943783\t0.30019  \t0.993306\n",
      "75 \t134   \t0.948722\t0.0969948\t0.993306\n",
      "76 \t151   \t0.937825\t0.269757 \t0.993306\n",
      "77 \t132   \t0.920151\t0.277938 \t0.993306\n",
      "78 \t167   \t0.940211\t0.246491 \t0.993306\n",
      "79 \t147   \t0.949078\t0.298619 \t0.993306\n",
      "80 \t161   \t0.938295\t0.303886 \t0.993306\n",
      "81 \t149   \t0.93031 \t0.269116 \t0.993306\n",
      "82 \t145   \t0.918256\t0.196443 \t0.993306\n",
      "83 \t147   \t0.952815\t0.213635 \t0.993306\n",
      "84 \t136   \t0.927811\t0.205061 \t0.993306\n",
      "85 \t154   \t0.924257\t0.25487  \t0.993306\n",
      "86 \t155   \t0.950366\t0.228371 \t0.993306\n",
      "87 \t132   \t0.941229\t0.142295 \t0.993306\n",
      "88 \t155   \t0.938754\t0.29476  \t0.993306\n",
      "89 \t136   \t0.947591\t0.2242   \t0.993306\n",
      "90 \t170   \t0.921763\t0.210185 \t0.993306\n",
      "91 \t136   \t0.941856\t0.279319 \t0.993306\n",
      "92 \t157   \t0.935576\t0.37348  \t0.993306\n",
      "93 \t143   \t0.9318  \t0.131742 \t0.993306\n",
      "94 \t155   \t0.942628\t0.216696 \t0.993306\n",
      "95 \t155   \t0.947849\t0.367944 \t0.993306\n",
      "96 \t159   \t0.937044\t0.234829 \t0.993306\n",
      "97 \t160   \t0.927582\t0.133836 \t0.993306\n",
      "98 \t161   \t0.940793\t0.323855 \t0.993306\n",
      "99 \t137   \t0.938226\t0.165159 \t0.993306\n",
      "100\t153   \t0.943416\t0.25931  \t0.993306\n",
      "gen\tnevals\tavg\tmin\tmax\n",
      "0  \t250   \t0.5\t0.5\t0.5\n",
      "1  \t130   \t0.525645\t0.404008\t0.977891\n",
      "2  \t144   \t0.61078 \t0.4346  \t0.982987\n",
      "3  \t162   \t0.748858\t0.40272 \t0.987506\n",
      "4  \t172   \t0.874886\t0.280986\t0.9857  \n",
      "5  \t145   \t0.927361\t0.477381\t0.986414\n",
      "6  \t165   \t0.93129 \t0.328352\t0.986654\n",
      "7  \t169   \t0.926918\t0.415756\t0.986654\n",
      "8  \t148   \t0.944638\t0.466666\t0.989552\n",
      "9  \t138   \t0.945596\t0.466052\t0.989552\n",
      "10 \t150   \t0.953558\t0.44971 \t0.989552\n",
      "11 \t146   \t0.954888\t0.479712\t0.989552\n",
      "12 \t147   \t0.941479\t0.373145\t0.989552\n",
      "13 \t140   \t0.938281\t0.435343\t0.989552\n",
      "14 \t148   \t0.930445\t0.4703  \t0.989552\n",
      "15 \t156   \t0.929103\t0.474126\t0.989552\n",
      "16 \t143   \t0.9521  \t0.476175\t0.989552\n",
      "17 \t140   \t0.944043\t0.471854\t0.989552\n",
      "18 \t160   \t0.95185 \t0.405602\t0.989552\n",
      "19 \t160   \t0.946357\t0.482353\t0.989552\n",
      "20 \t163   \t0.955057\t0.452888\t0.989552\n",
      "21 \t152   \t0.962199\t0.45987 \t0.989552\n",
      "22 \t133   \t0.953208\t0.442404\t0.989552\n",
      "23 \t139   \t0.953476\t0.475988\t0.989552\n",
      "24 \t143   \t0.947237\t0.43254 \t0.989552\n",
      "25 \t131   \t0.946264\t0.374142\t0.989552\n",
      "26 \t153   \t0.950895\t0.418844\t0.989552\n",
      "27 \t160   \t0.951494\t0.457736\t0.989552\n",
      "28 \t141   \t0.959224\t0.467044\t0.989552\n",
      "29 \t150   \t0.946882\t0.45941 \t0.989552\n",
      "30 \t148   \t0.95439 \t0.475153\t0.989552\n",
      "31 \t167   \t0.955397\t0.463156\t0.989552\n",
      "32 \t152   \t0.948744\t0.468945\t0.989552\n",
      "33 \t159   \t0.951345\t0.409219\t0.989552\n",
      "34 \t149   \t0.948323\t0.435637\t0.989552\n",
      "35 \t138   \t0.937575\t0.462381\t0.989552\n",
      "36 \t159   \t0.963194\t0.460658\t0.989552\n",
      "37 \t142   \t0.95049 \t0.436879\t0.989552\n",
      "38 \t150   \t0.947919\t0.451617\t0.989552\n",
      "39 \t152   \t0.948389\t0.413656\t0.989552\n",
      "40 \t154   \t0.948377\t0.456671\t0.989552\n",
      "41 \t148   \t0.952006\t0.476457\t0.989552\n",
      "42 \t147   \t0.947691\t0.485744\t0.989552\n",
      "43 \t147   \t0.938559\t0.457049\t0.989552\n",
      "44 \t136   \t0.942989\t0.448924\t0.989552\n",
      "45 \t143   \t0.946943\t0.426307\t0.989552\n",
      "46 \t146   \t0.941272\t0.464663\t0.989552\n",
      "47 \t154   \t0.959134\t0.442659\t0.989552\n",
      "48 \t144   \t0.945717\t0.370323\t0.989552\n",
      "49 \t146   \t0.939807\t0.462828\t0.989552\n",
      "50 \t159   \t0.952866\t0.470294\t0.989552\n",
      "51 \t133   \t0.953681\t0.409606\t0.989552\n",
      "52 \t151   \t0.942331\t0.454437\t0.989552\n",
      "53 \t148   \t0.964972\t0.472582\t0.989552\n",
      "54 \t167   \t0.952944\t0.444728\t0.989552\n",
      "55 \t139   \t0.954166\t0.423003\t0.989552\n",
      "56 \t161   \t0.943609\t0.471525\t0.989552\n",
      "57 \t154   \t0.931803\t0.348635\t0.989552\n",
      "58 \t161   \t0.925056\t0.460343\t0.989552\n",
      "59 \t154   \t0.95115 \t0.461168\t0.989552\n",
      "60 \t150   \t0.942284\t0.426551\t0.989565\n",
      "61 \t156   \t0.945799\t0.400459\t0.989568\n",
      "62 \t159   \t0.946643\t0.461932\t0.989568\n",
      "63 \t156   \t0.932455\t0.354927\t0.989568\n",
      "64 \t149   \t0.968108\t0.415196\t0.989568\n",
      "65 \t149   \t0.9571  \t0.461853\t0.989568\n",
      "66 \t133   \t0.958297\t0.464326\t0.989568\n",
      "67 \t137   \t0.961111\t0.447736\t0.989588\n",
      "68 \t157   \t0.95426 \t0.453929\t0.989588\n",
      "69 \t124   \t0.958528\t0.466107\t0.989592\n",
      "70 \t156   \t0.96065 \t0.454441\t0.989592\n",
      "71 \t156   \t0.963653\t0.468094\t0.989615\n",
      "72 \t167   \t0.961843\t0.471316\t0.989615\n",
      "73 \t168   \t0.968393\t0.477313\t0.989615\n",
      "74 \t172   \t0.95621 \t0.480144\t0.989634\n",
      "75 \t145   \t0.959254\t0.477393\t0.989634\n",
      "76 \t137   \t0.942286\t0.464504\t0.989634\n",
      "77 \t146   \t0.94812 \t0.442318\t0.989634\n",
      "78 \t140   \t0.95985 \t0.482639\t0.989634\n",
      "79 \t164   \t0.953279\t0.470558\t0.989634\n",
      "80 \t152   \t0.969833\t0.477231\t0.989634\n",
      "81 \t127   \t0.951838\t0.473472\t0.989634\n",
      "82 \t148   \t0.961509\t0.482453\t0.989634\n",
      "83 \t152   \t0.956774\t0.421623\t0.989634\n",
      "84 \t157   \t0.951873\t0.457964\t0.989634\n",
      "85 \t152   \t0.971775\t0.44729 \t0.989634\n",
      "86 \t132   \t0.958822\t0.464577\t0.989634\n",
      "87 \t147   \t0.966178\t0.484116\t0.989652\n",
      "88 \t138   \t0.967107\t0.471088\t0.989652\n",
      "89 \t166   \t0.961449\t0.470278\t0.989652\n",
      "90 \t142   \t0.9593  \t0.457965\t0.989652\n",
      "91 \t152   \t0.958661\t0.454366\t0.989652\n",
      "92 \t142   \t0.963067\t0.458034\t0.989652\n",
      "93 \t145   \t0.955263\t0.474743\t0.989665\n",
      "94 \t142   \t0.952079\t0.472675\t0.989665\n",
      "95 \t158   \t0.956414\t0.421836\t0.989665\n",
      "96 \t149   \t0.959509\t0.469987\t0.989665\n",
      "97 \t138   \t0.960597\t0.46754 \t0.989669\n",
      "98 \t148   \t0.958195\t0.474727\t0.989669\n",
      "99 \t169   \t0.967506\t0.462798\t0.98971 \n",
      "100\t160   \t0.957085\t0.460734\t0.98971 \n",
      "synthetic neighborhood class counts {'0': 40, '1': 39, '2': 312, '3': 79, '4': 320, '5': 42, '6': 43, '7': 55, '8': 43, '9': 76}\n",
      "learning local decision tree\n",
      "retrieving explanation\n",
      "--------------------------\n",
      "execution time:  158.1682550907135  sec\n",
      "e = {\n",
      "\tr = { 0 <= -0.97, 6 > 0.75, 8 > -0.11, 4 > -1.43, 2 <= 0.55, 5 > -0.65 } --> { class: 4 }\n",
      "\tc = { { 8 <= -1.71 } --> { class: 0 }, { 6 <= -0.83 } --> { class: 9 }, { 4 <= -1.43 } --> { class: 2 } }    \n",
      "}\n",
      "--------------------------\n",
      "bb prediction of reconstructed image:  4 dt prediction:  4 fidelity:  0.8975664112073809\n",
      "latent space representation:  [-0.99956757  0.4914325  -0.13953148 -0.542193    0.70593727  0.8907421\n",
      "  0.71229637  0.5704517   1.3676549  -0.23353569]\n"
     ]
    },
    {
     "data": {
      "image/png": "[encoded data removed]",
      "text/plain": [
       "<Figure size 720x360 with 2 Axes>"
      ]
     },
     "metadata": {
      "needs_background": "light"
     },
     "output_type": "display_data"
    }
   ],
   "source": [
    "import numpy as np\n",
    "import matplotlib.pyplot as plt\n",
    "import tensorflow as tf\n",
    "import time\n",
    "from skimage.color import gray2rgb, rgb2gray\n",
    "from skimage import feature, transform\n",
    "#disable eager execution in tensorflow 2.x for faster training time\n",
    "from tensorflow.python.framework.ops import disable_eager_execution\n",
    "disable_eager_execution()\n",
    "\n",
    "from externals.ABELE.ilore.ilorem import ILOREM\n",
    "from externals.ABELE.ilore.util import neuclidean\n",
    "\n",
    "from externals.ABELE.experiments.exputil import get_dataset\n",
    "from externals.ABELE.experiments.exputil import get_autoencoder\n",
    "\n",
    "import warnings\n",
    "warnings.filterwarnings('ignore')\n",
    "\n",
    "random_state = 0\n",
    "dataset = 'custom' \n",
    "black_box = 'AB' #agnostic Black Box\n",
    "\n",
    "# load autoencoder and black box\n",
    "ae_name = 'aae' \n",
    "path = './' \n",
    "path_aemodels = path + 'models/abele/%s/%s/' % (dataset, ae_name)\n",
    "bb = tf.keras.models.load_model(\"./models/cnn_simple_mnist_no_pickle\")\n",
    "# defining a functions for bb to return the class index value\n",
    "def bb_predict(X):\n",
    "    X = X.astype(float)\n",
    "    Y = bb.predict(X)   \n",
    "    return np.argmax(Y, axis=1)\n",
    "\n",
    "# load data\n",
    "dataset = 'custom'\n",
    "(_, _), (X_test, Y_test) = tf.keras.datasets.mnist.load_data()\n",
    "X_test = (X_test/255).reshape(-1,28,28,1)\n",
    "use_rgb=False\n",
    "\n",
    "print(path_aemodels)\n",
    "print(dataset)\n",
    "# load auto encoder\n",
    "ae = get_autoencoder(X_test, ae_name, path_aemodels, dataset, latent_dim=10, hidden_dim=128, num_filters=16, use_rgb=use_rgb)\n",
    "ae.load_model()\n",
    "\n",
    "class_name = 'class'\n",
    "class_values = ['%s' % i for i in range(len(np.unique(Y_test)))]\n",
    "\n",
    "# index Image 2 Explain\n",
    "i2e = 24\n",
    "img = X_test[i2e]\n",
    "# time\n",
    "start = time.time()\n",
    "# create explainer\n",
    "\"\"\"\n",
    "Arguments:\n",
    "    bb_predict: function which return the prediction of the blackbox in form index of the class \n",
    "    class_name: name of the class used when printing rules (class_name: class_value)\n",
    "    class_values: list of names of the classes (class_name: class_value)\n",
    "    neigh_type: select the nighbourhood type,\n",
    "                supportecd types:\n",
    "                'gnt' : genetic\n",
    "                'rnd' : random\n",
    "                'hrg' : hybrid-random-genetic\n",
    "                'gntp': genetic probabilistic\n",
    "                'hrgp': hybrid probabilistic\n",
    "    ocr: [0.1] other class values, ratio of other class from the one predicted in the neighbourhood\n",
    "    kernel: [None] Kernel to weights the point in the nieghbourhood\n",
    "    kernel_width : [None]  \n",
    "    autoencoder: Autoencoder to generate the latent space points\n",
    "    use_rgb = [True] Set to True if the input images are rgb, False for grayscale\n",
    "    filter_crules: [None] if True Prototypes are checked by the black box to be the same class of the query image\n",
    "    random_state: set the seed of the random state\n",
    "    verbose: True if you want to print more informations\n",
    "    NEIGHBOURHOOD PARAMETERS: the following parameters are Neighbourhood specific and may not apply to all of the neighbourhood types\n",
    "        valid_thr: [0.5] threshold to change class in the autoencoder disciminator\n",
    "        alpha1: [0.5] weight of the feature similarity of the neighbourhood points\n",
    "        alpha2: [0.5] weight of the target similarity of the neighbourhood points\n",
    "        ngen: [100] number of generations of the genetic algorithm\n",
    "        mutpb: [0.2] The probability of mutating an individual in the genetic algorithm\n",
    "        cxpb: [0.5] The probability of mating two individuals in the genetic algorithm\n",
    "        tournsize: [3] number of tournaments in the genetic algorithm\n",
    "        hallooffame_ratio: [0.1] Fraction of exemplars to keep at every genetic generation\n",
    "\"\"\"\n",
    "explainer = ILOREM(bb_predict, \n",
    "                   class_name, \n",
    "                   class_values, \n",
    "                   neigh_type='hrg',\n",
    "                   ocr=0.1,\n",
    "                   kernel_width=None, \n",
    "                   kernel=None, \n",
    "                   autoencoder=ae, \n",
    "                   use_rgb=use_rgb, \n",
    "                   filter_crules=True, \n",
    "                   random_state=random_state, \n",
    "                   verbose=True, \n",
    "                   valid_thr=0.5,\n",
    "                   alpha1=0.5, \n",
    "                   alpha2=0.5,\n",
    "                   metric=neuclidean, \n",
    "                   ngen=100, \n",
    "                   mutpb=0.2, \n",
    "                   cxpb=0.5, \n",
    "                   tournsize=3, \n",
    "                   halloffame_ratio=0.1)\n",
    "\n",
    "\"\"\"\n",
    "generate an explanation for a given image\n",
    "Arguments:\n",
    "    img: the image to explain\n",
    "    num_samples: [1000] number of samples to generate with the neighbourhood algorithm\n",
    "    use_weights: [True] if weights the points using distance\n",
    "Return:\n",
    "Explanation object compose by several things\n",
    "    rstr: string describing the rule\n",
    "    cstr: string describing the counterfactual rule\n",
    "    bb_pred: black box prediction of the image\n",
    "    dt_pred: decisoon tree prediction\n",
    "    fidelity: fidelity between black box and the decision tree\n",
    "    limg: latent space representation of the image\n",
    "\"\"\"\n",
    "exp = explainer.explain_instance(img, num_samples=1000, use_weights=True, metric=neuclidean)\n",
    "# time\n",
    "end = time.time()\n",
    "print('--------------------------')\n",
    "print('execution time: ',end - start,' sec')\n",
    "print('e = {\\n\\tr = %s\\n\\tc = %s    \\n}' % (exp.rstr(), exp.cstr()))\n",
    "print('--------------------------')\n",
    "print('bb prediction of reconstructed image: ',exp.bb_pred,'dt prediction: ',exp.dt_pred,'fidelity: ',exp.fidelity)\n",
    "print('latent space representation: ',exp.limg)\n",
    "\n",
    "\"\"\"\n",
    "Arguments:\n",
    "    features: [None] list of which feature of the latent space to use, If None use all\n",
    "    samples: [10] number of prototype to use\n",
    "Return the image and the difference between the prototypes\n",
    "\"\"\"\n",
    "img2show, mask = exp.get_image_rule(features=None, samples=400)\n",
    "\n",
    "# Plot Script\n",
    "F, ax = plt.subplots(1,2, figsize=(10,5))\n",
    "if use_rgb:\n",
    "    ax[0].imshow(img2show)\n",
    "else:\n",
    "    ax[0].imshow(img2show, cmap='gray')\n",
    "bbo = bb_predict(np.array([img2show]))[0]\n",
    "ax[0].set_title('Image to explain - black box %s' % bbo)\n",
    "ax[0].axis('off')\n",
    "dx, dy = 0.05, 0.05\n",
    "xx = np.arange(0.0, img2show.shape[1], dx)\n",
    "yy = np.arange(0.0, img2show.shape[0], dy)\n",
    "xmin, xmax, ymin, ymax = np.amin(xx), np.amax(xx), np.amin(yy), np.amax(yy)\n",
    "extent = xmin, xmax, ymin, ymax\n",
    "cmap_xi = plt.get_cmap('Greys_r')\n",
    "cmap_xi.set_bad(alpha=0)\n",
    "# Compute edges (to overlay to heatmaps later)\n",
    "percentile = 100\n",
    "dilation = 3.0\n",
    "alpha = 0.8\n",
    "xi_greyscale = img2show if len(img2show.shape) == 2 else np.mean(img2show, axis=-1)\n",
    "in_image_upscaled = transform.rescale(xi_greyscale, dilation, mode='constant')\n",
    "edges = feature.canny(in_image_upscaled).astype(float)\n",
    "edges[edges < 0.5] = np.nan\n",
    "edges[:5, :] = np.nan\n",
    "edges[-5:, :] = np.nan\n",
    "edges[:, :5] = np.nan\n",
    "edges[:, -5:] = np.nan\n",
    "overlay = edges\n",
    "ax[1].imshow(mask, extent=extent, cmap=plt.cm.BrBG, alpha=1, vmin=0, vmax=255)\n",
    "ax[1].imshow(overlay, extent=extent, interpolation='none', cmap=cmap_xi, alpha=alpha)\n",
    "ax[1].axis('off')\n",
    "ax[1].set_title('Attention area respecting latent rule');"
   ]
  },
  {
   "cell_type": "code",
   "execution_count": null,
   "metadata": {
    "id": "yu8fsNpXrKQL",
    "outputId": "b955650d-7c14-494a-f90c-142201c8e28e"
   },
   "outputs": [
    {
     "data": {
      "image/png": "[encoded data removed]",
      "text/plain": [
       "<Figure size 2160x360 with 5 Axes>"
      ]
     },
     "metadata": {
      "needs_background": "light"
     },
     "output_type": "display_data"
    }
   ],
   "source": [
    "\"\"\"\n",
    "Return the prototypes images\n",
    "Arguments:\n",
    "    num_prototypes: [5] number of prototypes to return\n",
    "    return_latent: [False] if True return latent representation\n",
    "    return_diff: [False] If True return the difference with the query image\n",
    "    features: [None] list of the features int he latent space to use, if none use all\n",
    "\"\"\"\n",
    "proto = exp.get_prototypes_respecting_rule(num_prototypes=5)\n",
    "\n",
    "F, ax = plt.subplots(1,5,figsize=(30,5))\n",
    "for i in range(5):\n",
    "    ax[i].imshow(proto[i])\n",
    "    ax[i].axis('off')\n",
    "    ax[i].set_title('model prediction: '+str(bb_predict(rgb2gray(proto[0])[np.newaxis,:,:,np.newaxis])[0]))"
   ]
  },
  {
   "cell_type": "code",
   "execution_count": null,
   "metadata": {
    "id": "gWTGFeXwrKQL",
    "outputId": "851425fb-40ae-4284-80b4-abbb03f95314"
   },
   "outputs": [
    {
     "data": {
      "image/png": "[encoded data removed]",
      "text/plain": [
       "<Figure size 2160x360 with 3 Axes>"
      ]
     },
     "metadata": {
      "needs_background": "light"
     },
     "output_type": "display_data"
    }
   ],
   "source": [
    "\"\"\"\n",
    "Return the couterfactuals satisfying the counterfactual rule\n",
    "\"\"\"\n",
    "counter = exp.get_counterfactual_prototypes()\n",
    "\n",
    "F, ax = plt.subplots(1,len(counter),figsize=(30,5))\n",
    "if len(counter)==0:\n",
    "    print('no counterfactual found')\n",
    "elif len(counter)==1:\n",
    "    plt.imshow(counter[0]/255)\n",
    "    plt.axis('off')\n",
    "    plt.set_title('model prediction: '+str(bb_predict(counter[0])[0]))    \n",
    "for i in range(len(counter)):\n",
    "    ax[i].imshow(counter[i]/255)\n",
    "    ax[i].axis('off')\n",
    "    ax[i].set_title('model prediction: '+str(bb_predict(counter[i])[0]))"
   ]
  },
  {
   "cell_type": "code",
   "execution_count": null,
   "metadata": {
    "id": "97-nkkU4rKQN"
   },
   "outputs": [],
   "source": []
  },
  {
   "cell_type": "code",
   "execution_count": null,
   "metadata": {
    "id": "H10GfSMYrKQN"
   },
   "outputs": [],
   "source": []
  }
 ],
 "metadata": {
  "colab": {
   "name": "Images_Usage_Examples_MNIST.ipynb",
   "provenance": []
  },
  "kernelspec": {
   "display_name": "Python 3",
   "language": "python",
   "name": "python3"
  },
  "language_info": {
   "codemirror_mode": {
    "name": "ipython",
    "version": 3
   },
   "file_extension": ".py",
   "mimetype": "text/x-python",
   "name": "python",
   "nbconvert_exporter": "python",
   "pygments_lexer": "ipython3",
   "version": "3.8.8"
  },
  "widgets": {
   "application/vnd.jupyter.widget-state+json": {
    "0454d5ffd8f84e6b89e9caa77c56035e": {
     "model_module": "@jupyter-widgets/controls",
     "model_module_version": "1.5.0",
     "model_name": "DescriptionStyleModel",
     "state": {
      "_model_module": "@jupyter-widgets/controls",
      "_model_module_version": "1.5.0",
      "_model_name": "DescriptionStyleModel",
      "_view_count": null,
      "_view_module": "@jupyter-widgets/base",
      "_view_module_version": "1.2.0",
      "_view_name": "StyleView",
      "description_width": ""
     }
    },
    "1b4f096f4ac141378889360b81d0ec9c": {
     "model_module": "@jupyter-widgets/controls",
     "model_module_version": "1.5.0",
     "model_name": "HTMLModel",
     "state": {
      "_dom_classes": [],
      "_model_module": "@jupyter-widgets/controls",
      "_model_module_version": "1.5.0",
      "_model_name": "HTMLModel",
      "_view_count": null,
      "_view_module": "@jupyter-widgets/controls",
      "_view_module_version": "1.5.0",
      "_view_name": "HTMLView",
      "description": "",
      "description_tooltip": null,
      "layout": "IPY_MODEL_cec432c1aaeb4806836de1d9d371af59",
      "placeholder": "​",
      "style": "IPY_MODEL_0454d5ffd8f84e6b89e9caa77c56035e",
      "value": " 500/500 [00:01&lt;00:00, 423.96it/s]"
     }
    },
    "5cb114a749594d46aaaf10b94b1d304a": {
     "model_module": "@jupyter-widgets/controls",
     "model_module_version": "1.5.0",
     "model_name": "HTMLModel",
     "state": {
      "_dom_classes": [],
      "_model_module": "@jupyter-widgets/controls",
      "_model_module_version": "1.5.0",
      "_model_name": "HTMLModel",
      "_view_count": null,
      "_view_module": "@jupyter-widgets/controls",
      "_view_module_version": "1.5.0",
      "_view_name": "HTMLView",
      "description": "",
      "description_tooltip": null,
      "layout": "IPY_MODEL_95ea62012ebe47b891ed716291d11597",
      "placeholder": "​",
      "style": "IPY_MODEL_c03efda8755e430f991c5ed169e78e85",
      "value": "100%"
     }
    },
    "82d88036c6db4885a1fc69b94a6c8e81": {
     "model_module": "@jupyter-widgets/base",
     "model_module_version": "1.2.0",
     "model_name": "LayoutModel",
     "state": {
      "_model_module": "@jupyter-widgets/base",
      "_model_module_version": "1.2.0",
      "_model_name": "LayoutModel",
      "_view_count": null,
      "_view_module": "@jupyter-widgets/base",
      "_view_module_version": "1.2.0",
      "_view_name": "LayoutView",
      "align_content": null,
      "align_items": null,
      "align_self": null,
      "border": null,
      "bottom": null,
      "display": null,
      "flex": null,
      "flex_flow": null,
      "grid_area": null,
      "grid_auto_columns": null,
      "grid_auto_flow": null,
      "grid_auto_rows": null,
      "grid_column": null,
      "grid_gap": null,
      "grid_row": null,
      "grid_template_areas": null,
      "grid_template_columns": null,
      "grid_template_rows": null,
      "height": null,
      "justify_content": null,
      "justify_items": null,
      "left": null,
      "margin": null,
      "max_height": null,
      "max_width": null,
      "min_height": null,
      "min_width": null,
      "object_fit": null,
      "object_position": null,
      "order": null,
      "overflow": null,
      "overflow_x": null,
      "overflow_y": null,
      "padding": null,
      "right": null,
      "top": null,
      "visibility": null,
      "width": null
     }
    },
    "85fbb795e6aa4c74b0c61b8a27097d4b": {
     "model_module": "@jupyter-widgets/controls",
     "model_module_version": "1.5.0",
     "model_name": "FloatProgressModel",
     "state": {
      "_dom_classes": [],
      "_model_module": "@jupyter-widgets/controls",
      "_model_module_version": "1.5.0",
      "_model_name": "FloatProgressModel",
      "_view_count": null,
      "_view_module": "@jupyter-widgets/controls",
      "_view_module_version": "1.5.0",
      "_view_name": "ProgressView",
      "bar_style": "success",
      "description": "",
      "description_tooltip": null,
      "layout": "IPY_MODEL_cc516e14bd1d449aa56c96340f19e569",
      "max": 500,
      "min": 0,
      "orientation": "horizontal",
      "style": "IPY_MODEL_bcda2357e6474ffc85a2d493f3e50685",
      "value": 500
     }
    },
    "95ea62012ebe47b891ed716291d11597": {
     "model_module": "@jupyter-widgets/base",
     "model_module_version": "1.2.0",
     "model_name": "LayoutModel",
     "state": {
      "_model_module": "@jupyter-widgets/base",
      "_model_module_version": "1.2.0",
      "_model_name": "LayoutModel",
      "_view_count": null,
      "_view_module": "@jupyter-widgets/base",
      "_view_module_version": "1.2.0",
      "_view_name": "LayoutView",
      "align_content": null,
      "align_items": null,
      "align_self": null,
      "border": null,
      "bottom": null,
      "display": null,
      "flex": null,
      "flex_flow": null,
      "grid_area": null,
      "grid_auto_columns": null,
      "grid_auto_flow": null,
      "grid_auto_rows": null,
      "grid_column": null,
      "grid_gap": null,
      "grid_row": null,
      "grid_template_areas": null,
      "grid_template_columns": null,
      "grid_template_rows": null,
      "height": null,
      "justify_content": null,
      "justify_items": null,
      "left": null,
      "margin": null,
      "max_height": null,
      "max_width": null,
      "min_height": null,
      "min_width": null,
      "object_fit": null,
      "object_position": null,
      "order": null,
      "overflow": null,
      "overflow_x": null,
      "overflow_y": null,
      "padding": null,
      "right": null,
      "top": null,
      "visibility": null,
      "width": null
     }
    },
    "bcda2357e6474ffc85a2d493f3e50685": {
     "model_module": "@jupyter-widgets/controls",
     "model_module_version": "1.5.0",
     "model_name": "ProgressStyleModel",
     "state": {
      "_model_module": "@jupyter-widgets/controls",
      "_model_module_version": "1.5.0",
      "_model_name": "ProgressStyleModel",
      "_view_count": null,
      "_view_module": "@jupyter-widgets/base",
      "_view_module_version": "1.2.0",
      "_view_name": "StyleView",
      "bar_color": null,
      "description_width": ""
     }
    },
    "c03efda8755e430f991c5ed169e78e85": {
     "model_module": "@jupyter-widgets/controls",
     "model_module_version": "1.5.0",
     "model_name": "DescriptionStyleModel",
     "state": {
      "_model_module": "@jupyter-widgets/controls",
      "_model_module_version": "1.5.0",
      "_model_name": "DescriptionStyleModel",
      "_view_count": null,
      "_view_module": "@jupyter-widgets/base",
      "_view_module_version": "1.2.0",
      "_view_name": "StyleView",
      "description_width": ""
     }
    },
    "cc516e14bd1d449aa56c96340f19e569": {
     "model_module": "@jupyter-widgets/base",
     "model_module_version": "1.2.0",
     "model_name": "LayoutModel",
     "state": {
      "_model_module": "@jupyter-widgets/base",
      "_model_module_version": "1.2.0",
      "_model_name": "LayoutModel",
      "_view_count": null,
      "_view_module": "@jupyter-widgets/base",
      "_view_module_version": "1.2.0",
      "_view_name": "LayoutView",
      "align_content": null,
      "align_items": null,
      "align_self": null,
      "border": null,
      "bottom": null,
      "display": null,
      "flex": null,
      "flex_flow": null,
      "grid_area": null,
      "grid_auto_columns": null,
      "grid_auto_flow": null,
      "grid_auto_rows": null,
      "grid_column": null,
      "grid_gap": null,
      "grid_row": null,
      "grid_template_areas": null,
      "grid_template_columns": null,
      "grid_template_rows": null,
      "height": null,
      "justify_content": null,
      "justify_items": null,
      "left": null,
      "margin": null,
      "max_height": null,
      "max_width": null,
      "min_height": null,
      "min_width": null,
      "object_fit": null,
      "object_position": null,
      "order": null,
      "overflow": null,
      "overflow_x": null,
      "overflow_y": null,
      "padding": null,
      "right": null,
      "top": null,
      "visibility": null,
      "width": null
     }
    },
    "cec432c1aaeb4806836de1d9d371af59": {
     "model_module": "@jupyter-widgets/base",
     "model_module_version": "1.2.0",
     "model_name": "LayoutModel",
     "state": {
      "_model_module": "@jupyter-widgets/base",
      "_model_module_version": "1.2.0",
      "_model_name": "LayoutModel",
      "_view_count": null,
      "_view_module": "@jupyter-widgets/base",
      "_view_module_version": "1.2.0",
      "_view_name": "LayoutView",
      "align_content": null,
      "align_items": null,
      "align_self": null,
      "border": null,
      "bottom": null,
      "display": null,
      "flex": null,
      "flex_flow": null,
      "grid_area": null,
      "grid_auto_columns": null,
      "grid_auto_flow": null,
      "grid_auto_rows": null,
      "grid_column": null,
      "grid_gap": null,
      "grid_row": null,
      "grid_template_areas": null,
      "grid_template_columns": null,
      "grid_template_rows": null,
      "height": null,
      "justify_content": null,
      "justify_items": null,
      "left": null,
      "margin": null,
      "max_height": null,
      "max_width": null,
      "min_height": null,
      "min_width": null,
      "object_fit": null,
      "object_position": null,
      "order": null,
      "overflow": null,
      "overflow_x": null,
      "overflow_y": null,
      "padding": null,
      "right": null,
      "top": null,
      "visibility": null,
      "width": null
     }
    },
    "fbe404dcb1884b05861a06a0ae878443": {
     "model_module": "@jupyter-widgets/controls",
     "model_module_version": "1.5.0",
     "model_name": "HBoxModel",
     "state": {
      "_dom_classes": [],
      "_model_module": "@jupyter-widgets/controls",
      "_model_module_version": "1.5.0",
      "_model_name": "HBoxModel",
      "_view_count": null,
      "_view_module": "@jupyter-widgets/controls",
      "_view_module_version": "1.5.0",
      "_view_name": "HBoxView",
      "box_style": "",
      "children": [
       "IPY_MODEL_5cb114a749594d46aaaf10b94b1d304a",
       "IPY_MODEL_85fbb795e6aa4c74b0c61b8a27097d4b",
       "IPY_MODEL_1b4f096f4ac141378889360b81d0ec9c"
      ],
      "layout": "IPY_MODEL_82d88036c6db4885a1fc69b94a6c8e81"
     }
    }
   }
  }
 },
 "nbformat": 4,
 "nbformat_minor": 4
}
