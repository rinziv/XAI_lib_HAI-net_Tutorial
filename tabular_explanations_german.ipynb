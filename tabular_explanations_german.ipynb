{
 "cells": [
  {
   "cell_type": "markdown",
   "id": "stable-distributor",
   "metadata": {},
   "source": [
    "# Tabular data: post-hoc explanations with German credit dataset"
   ]
  },
  {
   "cell_type": "code",
   "execution_count": 91,
   "id": "brief-devices",
   "metadata": {},
   "outputs": [],
   "source": [
    "import pandas as pd\n",
    "import numpy as np\n",
    "\n",
    "from sklearn import preprocessing\n",
    "from sklearn.ensemble import RandomForestClassifier\n",
    "from sklearn.model_selection import train_test_split\n",
    "from sklearn.linear_model import LogisticRegression\n",
    "from sklearn.metrics import classification_report\n",
    "\n",
    "from xailib.data_loaders.dataframe_loader import prepare_dataframe\n",
    "\n",
    "from xailib.explainers.lime_explainer import LimeXAITabularExplainer\n",
    "from xailib.explainers.lore_explainer import LoreTabularExplainer\n",
    "from xailib.explainers.shap_explainer_tab import ShapXAITabularExplainer\n",
    "\n",
    "from xailib.models.sklearn_classifier_wrapper import sklearn_classifier_wrapper"
   ]
  },
  {
   "cell_type": "markdown",
   "id": "killing-development",
   "metadata": {},
   "source": [
    "# Learning and explaining German Credit Dataset"
   ]
  },
  {
   "cell_type": "markdown",
   "id": "impressive-illinois",
   "metadata": {},
   "source": [
    "## Loading and preparation of data\n",
    "\n",
    "In this notebook we are going to use the German Credit dataset for the training of a machine learning model to explain using different explanators. \n",
    "\n",
    "The German credit dataset classifies people as high or low credit risk. It is a small dataset, which describes people by means of several features, such as age, job (most of them categorical).\n",
    "\n",
    "We start by reading from a CSV file the dataset to analyze. The table is loaded by means of the ```DataFrame``` class from the ```pandas``` library.\n",
    "\n",
    "Among all the attributes of the table, we select the ```default``` column that contains the observed class for the corresponding row."
   ]
  },
  {
   "cell_type": "code",
   "execution_count": 92,
   "id": "purple-greece",
   "metadata": {},
   "outputs": [],
   "source": [
    "source_file = 'datasets/german_credit.csv'\n",
    "class_field = 'default'\n",
    "# Load and transform dataset \n",
    "df = pd.read_csv(source_file, skipinitialspace=True, na_values='?', keep_default_na=True)"
   ]
  },
  {
   "cell_type": "markdown",
   "id": "stretch-navigator",
   "metadata": {},
   "source": [
    "The first thing to do is to analyze the dataset under analysis. We can do so by exploiting the .info() function as well as plots for visualizing distributions."
   ]
  },
  {
   "cell_type": "code",
   "execution_count": 93,
   "id": "internal-hartford",
   "metadata": {},
   "outputs": [
    {
     "name": "stdout",
     "output_type": "stream",
     "text": [
      "<class 'pandas.core.frame.DataFrame'>\n",
      "RangeIndex: 1000 entries, 0 to 999\n",
      "Data columns (total 21 columns):\n",
      " #   Column                      Non-Null Count  Dtype \n",
      "---  ------                      --------------  ----- \n",
      " 0   default                     1000 non-null   int64 \n",
      " 1   account_check_status        1000 non-null   object\n",
      " 2   duration_in_month           1000 non-null   int64 \n",
      " 3   credit_history              1000 non-null   object\n",
      " 4   purpose                     1000 non-null   object\n",
      " 5   credit_amount               1000 non-null   int64 \n",
      " 6   savings                     1000 non-null   object\n",
      " 7   present_emp_since           1000 non-null   object\n",
      " 8   installment_as_income_perc  1000 non-null   int64 \n",
      " 9   personal_status_sex         1000 non-null   object\n",
      " 10  other_debtors               1000 non-null   object\n",
      " 11  present_res_since           1000 non-null   int64 \n",
      " 12  property                    1000 non-null   object\n",
      " 13  age                         1000 non-null   int64 \n",
      " 14  other_installment_plans     1000 non-null   object\n",
      " 15  housing                     1000 non-null   object\n",
      " 16  credits_this_bank           1000 non-null   int64 \n",
      " 17  job                         1000 non-null   object\n",
      " 18  people_under_maintenance    1000 non-null   int64 \n",
      " 19  telephone                   1000 non-null   object\n",
      " 20  foreign_worker              1000 non-null   object\n",
      "dtypes: int64(8), object(13)\n",
      "memory usage: 164.2+ KB\n"
     ]
    }
   ],
   "source": [
    "df.info()"
   ]
  },
  {
   "cell_type": "markdown",
   "id": "three-printing",
   "metadata": {},
   "source": [
    "From the .info() function we can see that this dataset does not contain any null feature value. In addition, we can notice that we have a lot of categorical variables, which we have to handle."
   ]
  },
  {
   "cell_type": "markdown",
   "id": "french-samuel",
   "metadata": {},
   "source": [
    "After the data is loaded in memory, we need to extract metadata information to automatically handle the content withint the table.\n",
    "\n",
    "The method ```prepare_dataframe``` scans the table and extract the following information:\n",
    " * ```df```: is a trasformed version of the original dataframe, where discrete attributes are transformed into numerical attributes by using one hot encoding strategy;\n",
    " * ```feature_names```: is a list containint the names of the features after the transformation;\n",
    " * ```class_values```: the list of all the possible values for the ```class_field``` column;\n",
    " * ```numeric_columns```: a list of the original features that contain numeric (i.e. continuous) values;\n",
    " * ```rdf```: the original dataframe, before the transformation;\n",
    " * ```real_feature_names```: the list of the features of the dataframe before the transformation;\n",
    " * ```features_map```: it is a dictionary pointing each feature to the original one before the transformation."
   ]
  },
  {
   "cell_type": "code",
   "execution_count": 94,
   "id": "friendly-electric",
   "metadata": {},
   "outputs": [],
   "source": [
    "df, feature_names, class_values, numeric_columns, rdf, real_feature_names, features_map = prepare_dataframe(df, class_field)"
   ]
  },
  {
   "cell_type": "markdown",
   "id": "boxed-tennis",
   "metadata": {},
   "source": [
    "### Learning a Random Forest classfier\n",
    "\n",
    "We train a RF classifier by using the ```sklearn``` library. We start by splitting the dataset into a train and test subsets. "
   ]
  },
  {
   "cell_type": "code",
   "execution_count": 95,
   "id": "connected-extra",
   "metadata": {},
   "outputs": [],
   "source": [
    "test_size = 0.3\n",
    "random_state = 42\n",
    "X_train, X_test, Y_train, Y_test = train_test_split(df[feature_names], df[class_field],\n",
    "                                                        test_size=test_size,\n",
    "                                                        random_state=random_state,\n",
    "                                                        stratify=df[class_field])\n",
    "\n"
   ]
  },
  {
   "cell_type": "markdown",
   "id": "precious-zimbabwe",
   "metadata": {},
   "source": [
    "Then we train the model on the training set. \n",
    "Once the model has been learned, we use a wrapper class to get access to the model for ```XAI lib```"
   ]
  },
  {
   "cell_type": "code",
   "execution_count": 96,
   "id": "literary-penalty",
   "metadata": {},
   "outputs": [],
   "source": [
    "bb = RandomForestClassifier(n_estimators=20, random_state=random_state)\n",
    "bb.fit(X_train.values, Y_train.values)\n",
    "bbox = sklearn_classifier_wrapper(bb)   "
   ]
  },
  {
   "cell_type": "code",
   "execution_count": 97,
   "id": "novel-fireplace",
   "metadata": {},
   "outputs": [
    {
     "name": "stdout",
     "output_type": "stream",
     "text": [
      "              precision    recall  f1-score   support\n",
      "\n",
      "           0       0.76      0.90      0.82       210\n",
      "           1       0.57      0.32      0.41        90\n",
      "\n",
      "    accuracy                           0.72       300\n",
      "   macro avg       0.66      0.61      0.62       300\n",
      "weighted avg       0.70      0.72      0.70       300\n",
      "\n"
     ]
    }
   ],
   "source": [
    "Y_pred = bb.predict(X_test)\n",
    "print(classification_report(Y_test, Y_pred))"
   ]
  },
  {
   "cell_type": "markdown",
   "id": "peaceful-latter",
   "metadata": {},
   "source": [
    "Select a new instance to be classfied by the model and print the predicted class."
   ]
  },
  {
   "cell_type": "code",
   "execution_count": 98,
   "id": "lightweight-jumping",
   "metadata": {},
   "outputs": [
    {
     "name": "stdout",
     "output_type": "stream",
     "text": [
      "Instance  [ 15 975   2   3  25   2   1   0   1   0   0   0   1   0   0   0   0   0\n",
      "   0   0   0   0   0   1   0   0   0   1   0   0   0   0   0   1   0   0\n",
      "   0   1   0   0   0   0   1   1   0   0   0   0   1   0   0   1   0   0\n",
      "   1   0   0   1   0   0   1]\n",
      "True class  0\n",
      "Predicted class  [0]\n"
     ]
    }
   ],
   "source": [
    "inst = X_train.iloc[147].values\n",
    "print('Instance ',inst)\n",
    "print('True class ',Y_train.iloc[8])\n",
    "print('Predicted class ',bb.predict(inst.reshape(1, -1)))"
   ]
  },
  {
   "cell_type": "markdown",
   "id": "general-duplicate",
   "metadata": {},
   "source": [
    "## Explaining the prediction\n",
    "We use the explanators of ```XAI lib``` to provide an explantion for the classified instance ```inst```.\n",
    "Every explainer of ```XAI lib``` takes in input the blackbox to be explained with the corresponding feature names, and a configuration object to initialize the explainer.\n",
    "\n",
    "### SHAP explainer\n",
    "SHAP provides several explanator methods: only one of them is agnostic (kernel), while the others are tailored for some specific kind of machine learning model.\n",
    "In ```config``` you can change the parameters: the explainer (linear, kernel, tree etc.) and the data to pass (all the train set or simply a part of it, or the centroids of a clustering algorithm)."
   ]
  },
  {
   "cell_type": "code",
   "execution_count": 99,
   "id": "developmental-manchester",
   "metadata": {},
   "outputs": [],
   "source": [
    "explainer = ShapXAITabularExplainer(bbox, feature_names)\n",
    "config = {'explainer' : 'tree', 'X_train' : X_train.iloc[0:100].values}\n",
    "explainer.fit(config)"
   ]
  },
  {
   "cell_type": "code",
   "execution_count": 100,
   "id": "nervous-outdoors",
   "metadata": {},
   "outputs": [],
   "source": [
    "exp = explainer.explain(inst)\n",
    "# print(exp.exp)"
   ]
  },
  {
   "cell_type": "code",
   "execution_count": 101,
   "id": "structured-michigan",
   "metadata": {},
   "outputs": [
    {
     "data": {
      "text/html": [
       "\n",
       "        <style>\n",
       "        .vega-bind {\n",
       "          position: absolute;\n",
       "          left: 0px;\n",
       "          top: 0px;\n",
       "          background-color:#eee;\n",
       "          padding:10px;\n",
       "          font-size:10px;\n",
       "        }\n",
       "        .chart-wrapper{\n",
       "          padding-top: 70px;\n",
       "        }\n",
       "\n",
       "        </style>\n",
       "        "
      ],
      "text/plain": [
       "<IPython.core.display.HTML object>"
      ]
     },
     "metadata": {},
     "output_type": "display_data"
    },
    {
     "data": {
      "text/html": [
       "\n",
       "<div id=\"altair-viz-6a8fcea624ed4c4a934d4e5d12bb19e9\"></div>\n",
       "<script type=\"text/javascript\">\n",
       "  (function(spec, embedOpt){\n",
       "    let outputDiv = document.currentScript.previousElementSibling;\n",
       "    if (outputDiv.id !== \"altair-viz-6a8fcea624ed4c4a934d4e5d12bb19e9\") {\n",
       "      outputDiv = document.getElementById(\"altair-viz-6a8fcea624ed4c4a934d4e5d12bb19e9\");\n",
       "    }\n",
       "    const paths = {\n",
       "      \"vega\": \"https://cdn.jsdelivr.net/npm//vega@5?noext\",\n",
       "      \"vega-lib\": \"https://cdn.jsdelivr.net/npm//vega-lib?noext\",\n",
       "      \"vega-lite\": \"https://cdn.jsdelivr.net/npm//vega-lite@4.8.1?noext\",\n",
       "      \"vega-embed\": \"https://cdn.jsdelivr.net/npm//vega-embed@6?noext\",\n",
       "    };\n",
       "\n",
       "    function loadScript(lib) {\n",
       "      return new Promise(function(resolve, reject) {\n",
       "        var s = document.createElement('script');\n",
       "        s.src = paths[lib];\n",
       "        s.async = true;\n",
       "        s.onload = () => resolve(paths[lib]);\n",
       "        s.onerror = () => reject(`Error loading script: ${paths[lib]}`);\n",
       "        document.getElementsByTagName(\"head\")[0].appendChild(s);\n",
       "      });\n",
       "    }\n",
       "\n",
       "    function showError(err) {\n",
       "      outputDiv.innerHTML = `<div class=\"error\" style=\"color:red;\">${err}</div>`;\n",
       "      throw err;\n",
       "    }\n",
       "\n",
       "    function displayChart(vegaEmbed) {\n",
       "      vegaEmbed(outputDiv, spec, embedOpt)\n",
       "        .catch(err => showError(`Javascript Error: ${err.message}<br>This usually means there's a typo in your chart specification. See the javascript console for the full traceback.`));\n",
       "    }\n",
       "\n",
       "    if(typeof define === \"function\" && define.amd) {\n",
       "      requirejs.config({paths});\n",
       "      require([\"vega-embed\"], displayChart, err => showError(`Error loading script: ${err.message}`));\n",
       "    } else if (typeof vegaEmbed === \"function\") {\n",
       "      displayChart(vegaEmbed);\n",
       "    } else {\n",
       "      loadScript(\"vega\")\n",
       "        .then(() => loadScript(\"vega-lite\"))\n",
       "        .then(() => loadScript(\"vega-embed\"))\n",
       "        .catch(showError)\n",
       "        .then(() => displayChart(vegaEmbed));\n",
       "    }\n",
       "  })({\"config\": {\"view\": {\"continuousWidth\": 400, \"continuousHeight\": 300}, \"axis\": {\"labelFontSize\": 10, \"labelLimit\": 225.0}}, \"vconcat\": [{\"layer\": [{\"data\": {\"name\": \"data-30f3240959b2d9dc877cd3511071cbdd\"}, \"mark\": {\"type\": \"rule\", \"strokeWidth\": 3}, \"encoding\": {\"color\": {\"type\": \"quantitative\", \"field\": \"xValue\", \"legend\": null, \"scale\": {\"domain\": [-0.06251403882692182, 0.06251403882692182], \"domainMid\": 0, \"scheme\": \"redyellowblue\"}}, \"x\": {\"type\": \"quantitative\", \"axis\": {\"orient\": \"top\", \"titleFontSize\": 10}, \"field\": \"xValue\", \"title\": \"Select a cutoff range for Feature Importance values \"}}}, {\"data\": {\"name\": \"data-c7bc3ae69e1253e8223f70a11d04b99d\"}, \"mark\": {\"type\": \"rect\", \"color\": \"black\", \"height\": 20, \"opacity\": 0.4, \"tooltip\": true}, \"encoding\": {\"x\": {\"type\": \"quantitative\", \"field\": \"x_min\"}, \"x2\": {\"field\": \"x_max\"}, \"y\": {\"type\": \"quantitative\", \"axis\": null, \"field\": \"y\"}}, \"selection\": {\"Cutter\": {\"type\": \"single\", \"fields\": [\"cutoff\"], \"bind\": {\"input\": \"range\", \"max\": 0.06251403882692182, \"min\": 0, \"name\": \"Importance cutoff value (\\u00b1) \", \"step\": 0.0012502807765384363}, \"init\": {\"cutoff\": 0.0}}}, \"transform\": [{\"calculate\": \"(-Cutter.cutoff)\", \"as\": \"x_min\"}, {\"calculate\": \"Cutter.cutoff\", \"as\": \"x_max\"}]}], \"height\": 20}, {\"layer\": [{\"data\": {\"name\": \"data-b2155f4b4ed482476c9a0aede197a7d8\"}, \"mark\": \"bar\", \"encoding\": {\"color\": {\"type\": \"quantitative\", \"field\": \"value\", \"legend\": null, \"scale\": {\"domain\": [-0.06251403882692182, 0.06251403882692182], \"domainMid\": 0, \"scheme\": \"blueorange\"}}, \"tooltip\": [{\"type\": \"nominal\", \"field\": \"name\", \"title\": \"Feature\"}, {\"type\": \"quantitative\", \"field\": \"value\", \"title\": \"Importance\"}], \"x\": {\"type\": \"quantitative\", \"field\": \"value\", \"title\": null}, \"y\": {\"type\": \"nominal\", \"field\": \"name\", \"sort\": {\"field\": \"value\", \"op\": \"mean\", \"order\": \"descending\"}, \"title\": null}}, \"selection\": {\"Cutter\": {\"type\": \"single\", \"fields\": [\"cutoff\"], \"bind\": {\"input\": \"range\", \"max\": 0.06251403882692182, \"min\": 0, \"name\": \"Importance cutoff value (\\u00b1) \", \"step\": 0.0012502807765384363}, \"init\": {\"cutoff\": 0.0}}}, \"transform\": [{\"filter\": \"((datum.value > Cutter.cutoff) || (datum.value < (-Cutter.cutoff)))\"}]}, {\"data\": {\"name\": \"data-9c00aa9dc2b1c1a0b4bf9b34ead12925\"}, \"mark\": \"rule\", \"encoding\": {\"x\": {\"type\": \"quantitative\", \"field\": \"x\"}}}]}], \"padding\": 10, \"$schema\": \"https://vega.github.io/schema/vega-lite/v4.8.1.json\", \"datasets\": {\"data-30f3240959b2d9dc877cd3511071cbdd\": [{\"xValue\": -0.06251403882692182}, {\"xValue\": -0.0618888984386526}, {\"xValue\": -0.06126375805038338}, {\"xValue\": -0.06063861766211416}, {\"xValue\": -0.06001347727384494}, {\"xValue\": -0.059388336885575724}, {\"xValue\": -0.058763196497306505}, {\"xValue\": -0.05813805610903729}, {\"xValue\": -0.05751291572076807}, {\"xValue\": -0.05688777533249885}, {\"xValue\": -0.05626263494422963}, {\"xValue\": -0.05563749455596041}, {\"xValue\": -0.055012354167691194}, {\"xValue\": -0.054387213779421975}, {\"xValue\": -0.053762073391152757}, {\"xValue\": -0.05313693300288354}, {\"xValue\": -0.05251179261461432}, {\"xValue\": -0.0518866522263451}, {\"xValue\": -0.05126151183807588}, {\"xValue\": -0.050636371449806664}, {\"xValue\": -0.050011231061537445}, {\"xValue\": -0.049386090673268226}, {\"xValue\": -0.04876095028499901}, {\"xValue\": -0.04813580989672979}, {\"xValue\": -0.04751066950846057}, {\"xValue\": -0.04688552912019135}, {\"xValue\": -0.046260388731922134}, {\"xValue\": -0.045635248343652915}, {\"xValue\": -0.045010107955383696}, {\"xValue\": -0.04438496756711448}, {\"xValue\": -0.04375982717884526}, {\"xValue\": -0.04313468679057604}, {\"xValue\": -0.04250954640230682}, {\"xValue\": -0.0418844060140376}, {\"xValue\": -0.041259265625768385}, {\"xValue\": -0.040634125237499166}, {\"xValue\": -0.04000898484922995}, {\"xValue\": -0.03938384446096073}, {\"xValue\": -0.03875870407269151}, {\"xValue\": -0.03813356368442229}, {\"xValue\": -0.03750842329615307}, {\"xValue\": -0.036883282907883855}, {\"xValue\": -0.036258142519614636}, {\"xValue\": -0.03563300213134542}, {\"xValue\": -0.0350078617430762}, {\"xValue\": -0.03438272135480698}, {\"xValue\": -0.03375758096653776}, {\"xValue\": -0.03313244057826854}, {\"xValue\": -0.032507300189999325}, {\"xValue\": -0.031882159801730106}, {\"xValue\": -0.03125701941346089}, {\"xValue\": -0.03063187902519167}, {\"xValue\": -0.03000673863692245}, {\"xValue\": -0.029381598248653232}, {\"xValue\": -0.028756457860384013}, {\"xValue\": -0.028131317472114795}, {\"xValue\": -0.027506177083845576}, {\"xValue\": -0.026881036695576357}, {\"xValue\": -0.02625589630730714}, {\"xValue\": -0.02563075591903792}, {\"xValue\": -0.0250056155307687}, {\"xValue\": -0.024380475142499483}, {\"xValue\": -0.023755334754230265}, {\"xValue\": -0.023130194365961046}, {\"xValue\": -0.022505053977691827}, {\"xValue\": -0.02187991358942261}, {\"xValue\": -0.02125477320115339}, {\"xValue\": -0.02062963281288417}, {\"xValue\": -0.020004492424614953}, {\"xValue\": -0.019379352036345734}, {\"xValue\": -0.018754211648076516}, {\"xValue\": -0.018129071259807297}, {\"xValue\": -0.01750393087153808}, {\"xValue\": -0.01687879048326886}, {\"xValue\": -0.01625365009499964}, {\"xValue\": -0.015628509706730423}, {\"xValue\": -0.015003369318461204}, {\"xValue\": -0.014378228930191986}, {\"xValue\": -0.013753088541922767}, {\"xValue\": -0.013127948153653549}, {\"xValue\": -0.01250280776538433}, {\"xValue\": -0.011877667377115111}, {\"xValue\": -0.011252526988845893}, {\"xValue\": -0.010627386600576674}, {\"xValue\": -0.010002246212307456}, {\"xValue\": -0.009377105824038237}, {\"xValue\": -0.008751965435769019}, {\"xValue\": -0.0081268250474998}, {\"xValue\": -0.007501684659230581}, {\"xValue\": -0.006876544270961363}, {\"xValue\": -0.006251403882692144}, {\"xValue\": -0.005626263494422926}, {\"xValue\": -0.005001123106153707}, {\"xValue\": -0.0043759827178844884}, {\"xValue\": -0.00375084232961527}, {\"xValue\": -0.0031257019413460513}, {\"xValue\": -0.0025005615530768327}, {\"xValue\": -0.0018754211648076141}, {\"xValue\": -0.0012502807765383955}, {\"xValue\": -0.000625140388269177}, {\"xValue\": 4.163336342344337e-17}, {\"xValue\": 0.0006251403882692602}, {\"xValue\": 0.0012502807765384788}, {\"xValue\": 0.0018754211648076974}, {\"xValue\": 0.002500561553076916}, {\"xValue\": 0.0031257019413461345}, {\"xValue\": 0.003750842329615353}, {\"xValue\": 0.004375982717884572}, {\"xValue\": 0.00500112310615379}, {\"xValue\": 0.005626263494423009}, {\"xValue\": 0.0062514038826922275}, {\"xValue\": 0.006876544270961446}, {\"xValue\": 0.007501684659230665}, {\"xValue\": 0.008126825047499883}, {\"xValue\": 0.008751965435769102}, {\"xValue\": 0.00937710582403832}, {\"xValue\": 0.010002246212307539}, {\"xValue\": 0.010627386600576758}, {\"xValue\": 0.011252526988845976}, {\"xValue\": 0.011877667377115195}, {\"xValue\": 0.012502807765384413}, {\"xValue\": 0.013127948153653632}, {\"xValue\": 0.01375308854192285}, {\"xValue\": 0.014378228930192069}, {\"xValue\": 0.015003369318461288}, {\"xValue\": 0.015628509706730506}, {\"xValue\": 0.016253650094999725}, {\"xValue\": 0.016878790483268943}, {\"xValue\": 0.017503930871538162}, {\"xValue\": 0.01812907125980738}, {\"xValue\": 0.0187542116480766}, {\"xValue\": 0.019379352036345818}, {\"xValue\": 0.020004492424615036}, {\"xValue\": 0.020629632812884255}, {\"xValue\": 0.021254773201153473}, {\"xValue\": 0.021879913589422692}, {\"xValue\": 0.02250505397769191}, {\"xValue\": 0.02313019436596113}, {\"xValue\": 0.023755334754230348}, {\"xValue\": 0.024380475142499566}, {\"xValue\": 0.025005615530768785}, {\"xValue\": 0.025630755919038004}, {\"xValue\": 0.026255896307307222}, {\"xValue\": 0.02688103669557644}, {\"xValue\": 0.02750617708384566}, {\"xValue\": 0.028131317472114878}, {\"xValue\": 0.028756457860384096}, {\"xValue\": 0.029381598248653315}, {\"xValue\": 0.030006738636922534}, {\"xValue\": 0.030631879025191752}, {\"xValue\": 0.03125701941346097}, {\"xValue\": 0.03188215980173019}, {\"xValue\": 0.03250730018999941}, {\"xValue\": 0.03313244057826863}, {\"xValue\": 0.033757580966537845}, {\"xValue\": 0.034382721354807064}, {\"xValue\": 0.03500786174307628}, {\"xValue\": 0.0356330021313455}, {\"xValue\": 0.03625814251961472}, {\"xValue\": 0.03688328290788394}, {\"xValue\": 0.03750842329615316}, {\"xValue\": 0.038133563684422375}, {\"xValue\": 0.038758704072691594}, {\"xValue\": 0.03938384446096081}, {\"xValue\": 0.04000898484923003}, {\"xValue\": 0.04063412523749925}, {\"xValue\": 0.04125926562576847}, {\"xValue\": 0.04188440601403769}, {\"xValue\": 0.042509546402306905}, {\"xValue\": 0.043134686790576124}, {\"xValue\": 0.04375982717884534}, {\"xValue\": 0.04438496756711456}, {\"xValue\": 0.04501010795538378}, {\"xValue\": 0.045635248343653}, {\"xValue\": 0.04626038873192222}, {\"xValue\": 0.046885529120191435}, {\"xValue\": 0.047510669508460654}, {\"xValue\": 0.04813580989672987}, {\"xValue\": 0.04876095028499909}, {\"xValue\": 0.04938609067326831}, {\"xValue\": 0.05001123106153753}, {\"xValue\": 0.05063637144980675}, {\"xValue\": 0.051261511838075965}, {\"xValue\": 0.051886652226345184}, {\"xValue\": 0.0525117926146144}, {\"xValue\": 0.05313693300288362}, {\"xValue\": 0.05376207339115284}, {\"xValue\": 0.05438721377942206}, {\"xValue\": 0.05501235416769128}, {\"xValue\": 0.055637494555960496}, {\"xValue\": 0.056262634944229714}, {\"xValue\": 0.05688777533249893}, {\"xValue\": 0.05751291572076815}, {\"xValue\": 0.05813805610903737}, {\"xValue\": 0.05876319649730659}, {\"xValue\": 0.05938833688557581}, {\"xValue\": 0.060013477273845026}, {\"xValue\": 0.060638617662114244}, {\"xValue\": 0.06126375805038346}, {\"xValue\": 0.06188889843865268}], \"data-c7bc3ae69e1253e8223f70a11d04b99d\": [{\"y\": 0, \"x\": -0.5, \"x2\": 0.5}], \"data-b2155f4b4ed482476c9a0aede197a7d8\": [{\"name\": \"duration_in_month\", \"value\": 0.04886647078040358}, {\"name\": \"credit_amount\", \"value\": 0.003874726856461831}, {\"name\": \"installment_as_income_perc\", \"value\": 0.025932627140780345}, {\"name\": \"present_res_since\", \"value\": 0.0009822424737227797}, {\"name\": \"age\", \"value\": 0.019773035499122016}, {\"name\": \"credits_this_bank\", \"value\": -0.00455620361139643}, {\"name\": \"people_under_maintenance\", \"value\": 0.0006692953526383462}, {\"name\": \"account_check_status=0 <= ... < 200 DM\", \"value\": 0.02306594726021734}, {\"name\": \"account_check_status=< 0 DM\", \"value\": -0.029959846629296256}, {\"name\": \"account_check_status=>= 200 DM / salary assignments for at least 1 year\", \"value\": 0.0021588621858378418}, {\"name\": \"account_check_status=no checking account\", \"value\": -0.032164284425735656}, {\"name\": \"credit_history=all credits at this bank paid back duly\", \"value\": 0.004089566821459752}, {\"name\": \"credit_history=critical account/ other credits existing (not at this bank)\", \"value\": 0.06251403882692182}, {\"name\": \"credit_history=delay in paying off in the past\", \"value\": 0.0009677382086591449}, {\"name\": \"credit_history=existing credits paid back duly till now\", \"value\": 0.007905261600801973}, {\"name\": \"credit_history=no credits taken/ all credits paid back duly\", \"value\": 0.00172965796443243}, {\"name\": \"purpose=(vacation - does not exist?)\", \"value\": 0.005907660303775592}, {\"name\": \"purpose=business\", \"value\": 0.00014898051721088764}, {\"name\": \"purpose=car (new)\", \"value\": 0.01628380344385213}, {\"name\": \"purpose=car (used)\", \"value\": -0.0009840481716187099}, {\"name\": \"purpose=domestic appliances\", \"value\": -0.0007159187129418906}, {\"name\": \"purpose=education\", \"value\": -0.00018129542819978687}, {\"name\": \"purpose=furniture/equipment\", \"value\": -0.00018927555346079085}, {\"name\": \"purpose=radio/television\", \"value\": -0.006981709303052777}, {\"name\": \"purpose=repairs\", \"value\": 0.0014312635222939521}, {\"name\": \"purpose=retraining\", \"value\": -4.493079189900231e-05}, {\"name\": \"savings=.. >= 1000 DM \", \"value\": -0.0006255802011756327}, {\"name\": \"savings=... < 100 DM\", \"value\": -0.0026810630265409717}, {\"name\": \"savings=100 <= ... < 500 DM\", \"value\": 0.003295929052663818}, {\"name\": \"savings=500 <= ... < 1000 DM \", \"value\": -0.000272225213720843}, {\"name\": \"savings=unknown/ no savings account\", \"value\": -0.0048156467766686615}, {\"name\": \"present_emp_since=.. >= 7 years\", \"value\": 0.013006831833536315}, {\"name\": \"present_emp_since=... < 1 year \", \"value\": 0.02199332784591027}, {\"name\": \"present_emp_since=1 <= ... < 4 years\", \"value\": 0.009504383130390995}, {\"name\": \"present_emp_since=4 <= ... < 7 years\", \"value\": 0.0021376335605140014}, {\"name\": \"present_emp_since=unemployed\", \"value\": 0.003481231345478746}, {\"name\": \"personal_status_sex=female : divorced/separated/married\", \"value\": 0.001980788470730072}, {\"name\": \"personal_status_sex=male : divorced/separated\", \"value\": 0.0036789066270687203}, {\"name\": \"personal_status_sex=male : married/widowed\", \"value\": 0.0009453487226778852}, {\"name\": \"personal_status_sex=male : single\", \"value\": 0.003851620062852025}, {\"name\": \"other_debtors=co-applicant\", \"value\": 0.001679176617086112}, {\"name\": \"other_debtors=guarantor\", \"value\": -0.0018760688273264958}, {\"name\": \"other_debtors=none\", \"value\": -0.0010890601064793362}, {\"name\": \"property=if not A121 : building society savings agreement/ life insurance\", \"value\": 0.02765463703220517}, {\"name\": \"property=if not A121/A122 : car or other, not in attribute 6\", \"value\": 0.0014261114543617404}, {\"name\": \"property=real estate\", \"value\": -0.01514769325279542}, {\"name\": \"property=unknown / no property\", \"value\": 0.011159523197399681}, {\"name\": \"other_installment_plans=bank\", \"value\": 0.009693415993595812}, {\"name\": \"other_installment_plans=none\", \"value\": 0.017442758149766095}, {\"name\": \"other_installment_plans=stores\", \"value\": 0.0005770298701573179}, {\"name\": \"housing=for free\", \"value\": -0.00018224015963070177}, {\"name\": \"housing=own\", \"value\": 0.017836394252186742}, {\"name\": \"housing=rent\", \"value\": 0.00491491217995444}, {\"name\": \"job=management/ self-employed/ highly qualified employee/ officer\", \"value\": 0.006953377452999041}, {\"name\": \"job=skilled employee / official\", \"value\": 0.0007983131168006281}, {\"name\": \"job=unemployed/ unskilled - non-resident\", \"value\": 0.0016727867317157493}, {\"name\": \"job=unskilled - resident\", \"value\": -0.001704742032486358}, {\"name\": \"telephone=none\", \"value\": -0.0020057903075457787}, {\"name\": \"telephone=yes, registered under the customers name \", \"value\": 0.014619905782222688}, {\"name\": \"foreign_worker=no\", \"value\": -0.0006748047543977267}, {\"name\": \"foreign_worker=yes\", \"value\": 3.262033119816191e-05}], \"data-9c00aa9dc2b1c1a0b4bf9b34ead12925\": [{\"x\": 0}]}}, {\"mode\": \"vega-lite\"});\n",
       "</script>"
      ],
      "text/plain": [
       "alt.VConcatChart(...)"
      ]
     },
     "metadata": {},
     "output_type": "display_data"
    }
   ],
   "source": [
    "exp.plot_features_importance()"
   ]
  },
  {
   "cell_type": "markdown",
   "id": "included-heath",
   "metadata": {},
   "source": [
    "### LORE explainer\n",
    "Also in this case, in ```config``` you can define the parameters for the explanation method. For LORE, there are several parameters you can set:\n",
    "1. neigh generation ('rndgen', 'random', 'genetic', 'geneticp', 'rndgenp') \n",
    "2. the size of the neigh to generate\n",
    "3. the number of neigh gen to run \n",
    "4. other parameters, specific for the different kinds of neigh generations"
   ]
  },
  {
   "cell_type": "code",
   "execution_count": 111,
   "id": "pending-begin",
   "metadata": {},
   "outputs": [
    {
     "name": "stdout",
     "output_type": "stream",
     "text": [
      "<xailib.explainers.lore_explainer.LoreTabularExplanation object at 0x7f983b214d10>\n"
     ]
    }
   ],
   "source": [
    "explainer = LoreTabularExplainer(bbox)\n",
    "config = {'neigh_type':'rndgen', 'size':1000, 'ocr':0.1, 'ngen':15}\n",
    "explainer.fit(df, class_field, config)\n",
    "exp = explainer.explain(inst)\n",
    "print(exp)"
   ]
  },
  {
   "cell_type": "code",
   "execution_count": 112,
   "id": "fifth-killing",
   "metadata": {},
   "outputs": [
    {
     "data": {
      "text/html": [
       "\n",
       "                <style>\n",
       "                .red {\n",
       "                background-color:firebrick;\n",
       "                padding:3px 5px 3px 5px;\n",
       "                border-radius:5px;\n",
       "\n",
       "                color:white;\n",
       "                }\n",
       "                .rules{\n",
       "                    margin-top:10px;\n",
       "                    font-weight: 400;\n",
       "                }\n",
       "                .rule{\n",
       "                padding:5px 20px 5px 20px;\n",
       "                border-radius:5px;\n",
       "                margin-right:5px;\n",
       "                font-size:12px;\n",
       "                line-height:20px;\n",
       "                display: block;\n",
       "                margin-bottom: 10px;\n",
       "                width: fit-content;\n",
       "                \n",
       "                color:white;\n",
       "                background-color:firebrick;\n",
       "                opacity:0.8;\n",
       "                }\n",
       "                </style>\n",
       "                "
      ],
      "text/plain": [
       "<IPython.core.display.HTML object>"
      ]
     },
     "metadata": {},
     "output_type": "display_data"
    },
    {
     "data": {
      "text/html": [
       "\n",
       "            <h3>Why the predicted value for class <span class='red'>default</span> is <span class='red'>0</span> ?</h3>\n",
       "            "
      ],
      "text/plain": [
       "<IPython.core.display.HTML object>"
      ]
     },
     "metadata": {},
     "output_type": "display_data"
    },
    {
     "data": {
      "text/html": [
       "\n",
       "            <p>Because all the following conditions happen:</p>\n",
       "            "
      ],
      "text/plain": [
       "<IPython.core.display.HTML object>"
      ]
     },
     "metadata": {},
     "output_type": "display_data"
    },
    {
     "data": {
      "text/html": [
       "<p class='rules'><span class='rule'>credit history=critical account/ other credits existing (not at this bank) <strong>></strong> 0.02725259866565466</span><span class='rule'>property=unknown / no property <strong><=</strong> 0.012934748083353043</span><span class='rule'>property=if not A121 : building society savings agreement/ life insurance <strong>></strong> -0.3550228327512741</span><span class='rule'>other installment plans=bank <strong><=</strong> 0.7217925190925598</span><span class='rule'>purpose=(vacation - does not exist?) <strong><=</strong> 0.21445884555578232</span><span class='rule'>job=unemployed/ unskilled - non-resident <strong><=</strong> 0.6656401306390762</span><span class='rule'>credit history=no credits taken/ all credits paid back duly <strong><=</strong> 0.750508040189743</span><span class='rule'>credit amount <strong><=</strong> 7813.509765625</span><span class='rule'>age <strong>></strong> 11.937175750732422</span></p>"
      ],
      "text/plain": [
       "<IPython.core.display.HTML object>"
      ]
     },
     "metadata": {},
     "output_type": "display_data"
    }
   ],
   "source": [
    "exp.plotRules()"
   ]
  },
  {
   "cell_type": "code",
   "execution_count": 113,
   "id": "caroline-effects",
   "metadata": {},
   "outputs": [
    {
     "data": {
      "text/html": [
       "\n",
       "                <style>\n",
       "                .red {\n",
       "                background-color:firebrick;\n",
       "                padding:3px 5px 3px 5px;\n",
       "                border-radius:5px;\n",
       "                color:white;\n",
       "                }\n",
       "                .crules{\n",
       "                    margin-top:10px;\n",
       "                    font-weight: 400;\n",
       "                }\n",
       "                .crule{            \n",
       "                padding:5px 20px 5px 20px;\n",
       "                border-radius:5px;\n",
       "                margin-right:5px;\n",
       "                font-size:12px;\n",
       "                line-height:20px;\n",
       "                display: block;\n",
       "                margin-bottom: 10px;\n",
       "                width: fit-content;\n",
       "                \n",
       "                color:#202020;\n",
       "                background-color:gold;\n",
       "                }\n",
       "                </style>\n",
       "                "
      ],
      "text/plain": [
       "<IPython.core.display.HTML object>"
      ]
     },
     "metadata": {},
     "output_type": "display_data"
    },
    {
     "data": {
      "text/html": [
       "\n",
       "            <h3>The predicted value for class <span class='red'>default</span> is <span class='red'>0</span>.</h3>\n",
       "            <h3>It would have been:</h3>\n",
       "            "
      ],
      "text/plain": [
       "<IPython.core.display.HTML object>"
      ]
     },
     "metadata": {},
     "output_type": "display_data"
    },
    {
     "data": {
      "text/html": [
       "\n",
       "                <div class='crules'>\n",
       "                    <div>\n",
       "                        <h4><span class='red'>1</span> if the following condition holds</h4>\n",
       "                    </br><span class='crule'>credit history=critical account/ other credits existing (not at this bank) <= 0.02725259866565466</span><span class='crule'>account check status=< 0 DM > 0.48928624391555786</span><span class='crule'>duration in month <= 16.722933769226074</span><span class='crule'>housing=own <= 0.47598662972450256</span><span class='crule'>job=skilled employee / official > 0.974888265132904</span><span class='crule'>telephone=yes, registered under the customers name  <= 0.7896575629711151</span><span class='crule'>purpose=car (used) <= 0.5</span><span class='crule'>people under maintenance > 0.5</span><span class='crule'>property=if not A121 : building society savings agreement/ life insurance <= 0.5</span><span class='crule'>other debtors=co-applicant > 0.5</span>\n",
       "                    </div>\n",
       "                </div>\n",
       "            "
      ],
      "text/plain": [
       "<IPython.core.display.HTML object>"
      ]
     },
     "metadata": {},
     "output_type": "display_data"
    }
   ],
   "source": [
    "exp.plotCounterfactualRules()"
   ]
  },
  {
   "cell_type": "markdown",
   "id": "acute-reporter",
   "metadata": {},
   "source": [
    "### LIME explainer"
   ]
  },
  {
   "cell_type": "code",
   "execution_count": 114,
   "id": "juvenile-finder",
   "metadata": {},
   "outputs": [
    {
     "name": "stdout",
     "output_type": "stream",
     "text": [
      "[('duration_in_month', 0.037705948024633694), ('account_check_status=< 0 DM', 0.03582536256475303), ('account_check_status=no checking account', -0.03510634218570146), ('credit_history=critical account/ other credits existing (not at this bank)', -0.03035451539595378), ('age', -0.02482164713361578), ('savings=... < 100 DM', 0.024151438610680913), ('other_installment_plans=none', -0.019875790012019456), ('present_emp_since=... < 1 year ', 0.01867940374862871), ('account_check_status=0 <= ... < 200 DM', 0.01785842620633365), ('credit_amount', 0.0153082061555472)]\n"
     ]
    }
   ],
   "source": [
    "limeExplainer = LimeXAITabularExplainer(bbox)\n",
    "config = {'feature_selection': 'lasso_path'}\n",
    "limeExplainer.fit(df, class_field, config)\n",
    "lime_exp = limeExplainer.explain(inst)\n",
    "print(lime_exp.exp.as_list())"
   ]
  },
  {
   "cell_type": "code",
   "execution_count": 115,
   "id": "expensive-secondary",
   "metadata": {},
   "outputs": [
    {
     "data": {
      "text/html": [
       "\n",
       "        <style>\n",
       "        .vega-bind {\n",
       "          position: absolute;\n",
       "          left: 0px;\n",
       "          top: 0px;\n",
       "          background-color:#eee;\n",
       "          padding:10px;\n",
       "          font-size:10px;\n",
       "        }\n",
       "        .chart-wrapper{\n",
       "          padding-top: 70px;\n",
       "        }\n",
       "\n",
       "        </style>\n",
       "        "
      ],
      "text/plain": [
       "<IPython.core.display.HTML object>"
      ]
     },
     "metadata": {},
     "output_type": "display_data"
    },
    {
     "data": {
      "text/html": [
       "\n",
       "<div id=\"altair-viz-d39cd39aed914cdcaf911c498d82f4dd\"></div>\n",
       "<script type=\"text/javascript\">\n",
       "  (function(spec, embedOpt){\n",
       "    let outputDiv = document.currentScript.previousElementSibling;\n",
       "    if (outputDiv.id !== \"altair-viz-d39cd39aed914cdcaf911c498d82f4dd\") {\n",
       "      outputDiv = document.getElementById(\"altair-viz-d39cd39aed914cdcaf911c498d82f4dd\");\n",
       "    }\n",
       "    const paths = {\n",
       "      \"vega\": \"https://cdn.jsdelivr.net/npm//vega@5?noext\",\n",
       "      \"vega-lib\": \"https://cdn.jsdelivr.net/npm//vega-lib?noext\",\n",
       "      \"vega-lite\": \"https://cdn.jsdelivr.net/npm//vega-lite@4.8.1?noext\",\n",
       "      \"vega-embed\": \"https://cdn.jsdelivr.net/npm//vega-embed@6?noext\",\n",
       "    };\n",
       "\n",
       "    function loadScript(lib) {\n",
       "      return new Promise(function(resolve, reject) {\n",
       "        var s = document.createElement('script');\n",
       "        s.src = paths[lib];\n",
       "        s.async = true;\n",
       "        s.onload = () => resolve(paths[lib]);\n",
       "        s.onerror = () => reject(`Error loading script: ${paths[lib]}`);\n",
       "        document.getElementsByTagName(\"head\")[0].appendChild(s);\n",
       "      });\n",
       "    }\n",
       "\n",
       "    function showError(err) {\n",
       "      outputDiv.innerHTML = `<div class=\"error\" style=\"color:red;\">${err}</div>`;\n",
       "      throw err;\n",
       "    }\n",
       "\n",
       "    function displayChart(vegaEmbed) {\n",
       "      vegaEmbed(outputDiv, spec, embedOpt)\n",
       "        .catch(err => showError(`Javascript Error: ${err.message}<br>This usually means there's a typo in your chart specification. See the javascript console for the full traceback.`));\n",
       "    }\n",
       "\n",
       "    if(typeof define === \"function\" && define.amd) {\n",
       "      requirejs.config({paths});\n",
       "      require([\"vega-embed\"], displayChart, err => showError(`Error loading script: ${err.message}`));\n",
       "    } else if (typeof vegaEmbed === \"function\") {\n",
       "      displayChart(vegaEmbed);\n",
       "    } else {\n",
       "      loadScript(\"vega\")\n",
       "        .then(() => loadScript(\"vega-lite\"))\n",
       "        .then(() => loadScript(\"vega-embed\"))\n",
       "        .catch(showError)\n",
       "        .then(() => displayChart(vegaEmbed));\n",
       "    }\n",
       "  })({\"config\": {\"view\": {\"continuousWidth\": 400, \"continuousHeight\": 300}, \"axis\": {\"labelFontSize\": 10, \"labelLimit\": 225.0}}, \"vconcat\": [{\"layer\": [{\"data\": {\"name\": \"data-ef4e5d1ad2e284485e8a4abcbad8fadf\"}, \"mark\": {\"type\": \"rule\", \"strokeWidth\": 3}, \"encoding\": {\"color\": {\"type\": \"quantitative\", \"field\": \"xValue\", \"legend\": null, \"scale\": {\"domain\": [-0.037705948024633694, 0.037705948024633694], \"domainMid\": 0, \"scheme\": \"redyellowblue\"}}, \"x\": {\"type\": \"quantitative\", \"axis\": {\"orient\": \"top\", \"titleFontSize\": 10}, \"field\": \"xValue\", \"title\": \"Select a cutoff range for Feature Importance values \"}}}, {\"data\": {\"name\": \"data-c7bc3ae69e1253e8223f70a11d04b99d\"}, \"mark\": {\"type\": \"rect\", \"color\": \"black\", \"height\": 20, \"opacity\": 0.4, \"tooltip\": true}, \"encoding\": {\"x\": {\"type\": \"quantitative\", \"field\": \"x_min\"}, \"x2\": {\"field\": \"x_max\"}, \"y\": {\"type\": \"quantitative\", \"axis\": null, \"field\": \"y\"}}, \"selection\": {\"Cutter\": {\"type\": \"single\", \"fields\": [\"cutoff\"], \"bind\": {\"input\": \"range\", \"max\": 0.037705948024633694, \"min\": 0, \"name\": \"Importance cutoff value (\\u00b1) \", \"step\": 0.0007541189604926739}, \"init\": {\"cutoff\": 0.0}}}, \"transform\": [{\"calculate\": \"(-Cutter.cutoff)\", \"as\": \"x_min\"}, {\"calculate\": \"Cutter.cutoff\", \"as\": \"x_max\"}]}], \"height\": 20}, {\"layer\": [{\"data\": {\"name\": \"data-c2c07b4e0c013e636cb7436a720e1f4a\"}, \"mark\": \"bar\", \"encoding\": {\"color\": {\"type\": \"quantitative\", \"field\": \"value\", \"legend\": null, \"scale\": {\"domain\": [-0.037705948024633694, 0.037705948024633694], \"domainMid\": 0, \"scheme\": \"blueorange\"}}, \"tooltip\": [{\"type\": \"nominal\", \"field\": \"name\", \"title\": \"Feature\"}, {\"type\": \"quantitative\", \"field\": \"value\", \"title\": \"Importance\"}], \"x\": {\"type\": \"quantitative\", \"field\": \"value\", \"title\": null}, \"y\": {\"type\": \"nominal\", \"field\": \"name\", \"sort\": {\"field\": \"value\", \"op\": \"mean\", \"order\": \"descending\"}, \"title\": null}}, \"selection\": {\"Cutter\": {\"type\": \"single\", \"fields\": [\"cutoff\"], \"bind\": {\"input\": \"range\", \"max\": 0.037705948024633694, \"min\": 0, \"name\": \"Importance cutoff value (\\u00b1) \", \"step\": 0.0007541189604926739}, \"init\": {\"cutoff\": 0.0}}}, \"transform\": [{\"filter\": \"((datum.value > Cutter.cutoff) || (datum.value < (-Cutter.cutoff)))\"}]}, {\"data\": {\"name\": \"data-9c00aa9dc2b1c1a0b4bf9b34ead12925\"}, \"mark\": \"rule\", \"encoding\": {\"x\": {\"type\": \"quantitative\", \"field\": \"x\"}}}]}], \"padding\": 10, \"$schema\": \"https://vega.github.io/schema/vega-lite/v4.8.1.json\", \"datasets\": {\"data-ef4e5d1ad2e284485e8a4abcbad8fadf\": [{\"xValue\": -0.037705948024633694}, {\"xValue\": -0.03732888854438736}, {\"xValue\": -0.036951829064141024}, {\"xValue\": -0.03657476958389469}, {\"xValue\": -0.036197710103648355}, {\"xValue\": -0.03582065062340202}, {\"xValue\": -0.035443591143155685}, {\"xValue\": -0.03506653166290935}, {\"xValue\": -0.034689472182663016}, {\"xValue\": -0.03431241270241668}, {\"xValue\": -0.033935353222170346}, {\"xValue\": -0.03355829374192401}, {\"xValue\": -0.033181234261677676}, {\"xValue\": -0.03280417478143134}, {\"xValue\": -0.03242711530118501}, {\"xValue\": -0.03205005582093867}, {\"xValue\": -0.03167299634069234}, {\"xValue\": -0.031295936860446}, {\"xValue\": -0.030918877380199668}, {\"xValue\": -0.030541817899953333}, {\"xValue\": -0.030164758419706998}, {\"xValue\": -0.029787698939460663}, {\"xValue\": -0.02941063945921433}, {\"xValue\": -0.029033579978967994}, {\"xValue\": -0.02865652049872166}, {\"xValue\": -0.028279461018475324}, {\"xValue\": -0.02790240153822899}, {\"xValue\": -0.027525342057982655}, {\"xValue\": -0.02714828257773632}, {\"xValue\": -0.026771223097489985}, {\"xValue\": -0.02639416361724365}, {\"xValue\": -0.026017104136997315}, {\"xValue\": -0.02564004465675098}, {\"xValue\": -0.025262985176504646}, {\"xValue\": -0.02488592569625831}, {\"xValue\": -0.024508866216011976}, {\"xValue\": -0.02413180673576564}, {\"xValue\": -0.023754747255519307}, {\"xValue\": -0.023377687775272972}, {\"xValue\": -0.023000628295026637}, {\"xValue\": -0.022623568814780302}, {\"xValue\": -0.022246509334533968}, {\"xValue\": -0.021869449854287633}, {\"xValue\": -0.021492390374041298}, {\"xValue\": -0.021115330893794963}, {\"xValue\": -0.02073827141354863}, {\"xValue\": -0.020361211933302294}, {\"xValue\": -0.01998415245305596}, {\"xValue\": -0.019607092972809624}, {\"xValue\": -0.01923003349256329}, {\"xValue\": -0.018852974012316955}, {\"xValue\": -0.01847591453207062}, {\"xValue\": -0.018098855051824285}, {\"xValue\": -0.01772179557157795}, {\"xValue\": -0.017344736091331615}, {\"xValue\": -0.01696767661108528}, {\"xValue\": -0.016590617130838946}, {\"xValue\": -0.01621355765059261}, {\"xValue\": -0.015836498170346276}, {\"xValue\": -0.015459438690099941}, {\"xValue\": -0.015082379209853607}, {\"xValue\": -0.014705319729607272}, {\"xValue\": -0.014328260249360937}, {\"xValue\": -0.013951200769114602}, {\"xValue\": -0.013574141288868267}, {\"xValue\": -0.013197081808621933}, {\"xValue\": -0.012820022328375598}, {\"xValue\": -0.012442962848129263}, {\"xValue\": -0.012065903367882928}, {\"xValue\": -0.011688843887636594}, {\"xValue\": -0.011311784407390259}, {\"xValue\": -0.010934724927143924}, {\"xValue\": -0.01055766544689759}, {\"xValue\": -0.010180605966651254}, {\"xValue\": -0.00980354648640492}, {\"xValue\": -0.009426487006158585}, {\"xValue\": -0.00904942752591225}, {\"xValue\": -0.008672368045665915}, {\"xValue\": -0.00829530856541958}, {\"xValue\": -0.007918249085173246}, {\"xValue\": -0.007541189604926911}, {\"xValue\": -0.007164130124680576}, {\"xValue\": -0.006787070644434241}, {\"xValue\": -0.0064100111641879065}, {\"xValue\": -0.006032951683941572}, {\"xValue\": -0.005655892203695237}, {\"xValue\": -0.005278832723448902}, {\"xValue\": -0.004901773243202567}, {\"xValue\": -0.0045247137629562326}, {\"xValue\": -0.004147654282709898}, {\"xValue\": -0.003770594802463563}, {\"xValue\": -0.003393535322217228}, {\"xValue\": -0.0030164758419708934}, {\"xValue\": -0.0026394163617245586}, {\"xValue\": -0.002262356881478224}, {\"xValue\": -0.001885297401231889}, {\"xValue\": -0.0015082379209855543}, {\"xValue\": -0.0011311784407392195}, {\"xValue\": -0.0007541189604928847}, {\"xValue\": -0.0003770594802465499}, {\"xValue\": -2.1510571102112408e-16}, {\"xValue\": 0.0003770594802461197}, {\"xValue\": 0.0007541189604924545}, {\"xValue\": 0.0011311784407387893}, {\"xValue\": 0.001508237920985124}, {\"xValue\": 0.0018852974012314588}, {\"xValue\": 0.0022623568814777936}, {\"xValue\": 0.0026394163617241284}, {\"xValue\": 0.003016475841970463}, {\"xValue\": 0.003393535322216798}, {\"xValue\": 0.0037705948024631328}, {\"xValue\": 0.0041476542827094676}, {\"xValue\": 0.004524713762955802}, {\"xValue\": 0.004901773243202137}, {\"xValue\": 0.005278832723448472}, {\"xValue\": 0.005655892203694807}, {\"xValue\": 0.0060329516839411415}, {\"xValue\": 0.006410011164187476}, {\"xValue\": 0.006787070644433811}, {\"xValue\": 0.007164130124680146}, {\"xValue\": 0.007541189604926481}, {\"xValue\": 0.007918249085172815}, {\"xValue\": 0.00829530856541915}, {\"xValue\": 0.008672368045665485}, {\"xValue\": 0.00904942752591182}, {\"xValue\": 0.009426487006158155}, {\"xValue\": 0.00980354648640449}, {\"xValue\": 0.010180605966650824}, {\"xValue\": 0.010557665446897159}, {\"xValue\": 0.010934724927143494}, {\"xValue\": 0.011311784407389829}, {\"xValue\": 0.011688843887636163}, {\"xValue\": 0.012065903367882498}, {\"xValue\": 0.012442962848128833}, {\"xValue\": 0.012820022328375168}, {\"xValue\": 0.013197081808621502}, {\"xValue\": 0.013574141288867837}, {\"xValue\": 0.013951200769114172}, {\"xValue\": 0.014328260249360507}, {\"xValue\": 0.014705319729606842}, {\"xValue\": 0.015082379209853176}, {\"xValue\": 0.015459438690099511}, {\"xValue\": 0.015836498170345846}, {\"xValue\": 0.01621355765059218}, {\"xValue\": 0.016590617130838516}, {\"xValue\": 0.01696767661108485}, {\"xValue\": 0.017344736091331185}, {\"xValue\": 0.01772179557157752}, {\"xValue\": 0.018098855051823855}, {\"xValue\": 0.01847591453207019}, {\"xValue\": 0.018852974012316524}, {\"xValue\": 0.01923003349256286}, {\"xValue\": 0.019607092972809194}, {\"xValue\": 0.01998415245305553}, {\"xValue\": 0.020361211933301863}, {\"xValue\": 0.020738271413548198}, {\"xValue\": 0.021115330893794533}, {\"xValue\": 0.021492390374040868}, {\"xValue\": 0.021869449854287203}, {\"xValue\": 0.022246509334533537}, {\"xValue\": 0.022623568814779872}, {\"xValue\": 0.023000628295026207}, {\"xValue\": 0.023377687775272542}, {\"xValue\": 0.023754747255518877}, {\"xValue\": 0.02413180673576521}, {\"xValue\": 0.024508866216011546}, {\"xValue\": 0.02488592569625788}, {\"xValue\": 0.025262985176504223}, {\"xValue\": 0.02564004465675055}, {\"xValue\": 0.02601710413699688}, {\"xValue\": 0.02639416361724322}, {\"xValue\": 0.026771223097489562}, {\"xValue\": 0.02714828257773589}, {\"xValue\": 0.027525342057982218}, {\"xValue\": 0.02790240153822856}, {\"xValue\": 0.0282794610184749}, {\"xValue\": 0.02865652049872123}, {\"xValue\": 0.029033579978967557}, {\"xValue\": 0.0294106394592139}, {\"xValue\": 0.02978769893946024}, {\"xValue\": 0.030164758419706568}, {\"xValue\": 0.030541817899952896}, {\"xValue\": 0.030918877380199238}, {\"xValue\": 0.03129593686044558}, {\"xValue\": 0.03167299634069191}, {\"xValue\": 0.032050055820938235}, {\"xValue\": 0.03242711530118458}, {\"xValue\": 0.03280417478143092}, {\"xValue\": 0.033181234261677246}, {\"xValue\": 0.033558293741923574}, {\"xValue\": 0.033935353222169916}, {\"xValue\": 0.03431241270241626}, {\"xValue\": 0.034689472182662585}, {\"xValue\": 0.03506653166290891}, {\"xValue\": 0.035443591143155255}, {\"xValue\": 0.0358206506234016}, {\"xValue\": 0.036197710103647925}, {\"xValue\": 0.03657476958389425}, {\"xValue\": 0.036951829064140594}, {\"xValue\": 0.037328888544386936}], \"data-c7bc3ae69e1253e8223f70a11d04b99d\": [{\"y\": 0, \"x\": -0.5, \"x2\": 0.5}], \"data-c2c07b4e0c013e636cb7436a720e1f4a\": [{\"name\": \"duration_in_month\", \"value\": 0.037705948024633694}, {\"name\": \"account_check_status=< 0 DM\", \"value\": 0.03582536256475303}, {\"name\": \"account_check_status=no checking account\", \"value\": -0.03510634218570146}, {\"name\": \"credit_history=critical account/ other credits existing (not at this bank)\", \"value\": -0.03035451539595378}, {\"name\": \"age\", \"value\": -0.02482164713361578}, {\"name\": \"savings=... < 100 DM\", \"value\": 0.024151438610680913}, {\"name\": \"other_installment_plans=none\", \"value\": -0.019875790012019456}, {\"name\": \"present_emp_since=... < 1 year \", \"value\": 0.01867940374862871}, {\"name\": \"account_check_status=0 <= ... < 200 DM\", \"value\": 0.01785842620633365}, {\"name\": \"credit_amount\", \"value\": 0.0153082061555472}], \"data-9c00aa9dc2b1c1a0b4bf9b34ead12925\": [{\"x\": 0}]}}, {\"mode\": \"vega-lite\"});\n",
       "</script>"
      ],
      "text/plain": [
       "alt.VConcatChart(...)"
      ]
     },
     "metadata": {},
     "output_type": "display_data"
    }
   ],
   "source": [
    "# limeExplainer.plot_lime_values(lime_exp.as_list(), 5, 10)\n",
    "lime_exp.plot_features_importance()"
   ]
  },
  {
   "cell_type": "markdown",
   "id": "obvious-northwest",
   "metadata": {},
   "source": [
    "## Learning a different model\n",
    "\n",
    "### Learning a Logistic Regressor\n",
    "\n",
    "We train a Logistic Regression by using the ```sklearn``` library. We transform the dataset by using a ```Scaler``` to normalize all the attributes.\n"
   ]
  },
  {
   "cell_type": "code",
   "execution_count": 116,
   "id": "broad-teach",
   "metadata": {},
   "outputs": [],
   "source": [
    "scaler = preprocessing.MinMaxScaler().fit(X_train)\n",
    "X_scaled = scaler.transform(X_train)\n",
    "\n",
    "bb = LogisticRegression(C=0.5, penalty='l2', solver='sag', max_iter=500, intercept_scaling=0.4 )\n",
    "bb.fit(X_scaled, Y_train.values)\n",
    "# pass the model to the wrapper to use it in the XAI lib\n",
    "bbox = sklearn_classifier_wrapper(bb)"
   ]
  },
  {
   "cell_type": "code",
   "execution_count": 117,
   "id": "focal-crowd",
   "metadata": {},
   "outputs": [
    {
     "name": "stdout",
     "output_type": "stream",
     "text": [
      "Instance  [0.78571429 0.75805728 1.         1.         0.30357143 0.\n",
      " 0.         1.         0.         0.         0.         1.\n",
      " 0.         0.         0.         0.         0.         0.\n",
      " 1.         0.         0.         0.         0.         0.\n",
      " 0.         0.         0.         0.         0.         0.\n",
      " 1.         0.         0.         0.         0.         1.\n",
      " 0.         0.         0.         1.         1.         0.\n",
      " 0.         0.         0.         0.         1.         0.\n",
      " 1.         0.         1.         0.         0.         1.\n",
      " 0.         0.         0.         0.         1.         0.\n",
      " 1.        ]\n",
      "Predicted class  [1]\n"
     ]
    }
   ],
   "source": [
    "# select a record to explain\n",
    "inst = X_scaled[182]\n",
    "print('Instance ',inst)\n",
    "print('Predicted class ',bb.predict(inst.reshape(1, -1)))"
   ]
  },
  {
   "cell_type": "markdown",
   "id": "consolidated-penetration",
   "metadata": {},
   "source": [
    "## Explaining the prediction\n",
    "We use the same explainators as for the previous model. In this case, a few adjustments are necessary for the initialization of the explanators. For example, SHAP needs a specific configuration for the linear model we are using.\n",
    "### SHAP Explainer"
   ]
  },
  {
   "cell_type": "code",
   "execution_count": 118,
   "id": "interesting-clinic",
   "metadata": {},
   "outputs": [],
   "source": [
    "explainer = ShapXAITabularExplainer(bbox, feature_names)\n",
    "config = {'explainer' : 'linear', 'X_train' : X_scaled[0:100], 'feature_pert' : 'interventional'}\n",
    "explainer.fit(config)"
   ]
  },
  {
   "cell_type": "code",
   "execution_count": 119,
   "id": "intended-hostel",
   "metadata": {},
   "outputs": [
    {
     "name": "stdout",
     "output_type": "stream",
     "text": [
      "<xailib.explainers.shap_explainer_tab.ShapXAITabularExplanation object at 0x7f983b837a50>\n"
     ]
    }
   ],
   "source": [
    "exp = explainer.explain(inst)\n",
    "print(exp)"
   ]
  },
  {
   "cell_type": "code",
   "execution_count": 120,
   "id": "suffering-rough",
   "metadata": {},
   "outputs": [
    {
     "data": {
      "text/html": [
       "\n",
       "        <style>\n",
       "        .vega-bind {\n",
       "          position: absolute;\n",
       "          left: 0px;\n",
       "          top: 0px;\n",
       "          background-color:#eee;\n",
       "          padding:10px;\n",
       "          font-size:10px;\n",
       "        }\n",
       "        .chart-wrapper{\n",
       "          padding-top: 70px;\n",
       "        }\n",
       "\n",
       "        </style>\n",
       "        "
      ],
      "text/plain": [
       "<IPython.core.display.HTML object>"
      ]
     },
     "metadata": {},
     "output_type": "display_data"
    },
    {
     "data": {
      "text/html": [
       "\n",
       "<div id=\"altair-viz-7856f186c3c043daaef1a3212b422f89\"></div>\n",
       "<script type=\"text/javascript\">\n",
       "  (function(spec, embedOpt){\n",
       "    let outputDiv = document.currentScript.previousElementSibling;\n",
       "    if (outputDiv.id !== \"altair-viz-7856f186c3c043daaef1a3212b422f89\") {\n",
       "      outputDiv = document.getElementById(\"altair-viz-7856f186c3c043daaef1a3212b422f89\");\n",
       "    }\n",
       "    const paths = {\n",
       "      \"vega\": \"https://cdn.jsdelivr.net/npm//vega@5?noext\",\n",
       "      \"vega-lib\": \"https://cdn.jsdelivr.net/npm//vega-lib?noext\",\n",
       "      \"vega-lite\": \"https://cdn.jsdelivr.net/npm//vega-lite@4.8.1?noext\",\n",
       "      \"vega-embed\": \"https://cdn.jsdelivr.net/npm//vega-embed@6?noext\",\n",
       "    };\n",
       "\n",
       "    function loadScript(lib) {\n",
       "      return new Promise(function(resolve, reject) {\n",
       "        var s = document.createElement('script');\n",
       "        s.src = paths[lib];\n",
       "        s.async = true;\n",
       "        s.onload = () => resolve(paths[lib]);\n",
       "        s.onerror = () => reject(`Error loading script: ${paths[lib]}`);\n",
       "        document.getElementsByTagName(\"head\")[0].appendChild(s);\n",
       "      });\n",
       "    }\n",
       "\n",
       "    function showError(err) {\n",
       "      outputDiv.innerHTML = `<div class=\"error\" style=\"color:red;\">${err}</div>`;\n",
       "      throw err;\n",
       "    }\n",
       "\n",
       "    function displayChart(vegaEmbed) {\n",
       "      vegaEmbed(outputDiv, spec, embedOpt)\n",
       "        .catch(err => showError(`Javascript Error: ${err.message}<br>This usually means there's a typo in your chart specification. See the javascript console for the full traceback.`));\n",
       "    }\n",
       "\n",
       "    if(typeof define === \"function\" && define.amd) {\n",
       "      requirejs.config({paths});\n",
       "      require([\"vega-embed\"], displayChart, err => showError(`Error loading script: ${err.message}`));\n",
       "    } else if (typeof vegaEmbed === \"function\") {\n",
       "      displayChart(vegaEmbed);\n",
       "    } else {\n",
       "      loadScript(\"vega\")\n",
       "        .then(() => loadScript(\"vega-lite\"))\n",
       "        .then(() => loadScript(\"vega-embed\"))\n",
       "        .catch(showError)\n",
       "        .then(() => displayChart(vegaEmbed));\n",
       "    }\n",
       "  })({\"config\": {\"view\": {\"continuousWidth\": 400, \"continuousHeight\": 300}, \"axis\": {\"labelFontSize\": 10, \"labelLimit\": 225.0}}, \"vconcat\": [{\"layer\": [{\"data\": {\"name\": \"data-e11171032054a96ca90ff3f5b59daad9\"}, \"mark\": {\"type\": \"rule\", \"strokeWidth\": 3}, \"encoding\": {\"color\": {\"type\": \"quantitative\", \"field\": \"xValue\", \"legend\": null, \"scale\": {\"domain\": [-0.6000354243683463, 0.6000354243683463], \"domainMid\": 0, \"scheme\": \"redyellowblue\"}}, \"x\": {\"type\": \"quantitative\", \"axis\": {\"orient\": \"top\", \"titleFontSize\": 10}, \"field\": \"xValue\", \"title\": \"Select a cutoff range for Feature Importance values \"}}}, {\"data\": {\"name\": \"data-c7bc3ae69e1253e8223f70a11d04b99d\"}, \"mark\": {\"type\": \"rect\", \"color\": \"black\", \"height\": 20, \"opacity\": 0.4, \"tooltip\": true}, \"encoding\": {\"x\": {\"type\": \"quantitative\", \"field\": \"x_min\"}, \"x2\": {\"field\": \"x_max\"}, \"y\": {\"type\": \"quantitative\", \"axis\": null, \"field\": \"y\"}}, \"selection\": {\"Cutter\": {\"type\": \"single\", \"fields\": [\"cutoff\"], \"bind\": {\"input\": \"range\", \"max\": 0.6000354243683463, \"min\": 0, \"name\": \"Importance cutoff value (\\u00b1) \", \"step\": 0.012000708487366927}, \"init\": {\"cutoff\": 0.0}}}, \"transform\": [{\"calculate\": \"(-Cutter.cutoff)\", \"as\": \"x_min\"}, {\"calculate\": \"Cutter.cutoff\", \"as\": \"x_max\"}]}], \"height\": 20}, {\"layer\": [{\"data\": {\"name\": \"data-1bac592b71c81c3b791b6e29ce18fb02\"}, \"mark\": \"bar\", \"encoding\": {\"color\": {\"type\": \"quantitative\", \"field\": \"value\", \"legend\": null, \"scale\": {\"domain\": [-0.6000354243683463, 0.6000354243683463], \"domainMid\": 0, \"scheme\": \"blueorange\"}}, \"tooltip\": [{\"type\": \"nominal\", \"field\": \"name\", \"title\": \"Feature\"}, {\"type\": \"quantitative\", \"field\": \"value\", \"title\": \"Importance\"}], \"x\": {\"type\": \"quantitative\", \"field\": \"value\", \"title\": null}, \"y\": {\"type\": \"nominal\", \"field\": \"name\", \"sort\": {\"field\": \"value\", \"op\": \"mean\", \"order\": \"descending\"}, \"title\": null}}, \"selection\": {\"Cutter\": {\"type\": \"single\", \"fields\": [\"cutoff\"], \"bind\": {\"input\": \"range\", \"max\": 0.6000354243683463, \"min\": 0, \"name\": \"Importance cutoff value (\\u00b1) \", \"step\": 0.012000708487366927}, \"init\": {\"cutoff\": 0.0}}}, \"transform\": [{\"filter\": \"((datum.value > Cutter.cutoff) || (datum.value < (-Cutter.cutoff)))\"}]}, {\"data\": {\"name\": \"data-9c00aa9dc2b1c1a0b4bf9b34ead12925\"}, \"mark\": \"rule\", \"encoding\": {\"x\": {\"type\": \"quantitative\", \"field\": \"x\"}}}]}], \"padding\": 10, \"$schema\": \"https://vega.github.io/schema/vega-lite/v4.8.1.json\", \"datasets\": {\"data-e11171032054a96ca90ff3f5b59daad9\": [{\"xValue\": -0.6000354243683463}, {\"xValue\": -0.5940350701246628}, {\"xValue\": -0.5880347158809793}, {\"xValue\": -0.5820343616372958}, {\"xValue\": -0.5760340073936123}, {\"xValue\": -0.5700336531499288}, {\"xValue\": -0.5640332989062453}, {\"xValue\": -0.5580329446625618}, {\"xValue\": -0.5520325904188783}, {\"xValue\": -0.5460322361751948}, {\"xValue\": -0.5400318819315113}, {\"xValue\": -0.5340315276878278}, {\"xValue\": -0.5280311734441443}, {\"xValue\": -0.5220308192004608}, {\"xValue\": -0.5160304649567773}, {\"xValue\": -0.5100301107130938}, {\"xValue\": -0.5040297564694103}, {\"xValue\": -0.4980294022257268}, {\"xValue\": -0.4920290479820433}, {\"xValue\": -0.4860286937383598}, {\"xValue\": -0.48002833949467627}, {\"xValue\": -0.47402798525099277}, {\"xValue\": -0.46802763100730926}, {\"xValue\": -0.46202727676362576}, {\"xValue\": -0.45602692251994226}, {\"xValue\": -0.45002656827625875}, {\"xValue\": -0.44402621403257525}, {\"xValue\": -0.43802585978889175}, {\"xValue\": -0.43202550554520824}, {\"xValue\": -0.42602515130152474}, {\"xValue\": -0.42002479705784124}, {\"xValue\": -0.41402444281415773}, {\"xValue\": -0.40802408857047423}, {\"xValue\": -0.4020237343267907}, {\"xValue\": -0.3960233800831072}, {\"xValue\": -0.3900230258394237}, {\"xValue\": -0.3840226715957402}, {\"xValue\": -0.3780223173520567}, {\"xValue\": -0.3720219631083732}, {\"xValue\": -0.3660216088646897}, {\"xValue\": -0.3600212546210062}, {\"xValue\": -0.3540209003773227}, {\"xValue\": -0.3480205461336392}, {\"xValue\": -0.3420201918899557}, {\"xValue\": -0.3360198376462722}, {\"xValue\": -0.3300194834025887}, {\"xValue\": -0.3240191291589052}, {\"xValue\": -0.3180187749152217}, {\"xValue\": -0.3120184206715382}, {\"xValue\": -0.3060180664278547}, {\"xValue\": -0.30001771218417117}, {\"xValue\": -0.29401735794048767}, {\"xValue\": -0.28801700369680416}, {\"xValue\": -0.28201664945312066}, {\"xValue\": -0.27601629520943716}, {\"xValue\": -0.27001594096575365}, {\"xValue\": -0.26401558672207015}, {\"xValue\": -0.25801523247838665}, {\"xValue\": -0.25201487823470314}, {\"xValue\": -0.24601452399101964}, {\"xValue\": -0.24001416974733614}, {\"xValue\": -0.23401381550365263}, {\"xValue\": -0.22801346125996913}, {\"xValue\": -0.22201310701628563}, {\"xValue\": -0.21601275277260212}, {\"xValue\": -0.21001239852891862}, {\"xValue\": -0.20401204428523512}, {\"xValue\": -0.1980116900415516}, {\"xValue\": -0.1920113357978681}, {\"xValue\": -0.1860109815541846}, {\"xValue\": -0.1800106273105011}, {\"xValue\": -0.1740102730668176}, {\"xValue\": -0.1680099188231341}, {\"xValue\": -0.1620095645794506}, {\"xValue\": -0.1560092103357671}, {\"xValue\": -0.1500088560920836}, {\"xValue\": -0.14400850184840008}, {\"xValue\": -0.13800814760471658}, {\"xValue\": -0.13200779336103308}, {\"xValue\": -0.12600743911734957}, {\"xValue\": -0.12000708487366607}, {\"xValue\": -0.11400673062998257}, {\"xValue\": -0.10800637638629906}, {\"xValue\": -0.10200602214261556}, {\"xValue\": -0.09600566789893206}, {\"xValue\": -0.09000531365524855}, {\"xValue\": -0.08400495941156505}, {\"xValue\": -0.07800460516788155}, {\"xValue\": -0.07200425092419804}, {\"xValue\": -0.06600389668051454}, {\"xValue\": -0.06000354243683104}, {\"xValue\": -0.05400318819314753}, {\"xValue\": -0.04800283394946403}, {\"xValue\": -0.04200247970578053}, {\"xValue\": -0.03600212546209702}, {\"xValue\": -0.03000177121841352}, {\"xValue\": -0.024001416974730017}, {\"xValue\": -0.018001062731046513}, {\"xValue\": -0.01200070848736301}, {\"xValue\": -0.0060003542436795065}, {\"xValue\": 3.9968028886505635e-15}, {\"xValue\": 0.0060003542436875}, {\"xValue\": 0.012000708487371003}, {\"xValue\": 0.018001062731054507}, {\"xValue\": 0.02400141697473801}, {\"xValue\": 0.030001771218421514}, {\"xValue\": 0.03600212546210502}, {\"xValue\": 0.04200247970578852}, {\"xValue\": 0.048002833949472024}, {\"xValue\": 0.05400318819315553}, {\"xValue\": 0.06000354243683903}, {\"xValue\": 0.06600389668052253}, {\"xValue\": 0.07200425092420604}, {\"xValue\": 0.07800460516788954}, {\"xValue\": 0.08400495941157304}, {\"xValue\": 0.09000531365525655}, {\"xValue\": 0.09600566789894005}, {\"xValue\": 0.10200602214262355}, {\"xValue\": 0.10800637638630706}, {\"xValue\": 0.11400673062999056}, {\"xValue\": 0.12000708487367406}, {\"xValue\": 0.12600743911735757}, {\"xValue\": 0.13200779336104107}, {\"xValue\": 0.13800814760472457}, {\"xValue\": 0.14400850184840808}, {\"xValue\": 0.15000885609209158}, {\"xValue\": 0.15600921033577508}, {\"xValue\": 0.1620095645794586}, {\"xValue\": 0.1680099188231421}, {\"xValue\": 0.1740102730668256}, {\"xValue\": 0.1800106273105091}, {\"xValue\": 0.1860109815541926}, {\"xValue\": 0.1920113357978761}, {\"xValue\": 0.1980116900415596}, {\"xValue\": 0.2040120442852431}, {\"xValue\": 0.2100123985289266}, {\"xValue\": 0.21601275277261012}, {\"xValue\": 0.22201310701629362}, {\"xValue\": 0.22801346125997712}, {\"xValue\": 0.23401381550366063}, {\"xValue\": 0.24001416974734413}, {\"xValue\": 0.24601452399102763}, {\"xValue\": 0.25201487823471114}, {\"xValue\": 0.25801523247839464}, {\"xValue\": 0.26401558672207814}, {\"xValue\": 0.27001594096576165}, {\"xValue\": 0.27601629520944515}, {\"xValue\": 0.28201664945312865}, {\"xValue\": 0.28801700369681216}, {\"xValue\": 0.29401735794049566}, {\"xValue\": 0.30001771218417916}, {\"xValue\": 0.30601806642786267}, {\"xValue\": 0.31201842067154617}, {\"xValue\": 0.3180187749152297}, {\"xValue\": 0.3240191291589132}, {\"xValue\": 0.3300194834025967}, {\"xValue\": 0.3360198376462802}, {\"xValue\": 0.3420201918899637}, {\"xValue\": 0.3480205461336472}, {\"xValue\": 0.3540209003773307}, {\"xValue\": 0.3600212546210142}, {\"xValue\": 0.3660216088646977}, {\"xValue\": 0.3720219631083812}, {\"xValue\": 0.3780223173520647}, {\"xValue\": 0.3840226715957482}, {\"xValue\": 0.3900230258394317}, {\"xValue\": 0.3960233800831152}, {\"xValue\": 0.4020237343267987}, {\"xValue\": 0.4080240885704822}, {\"xValue\": 0.4140244428141657}, {\"xValue\": 0.42002479705784923}, {\"xValue\": 0.42602515130153273}, {\"xValue\": 0.43202550554521624}, {\"xValue\": 0.43802585978889974}, {\"xValue\": 0.44402621403258324}, {\"xValue\": 0.45002656827626675}, {\"xValue\": 0.45602692251995025}, {\"xValue\": 0.46202727676363375}, {\"xValue\": 0.46802763100731726}, {\"xValue\": 0.47402798525100076}, {\"xValue\": 0.48002833949468426}, {\"xValue\": 0.48602869373836777}, {\"xValue\": 0.49202904798205127}, {\"xValue\": 0.4980294022257348}, {\"xValue\": 0.5040297564694183}, {\"xValue\": 0.5100301107131018}, {\"xValue\": 0.5160304649567853}, {\"xValue\": 0.5220308192004688}, {\"xValue\": 0.5280311734441523}, {\"xValue\": 0.5340315276878358}, {\"xValue\": 0.5400318819315193}, {\"xValue\": 0.5460322361752028}, {\"xValue\": 0.5520325904188863}, {\"xValue\": 0.5580329446625698}, {\"xValue\": 0.5640332989062533}, {\"xValue\": 0.5700336531499368}, {\"xValue\": 0.5760340073936203}, {\"xValue\": 0.5820343616373038}, {\"xValue\": 0.5880347158809873}, {\"xValue\": 0.5940350701246708}], \"data-c7bc3ae69e1253e8223f70a11d04b99d\": [{\"y\": 0, \"x\": -0.5, \"x2\": 0.5}], \"data-1bac592b71c81c3b791b6e29ce18fb02\": [{\"name\": \"duration_in_month\", \"value\": 0.6000354243683463}, {\"name\": \"credit_amount\", \"value\": 0.4161399911318144}, {\"name\": \"installment_as_income_perc\", \"value\": 0.22878690690475656}, {\"name\": \"present_res_since\", \"value\": -0.02049506434166722}, {\"name\": \"age\", \"value\": -0.0032837492184411344}, {\"name\": \"credits_this_bank\", \"value\": -0.09589754293343376}, {\"name\": \"people_under_maintenance\", \"value\": -0.0387422145401626}, {\"name\": \"account_check_status=0 <= ... < 200 DM\", \"value\": 0.23566108247377293}, {\"name\": \"account_check_status=< 0 DM\", \"value\": -0.1931554272164472}, {\"name\": \"account_check_status=>= 200 DM / salary assignments for at least 1 year\", \"value\": 0.002401418766726488}, {\"name\": \"account_check_status=no checking account\", \"value\": 0.33163390277048593}, {\"name\": \"credit_history=all credits at this bank paid back duly\", \"value\": 0.29291403495532564}, {\"name\": \"credit_history=critical account/ other credits existing (not at this bank)\", \"value\": 0.2258598691280857}, {\"name\": \"credit_history=delay in paying off in the past\", \"value\": 0.0006599928486670962}, {\"name\": \"credit_history=existing credits paid back duly till now\", \"value\": -0.010457503940418077}, {\"name\": \"credit_history=no credits taken/ all credits paid back duly\", \"value\": -0.017963053167246383}, {\"name\": \"purpose=(vacation - does not exist?)\", \"value\": -0.0482571211222409}, {\"name\": \"purpose=business\", \"value\": -0.009806292193921338}, {\"name\": \"purpose=car (new)\", \"value\": 0.21757255552154972}, {\"name\": \"purpose=car (used)\", \"value\": 0.06183016101389881}, {\"name\": \"purpose=domestic appliances\", \"value\": 0.035083256478758665}, {\"name\": \"purpose=education\", \"value\": 0.0}, {\"name\": \"purpose=furniture/equipment\", \"value\": -0.0}, {\"name\": \"purpose=radio/television\", \"value\": 0.00693402021091401}, {\"name\": \"purpose=repairs\", \"value\": 0.001868756330200607}, {\"name\": \"purpose=retraining\", \"value\": -0.0}, {\"name\": \"savings=.. >= 1000 DM \", \"value\": 0.02721654372377748}, {\"name\": \"savings=... < 100 DM\", \"value\": -0.3806463884056437}, {\"name\": \"savings=100 <= ... < 500 DM\", \"value\": -0.02234120726929631}, {\"name\": \"savings=500 <= ... < 1000 DM \", \"value\": -0.00035196208307482327}, {\"name\": \"savings=unknown/ no savings account\", \"value\": -0.33370857563587103}, {\"name\": \"present_emp_since=.. >= 7 years\", \"value\": 0.02949616952293505}, {\"name\": \"present_emp_since=... < 1 year \", \"value\": -0.040667084292344606}, {\"name\": \"present_emp_since=1 <= ... < 4 years\", \"value\": 0.00715379196067035}, {\"name\": \"present_emp_since=4 <= ... < 7 years\", \"value\": 0.08253450859206587}, {\"name\": \"present_emp_since=unemployed\", \"value\": 0.40610067484115353}, {\"name\": \"personal_status_sex=female : divorced/separated/married\", \"value\": -0.01999042811773237}, {\"name\": \"personal_status_sex=male : divorced/separated\", \"value\": -0.013500297735064974}, {\"name\": \"personal_status_sex=male : married/widowed\", \"value\": -0.0002322437662233207}, {\"name\": \"personal_status_sex=male : single\", \"value\": -0.15030409156555383}, {\"name\": \"other_debtors=co-applicant\", \"value\": 0.3021013657571342}, {\"name\": \"other_debtors=guarantor\", \"value\": 0.021151114430706382}, {\"name\": \"other_debtors=none\", \"value\": -0.08834037671286461}, {\"name\": \"property=if not A121 : building society savings agreement/ life insurance\", \"value\": 0.039960589541122866}, {\"name\": \"property=if not A121/A122 : car or other, not in attribute 6\", \"value\": 0.02758268394495924}, {\"name\": \"property=real estate\", \"value\": 0.08827197916899213}, {\"name\": \"property=unknown / no property\", \"value\": 0.49700851967475734}, {\"name\": \"other_installment_plans=bank\", \"value\": -0.0539791949799655}, {\"name\": \"other_installment_plans=none\", \"value\": -0.08492247461154277}, {\"name\": \"other_installment_plans=stores\", \"value\": -0.0011513635769091}, {\"name\": \"housing=for free\", \"value\": -0.3612559990521473}, {\"name\": \"housing=own\", \"value\": 0.052417061696986234}, {\"name\": \"housing=rent\", \"value\": -0.08395376431140901}, {\"name\": \"job=management/ self-employed/ highly qualified employee/ officer\", \"value\": -0.04480174988917015}, {\"name\": \"job=skilled employee / official\", \"value\": -0.03345812172962006}, {\"name\": \"job=unemployed/ unskilled - non-resident\", \"value\": 0.0003469701597526566}, {\"name\": \"job=unskilled - resident\", \"value\": -0.006406599252601121}, {\"name\": \"telephone=none\", \"value\": -0.058391632732012304}, {\"name\": \"telephone=yes, registered under the customers name \", \"value\": -0.05972387649433436}, {\"name\": \"foreign_worker=no\", \"value\": 0.028039512438460642}, {\"name\": \"foreign_worker=yes\", \"value\": 0.02792056210253924}], \"data-9c00aa9dc2b1c1a0b4bf9b34ead12925\": [{\"x\": 0}]}}, {\"mode\": \"vega-lite\"});\n",
       "</script>"
      ],
      "text/plain": [
       "alt.VConcatChart(...)"
      ]
     },
     "metadata": {},
     "output_type": "display_data"
    }
   ],
   "source": [
    "exp.plot_features_importance()"
   ]
  },
  {
   "cell_type": "markdown",
   "id": "classified-multiple",
   "metadata": {},
   "source": [
    "### LORE explainer"
   ]
  },
  {
   "cell_type": "code",
   "execution_count": 121,
   "id": "enclosed-claim",
   "metadata": {},
   "outputs": [
    {
     "name": "stdout",
     "output_type": "stream",
     "text": [
      "<xailib.explainers.lore_explainer.LoreTabularExplanation object at 0x7f983b82d910>\n"
     ]
    }
   ],
   "source": [
    "explainer = LoreTabularExplainer(bbox)\n",
    "config = {'neigh_type':'geneticp', 'size':1000, 'ocr':0.1, 'ngen':10}\n",
    "explainer.fit(df, class_field, config)\n",
    "exp = explainer.explain(inst)\n",
    "print(exp)"
   ]
  },
  {
   "cell_type": "code",
   "execution_count": 122,
   "id": "descending-hypothesis",
   "metadata": {},
   "outputs": [
    {
     "data": {
      "text/html": [
       "\n",
       "                <style>\n",
       "                .red {\n",
       "                background-color:firebrick;\n",
       "                padding:3px 5px 3px 5px;\n",
       "                border-radius:5px;\n",
       "\n",
       "                color:white;\n",
       "                }\n",
       "                .rules{\n",
       "                    margin-top:10px;\n",
       "                    font-weight: 400;\n",
       "                }\n",
       "                .rule{\n",
       "                padding:5px 20px 5px 20px;\n",
       "                border-radius:5px;\n",
       "                margin-right:5px;\n",
       "                font-size:12px;\n",
       "                line-height:20px;\n",
       "                display: block;\n",
       "                margin-bottom: 10px;\n",
       "                width: fit-content;\n",
       "                \n",
       "                color:white;\n",
       "                background-color:firebrick;\n",
       "                opacity:0.8;\n",
       "                }\n",
       "                </style>\n",
       "                "
      ],
      "text/plain": [
       "<IPython.core.display.HTML object>"
      ]
     },
     "metadata": {},
     "output_type": "display_data"
    },
    {
     "data": {
      "text/html": [
       "\n",
       "            <h3>Why the predicted value for class <span class='red'>default</span> is <span class='red'>1</span> ?</h3>\n",
       "            "
      ],
      "text/plain": [
       "<IPython.core.display.HTML object>"
      ]
     },
     "metadata": {},
     "output_type": "display_data"
    },
    {
     "data": {
      "text/html": [
       "\n",
       "            <p>Because all the following conditions happen:</p>\n",
       "            "
      ],
      "text/plain": [
       "<IPython.core.display.HTML object>"
      ]
     },
     "metadata": {},
     "output_type": "display_data"
    },
    {
     "data": {
      "text/html": [
       "<p class='rules'><span class='rule'>age <strong><=</strong> 20.726173400878906</span><span class='rule'>account check status=< 0 DM <strong>></strong> -0.9131270945072174</span><span class='rule'>credit amount <strong>></strong> -440.94284024834633</span><span class='rule'>purpose=repairs <strong><=</strong> 0.20193837583065033</span><span class='rule'>duration in month <strong>></strong> -2.686830699443817</span><span class='rule'>property=unknown / no property <strong>></strong> 0.11669359356164932</span><span class='rule'>purpose=car (new) <strong>></strong> -0.4560086727142334</span><span class='rule'>credit history=all credits at this bank paid back duly <strong>></strong> -0.40504249930381775</span></p>"
      ],
      "text/plain": [
       "<IPython.core.display.HTML object>"
      ]
     },
     "metadata": {},
     "output_type": "display_data"
    }
   ],
   "source": [
    "exp.plotRules()"
   ]
  },
  {
   "cell_type": "code",
   "execution_count": 123,
   "id": "regulation-genius",
   "metadata": {},
   "outputs": [
    {
     "data": {
      "text/html": [
       "\n",
       "                <style>\n",
       "                .red {\n",
       "                background-color:firebrick;\n",
       "                padding:3px 5px 3px 5px;\n",
       "                border-radius:5px;\n",
       "                color:white;\n",
       "                }\n",
       "                .crules{\n",
       "                    margin-top:10px;\n",
       "                    font-weight: 400;\n",
       "                }\n",
       "                .crule{            \n",
       "                padding:5px 20px 5px 20px;\n",
       "                border-radius:5px;\n",
       "                margin-right:5px;\n",
       "                font-size:12px;\n",
       "                line-height:20px;\n",
       "                display: block;\n",
       "                margin-bottom: 10px;\n",
       "                width: fit-content;\n",
       "                \n",
       "                color:#202020;\n",
       "                background-color:gold;\n",
       "                }\n",
       "                </style>\n",
       "                "
      ],
      "text/plain": [
       "<IPython.core.display.HTML object>"
      ]
     },
     "metadata": {},
     "output_type": "display_data"
    },
    {
     "data": {
      "text/html": [
       "\n",
       "            <h3>The predicted value for class <span class='red'>default</span> is <span class='red'>1</span>.</h3>\n",
       "            <h3>It would have been:</h3>\n",
       "            "
      ],
      "text/plain": [
       "<IPython.core.display.HTML object>"
      ]
     },
     "metadata": {},
     "output_type": "display_data"
    },
    {
     "data": {
      "text/html": [
       "\n",
       "                <div class='crules'>\n",
       "                    <div>\n",
       "                        <h4><span class='red'>0</span> if the following condition holds</h4>\n",
       "                    </br><span class='crule'>age <= 20.726173400878906</span><span class='crule'>account check status=< 0 DM > -0.9131270945072174</span><span class='crule'>credit amount <= -440.94284024834633</span>\n",
       "                    </div>\n",
       "                </div>\n",
       "            "
      ],
      "text/plain": [
       "<IPython.core.display.HTML object>"
      ]
     },
     "metadata": {},
     "output_type": "display_data"
    },
    {
     "data": {
      "text/html": [
       "\n",
       "                <div class='crules'>\n",
       "                    <div>\n",
       "                        <h4><span class='red'>0</span> if the following condition holds</h4>\n",
       "                    </br><span class='crule'>age > 20.726173400878906</span><span class='crule'>credit amount <= 25.170429557561874</span><span class='crule'>duration in month <= 6.156293630599976</span><span class='crule'>telephone=yes, registered under the customers name  > -0.45471973717212677</span>\n",
       "                    </div>\n",
       "                </div>\n",
       "            "
      ],
      "text/plain": [
       "<IPython.core.display.HTML object>"
      ]
     },
     "metadata": {},
     "output_type": "display_data"
    },
    {
     "data": {
      "text/html": [
       "\n",
       "                <div class='crules'>\n",
       "                    <div>\n",
       "                        <h4><span class='red'>0</span> if the following condition holds</h4>\n",
       "                    </br><span class='crule'>age <= 20.726173400878906</span><span class='crule'>account check status=< 0 DM > -0.9131270945072174</span><span class='crule'>credit amount > -440.94284024834633</span><span class='crule'>purpose=repairs <= 0.20193837583065033</span><span class='crule'>duration in month <= -2.686830699443817</span>\n",
       "                    </div>\n",
       "                </div>\n",
       "            "
      ],
      "text/plain": [
       "<IPython.core.display.HTML object>"
      ]
     },
     "metadata": {},
     "output_type": "display_data"
    }
   ],
   "source": [
    "exp.plotCounterfactualRules()"
   ]
  },
  {
   "cell_type": "markdown",
   "id": "critical-little",
   "metadata": {},
   "source": [
    "### LIME explainer\n",
    "Also for LIME there are some parameters you can set. In particular, feature-selection can be lasso_path, forward_selection, auto or none."
   ]
  },
  {
   "cell_type": "code",
   "execution_count": 124,
   "id": "potential-athens",
   "metadata": {},
   "outputs": [
    {
     "name": "stdout",
     "output_type": "stream",
     "text": [
      "[('credit_amount', 0.22754138576339772), ('people_under_maintenance', -0.027117635540170257), ('duration_in_month', 0.022674246194392393), ('personal_status_sex=male : single', 0.020241483432918494), ('present_res_since', 0.016735059112425545), ('foreign_worker=yes', -0.016647768623923757), ('purpose=(vacation - does not exist?)', 0.01619588340323919), ('job=management/ self-employed/ highly qualified employee/ officer', 0.014349312012875655), ('purpose=car (used)', -0.01317583542986617), ('job=unskilled - resident', 0.01293136897938979)]\n"
     ]
    }
   ],
   "source": [
    "limeExplainer = LimeXAITabularExplainer(bbox)\n",
    "config = {'feature_selection': 'lasso_path'}\n",
    "limeExplainer.fit(df, class_field, config)\n",
    "lime_exp = limeExplainer.explain(inst)\n",
    "print(lime_exp.exp.as_list())"
   ]
  },
  {
   "cell_type": "code",
   "execution_count": 125,
   "id": "protective-breed",
   "metadata": {},
   "outputs": [
    {
     "data": {
      "text/html": [
       "\n",
       "        <style>\n",
       "        .vega-bind {\n",
       "          position: absolute;\n",
       "          left: 0px;\n",
       "          top: 0px;\n",
       "          background-color:#eee;\n",
       "          padding:10px;\n",
       "          font-size:10px;\n",
       "        }\n",
       "        .chart-wrapper{\n",
       "          padding-top: 70px;\n",
       "        }\n",
       "\n",
       "        </style>\n",
       "        "
      ],
      "text/plain": [
       "<IPython.core.display.HTML object>"
      ]
     },
     "metadata": {},
     "output_type": "display_data"
    },
    {
     "data": {
      "text/html": [
       "\n",
       "<div id=\"altair-viz-4d43a0ba92ed48b2bb418bf6df85134b\"></div>\n",
       "<script type=\"text/javascript\">\n",
       "  (function(spec, embedOpt){\n",
       "    let outputDiv = document.currentScript.previousElementSibling;\n",
       "    if (outputDiv.id !== \"altair-viz-4d43a0ba92ed48b2bb418bf6df85134b\") {\n",
       "      outputDiv = document.getElementById(\"altair-viz-4d43a0ba92ed48b2bb418bf6df85134b\");\n",
       "    }\n",
       "    const paths = {\n",
       "      \"vega\": \"https://cdn.jsdelivr.net/npm//vega@5?noext\",\n",
       "      \"vega-lib\": \"https://cdn.jsdelivr.net/npm//vega-lib?noext\",\n",
       "      \"vega-lite\": \"https://cdn.jsdelivr.net/npm//vega-lite@4.8.1?noext\",\n",
       "      \"vega-embed\": \"https://cdn.jsdelivr.net/npm//vega-embed@6?noext\",\n",
       "    };\n",
       "\n",
       "    function loadScript(lib) {\n",
       "      return new Promise(function(resolve, reject) {\n",
       "        var s = document.createElement('script');\n",
       "        s.src = paths[lib];\n",
       "        s.async = true;\n",
       "        s.onload = () => resolve(paths[lib]);\n",
       "        s.onerror = () => reject(`Error loading script: ${paths[lib]}`);\n",
       "        document.getElementsByTagName(\"head\")[0].appendChild(s);\n",
       "      });\n",
       "    }\n",
       "\n",
       "    function showError(err) {\n",
       "      outputDiv.innerHTML = `<div class=\"error\" style=\"color:red;\">${err}</div>`;\n",
       "      throw err;\n",
       "    }\n",
       "\n",
       "    function displayChart(vegaEmbed) {\n",
       "      vegaEmbed(outputDiv, spec, embedOpt)\n",
       "        .catch(err => showError(`Javascript Error: ${err.message}<br>This usually means there's a typo in your chart specification. See the javascript console for the full traceback.`));\n",
       "    }\n",
       "\n",
       "    if(typeof define === \"function\" && define.amd) {\n",
       "      requirejs.config({paths});\n",
       "      require([\"vega-embed\"], displayChart, err => showError(`Error loading script: ${err.message}`));\n",
       "    } else if (typeof vegaEmbed === \"function\") {\n",
       "      displayChart(vegaEmbed);\n",
       "    } else {\n",
       "      loadScript(\"vega\")\n",
       "        .then(() => loadScript(\"vega-lite\"))\n",
       "        .then(() => loadScript(\"vega-embed\"))\n",
       "        .catch(showError)\n",
       "        .then(() => displayChart(vegaEmbed));\n",
       "    }\n",
       "  })({\"config\": {\"view\": {\"continuousWidth\": 400, \"continuousHeight\": 300}, \"axis\": {\"labelFontSize\": 10, \"labelLimit\": 225.0}}, \"vconcat\": [{\"layer\": [{\"data\": {\"name\": \"data-6bcb0e500ab33c97388c3568d2fede49\"}, \"mark\": {\"type\": \"rule\", \"strokeWidth\": 3}, \"encoding\": {\"color\": {\"type\": \"quantitative\", \"field\": \"xValue\", \"legend\": null, \"scale\": {\"domain\": [-0.22754138576339772, 0.22754138576339772], \"domainMid\": 0, \"scheme\": \"redyellowblue\"}}, \"x\": {\"type\": \"quantitative\", \"axis\": {\"orient\": \"top\", \"titleFontSize\": 10}, \"field\": \"xValue\", \"title\": \"Select a cutoff range for Feature Importance values \"}}}, {\"data\": {\"name\": \"data-c7bc3ae69e1253e8223f70a11d04b99d\"}, \"mark\": {\"type\": \"rect\", \"color\": \"black\", \"height\": 20, \"opacity\": 0.4, \"tooltip\": true}, \"encoding\": {\"x\": {\"type\": \"quantitative\", \"field\": \"x_min\"}, \"x2\": {\"field\": \"x_max\"}, \"y\": {\"type\": \"quantitative\", \"axis\": null, \"field\": \"y\"}}, \"selection\": {\"Cutter\": {\"type\": \"single\", \"fields\": [\"cutoff\"], \"bind\": {\"input\": \"range\", \"max\": 0.22754138576339772, \"min\": 0, \"name\": \"Importance cutoff value (\\u00b1) \", \"step\": 0.004550827715267955}, \"init\": {\"cutoff\": 0.0}}}, \"transform\": [{\"calculate\": \"(-Cutter.cutoff)\", \"as\": \"x_min\"}, {\"calculate\": \"Cutter.cutoff\", \"as\": \"x_max\"}]}], \"height\": 20}, {\"layer\": [{\"data\": {\"name\": \"data-64728c33914aa72afca10890d94dd9e7\"}, \"mark\": \"bar\", \"encoding\": {\"color\": {\"type\": \"quantitative\", \"field\": \"value\", \"legend\": null, \"scale\": {\"domain\": [-0.22754138576339772, 0.22754138576339772], \"domainMid\": 0, \"scheme\": \"blueorange\"}}, \"tooltip\": [{\"type\": \"nominal\", \"field\": \"name\", \"title\": \"Feature\"}, {\"type\": \"quantitative\", \"field\": \"value\", \"title\": \"Importance\"}], \"x\": {\"type\": \"quantitative\", \"field\": \"value\", \"title\": null}, \"y\": {\"type\": \"nominal\", \"field\": \"name\", \"sort\": {\"field\": \"value\", \"op\": \"mean\", \"order\": \"descending\"}, \"title\": null}}, \"selection\": {\"Cutter\": {\"type\": \"single\", \"fields\": [\"cutoff\"], \"bind\": {\"input\": \"range\", \"max\": 0.22754138576339772, \"min\": 0, \"name\": \"Importance cutoff value (\\u00b1) \", \"step\": 0.004550827715267955}, \"init\": {\"cutoff\": 0.0}}}, \"transform\": [{\"filter\": \"((datum.value > Cutter.cutoff) || (datum.value < (-Cutter.cutoff)))\"}]}, {\"data\": {\"name\": \"data-9c00aa9dc2b1c1a0b4bf9b34ead12925\"}, \"mark\": \"rule\", \"encoding\": {\"x\": {\"type\": \"quantitative\", \"field\": \"x\"}}}]}], \"padding\": 10, \"$schema\": \"https://vega.github.io/schema/vega-lite/v4.8.1.json\", \"datasets\": {\"data-6bcb0e500ab33c97388c3568d2fede49\": [{\"xValue\": -0.22754138576339772}, {\"xValue\": -0.22526597190576375}, {\"xValue\": -0.22299055804812978}, {\"xValue\": -0.22071514419049582}, {\"xValue\": -0.21843973033286185}, {\"xValue\": -0.21616431647522788}, {\"xValue\": -0.2138889026175939}, {\"xValue\": -0.21161348875995994}, {\"xValue\": -0.20933807490232598}, {\"xValue\": -0.207062661044692}, {\"xValue\": -0.20478724718705804}, {\"xValue\": -0.20251183332942407}, {\"xValue\": -0.2002364194717901}, {\"xValue\": -0.19796100561415614}, {\"xValue\": -0.19568559175652217}, {\"xValue\": -0.1934101778988882}, {\"xValue\": -0.19113476404125423}, {\"xValue\": -0.18885935018362027}, {\"xValue\": -0.1865839363259863}, {\"xValue\": -0.18430852246835233}, {\"xValue\": -0.18203310861071836}, {\"xValue\": -0.1797576947530844}, {\"xValue\": -0.17748228089545043}, {\"xValue\": -0.17520686703781646}, {\"xValue\": -0.1729314531801825}, {\"xValue\": -0.17065603932254853}, {\"xValue\": -0.16838062546491456}, {\"xValue\": -0.1661052116072806}, {\"xValue\": -0.16382979774964662}, {\"xValue\": -0.16155438389201265}, {\"xValue\": -0.1592789700343787}, {\"xValue\": -0.15700355617674472}, {\"xValue\": -0.15472814231911075}, {\"xValue\": -0.15245272846147678}, {\"xValue\": -0.15017731460384282}, {\"xValue\": -0.14790190074620885}, {\"xValue\": -0.14562648688857488}, {\"xValue\": -0.1433510730309409}, {\"xValue\": -0.14107565917330694}, {\"xValue\": -0.13880024531567298}, {\"xValue\": -0.136524831458039}, {\"xValue\": -0.13424941760040504}, {\"xValue\": -0.13197400374277107}, {\"xValue\": -0.1296985898851371}, {\"xValue\": -0.12742317602750314}, {\"xValue\": -0.12514776216986917}, {\"xValue\": -0.1228723483122352}, {\"xValue\": -0.12059693445460123}, {\"xValue\": -0.11832152059696727}, {\"xValue\": -0.1160461067393333}, {\"xValue\": -0.11377069288169933}, {\"xValue\": -0.11149527902406536}, {\"xValue\": -0.1092198651664314}, {\"xValue\": -0.10694445130879743}, {\"xValue\": -0.10466903745116346}, {\"xValue\": -0.10239362359352949}, {\"xValue\": -0.10011820973589552}, {\"xValue\": -0.09784279587826156}, {\"xValue\": -0.09556738202062759}, {\"xValue\": -0.09329196816299362}, {\"xValue\": -0.09101655430535965}, {\"xValue\": -0.08874114044772569}, {\"xValue\": -0.08646572659009172}, {\"xValue\": -0.08419031273245775}, {\"xValue\": -0.08191489887482378}, {\"xValue\": -0.07963948501718981}, {\"xValue\": -0.07736407115955585}, {\"xValue\": -0.07508865730192188}, {\"xValue\": -0.07281324344428791}, {\"xValue\": -0.07053782958665394}, {\"xValue\": -0.06826241572901998}, {\"xValue\": -0.06598700187138601}, {\"xValue\": -0.06371158801375204}, {\"xValue\": -0.06143617415611807}, {\"xValue\": -0.059160760298484105}, {\"xValue\": -0.05688534644085014}, {\"xValue\": -0.05460993258321617}, {\"xValue\": -0.0523345187255822}, {\"xValue\": -0.050059104867948234}, {\"xValue\": -0.047783691010314266}, {\"xValue\": -0.0455082771526803}, {\"xValue\": -0.04323286329504633}, {\"xValue\": -0.04095744943741236}, {\"xValue\": -0.038682035579778395}, {\"xValue\": -0.03640662172214443}, {\"xValue\": -0.03413120786451046}, {\"xValue\": -0.03185579400687649}, {\"xValue\": -0.029580380149242524}, {\"xValue\": -0.027304966291608557}, {\"xValue\": -0.02502955243397459}, {\"xValue\": -0.02275413857634062}, {\"xValue\": -0.020478724718706653}, {\"xValue\": -0.018203310861072686}, {\"xValue\": -0.015927897003438718}, {\"xValue\": -0.01365248314580475}, {\"xValue\": -0.011377069288170782}, {\"xValue\": -0.009101655430536815}, {\"xValue\": -0.006826241572902847}, {\"xValue\": -0.004550827715268879}, {\"xValue\": -0.0022754138576349114}, {\"xValue\": -9.43689570931383e-16}, {\"xValue\": 0.002275413857633024}, {\"xValue\": 0.004550827715266992}, {\"xValue\": 0.0068262415729009596}, {\"xValue\": 0.009101655430534927}, {\"xValue\": 0.011377069288168895}, {\"xValue\": 0.013652483145802863}, {\"xValue\": 0.01592789700343683}, {\"xValue\": 0.0182033108610708}, {\"xValue\": 0.020478724718704766}, {\"xValue\": 0.022754138576338734}, {\"xValue\": 0.0250295524339727}, {\"xValue\": 0.02730496629160667}, {\"xValue\": 0.029580380149240637}, {\"xValue\": 0.031855794006874605}, {\"xValue\": 0.03413120786450857}, {\"xValue\": 0.03640662172214254}, {\"xValue\": 0.03868203557977651}, {\"xValue\": 0.040957449437410476}, {\"xValue\": 0.043232863295044444}, {\"xValue\": 0.04550827715267841}, {\"xValue\": 0.04778369101031238}, {\"xValue\": 0.05005910486794635}, {\"xValue\": 0.052334518725580315}, {\"xValue\": 0.05460993258321428}, {\"xValue\": 0.05688534644084825}, {\"xValue\": 0.05916076029848222}, {\"xValue\": 0.061436174156116186}, {\"xValue\": 0.06371158801375015}, {\"xValue\": 0.06598700187138412}, {\"xValue\": 0.06826241572901809}, {\"xValue\": 0.07053782958665206}, {\"xValue\": 0.07281324344428602}, {\"xValue\": 0.07508865730191999}, {\"xValue\": 0.07736407115955396}, {\"xValue\": 0.07963948501718793}, {\"xValue\": 0.0819148988748219}, {\"xValue\": 0.08419031273245586}, {\"xValue\": 0.08646572659008983}, {\"xValue\": 0.0887411404477238}, {\"xValue\": 0.09101655430535777}, {\"xValue\": 0.09329196816299173}, {\"xValue\": 0.0955673820206257}, {\"xValue\": 0.09784279587825967}, {\"xValue\": 0.10011820973589364}, {\"xValue\": 0.1023936235935276}, {\"xValue\": 0.10466903745116157}, {\"xValue\": 0.10694445130879554}, {\"xValue\": 0.10921986516642951}, {\"xValue\": 0.11149527902406348}, {\"xValue\": 0.11377069288169744}, {\"xValue\": 0.11604610673933141}, {\"xValue\": 0.11832152059696538}, {\"xValue\": 0.12059693445459935}, {\"xValue\": 0.12287234831223331}, {\"xValue\": 0.12514776216986728}, {\"xValue\": 0.12742317602750125}, {\"xValue\": 0.12969858988513522}, {\"xValue\": 0.13197400374276919}, {\"xValue\": 0.13424941760040315}, {\"xValue\": 0.13652483145803712}, {\"xValue\": 0.1388002453156711}, {\"xValue\": 0.14107565917330506}, {\"xValue\": 0.14335107303093902}, {\"xValue\": 0.145626486888573}, {\"xValue\": 0.14790190074620696}, {\"xValue\": 0.15017731460384093}, {\"xValue\": 0.1524527284614749}, {\"xValue\": 0.15472814231910886}, {\"xValue\": 0.15700355617674283}, {\"xValue\": 0.1592789700343768}, {\"xValue\": 0.16155438389201077}, {\"xValue\": 0.16382979774964473}, {\"xValue\": 0.1661052116072787}, {\"xValue\": 0.16838062546491267}, {\"xValue\": 0.17065603932254664}, {\"xValue\": 0.1729314531801806}, {\"xValue\": 0.17520686703781457}, {\"xValue\": 0.17748228089544854}, {\"xValue\": 0.1797576947530825}, {\"xValue\": 0.18203310861071648}, {\"xValue\": 0.18430852246835044}, {\"xValue\": 0.1865839363259844}, {\"xValue\": 0.18885935018361838}, {\"xValue\": 0.19113476404125235}, {\"xValue\": 0.19341017789888632}, {\"xValue\": 0.19568559175652028}, {\"xValue\": 0.19796100561415425}, {\"xValue\": 0.20023641947178822}, {\"xValue\": 0.2025118333294222}, {\"xValue\": 0.20478724718705615}, {\"xValue\": 0.20706266104469012}, {\"xValue\": 0.2093380749023241}, {\"xValue\": 0.21161348875995806}, {\"xValue\": 0.21388890261759202}, {\"xValue\": 0.216164316475226}, {\"xValue\": 0.21843973033285996}, {\"xValue\": 0.22071514419049393}, {\"xValue\": 0.2229905580481279}, {\"xValue\": 0.22526597190576186}], \"data-c7bc3ae69e1253e8223f70a11d04b99d\": [{\"y\": 0, \"x\": -0.5, \"x2\": 0.5}], \"data-64728c33914aa72afca10890d94dd9e7\": [{\"name\": \"credit_amount\", \"value\": 0.22754138576339772}, {\"name\": \"people_under_maintenance\", \"value\": -0.027117635540170257}, {\"name\": \"duration_in_month\", \"value\": 0.022674246194392393}, {\"name\": \"personal_status_sex=male : single\", \"value\": 0.020241483432918494}, {\"name\": \"present_res_since\", \"value\": 0.016735059112425545}, {\"name\": \"foreign_worker=yes\", \"value\": -0.016647768623923757}, {\"name\": \"purpose=(vacation - does not exist?)\", \"value\": 0.01619588340323919}, {\"name\": \"job=management/ self-employed/ highly qualified employee/ officer\", \"value\": 0.014349312012875655}, {\"name\": \"purpose=car (used)\", \"value\": -0.01317583542986617}, {\"name\": \"job=unskilled - resident\", \"value\": 0.01293136897938979}], \"data-9c00aa9dc2b1c1a0b4bf9b34ead12925\": [{\"x\": 0}]}}, {\"mode\": \"vega-lite\"});\n",
       "</script>"
      ],
      "text/plain": [
       "alt.VConcatChart(...)"
      ]
     },
     "metadata": {},
     "output_type": "display_data"
    }
   ],
   "source": [
    "lime_exp.plot_features_importance()"
   ]
  },
  {
   "cell_type": "code",
   "execution_count": null,
   "id": "swiss-pregnancy",
   "metadata": {},
   "outputs": [],
   "source": []
  }
 ],
 "metadata": {
  "kernelspec": {
   "display_name": "Python 3",
   "language": "python",
   "name": "python3"
  },
  "language_info": {
   "codemirror_mode": {
    "name": "ipython",
    "version": 3
   },
   "file_extension": ".py",
   "mimetype": "text/x-python",
   "name": "python",
   "nbconvert_exporter": "python",
   "pygments_lexer": "ipython3",
   "version": "3.7.9"
  }
 },
 "nbformat": 4,
 "nbformat_minor": 5
}
