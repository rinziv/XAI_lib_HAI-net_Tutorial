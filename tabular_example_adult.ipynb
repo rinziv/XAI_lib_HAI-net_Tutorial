{
 "cells": [
  {
   "cell_type": "markdown",
   "id": "floral-hepatitis",
   "metadata": {},
   "source": [
    "# Tabular data: post-hoc explanations with Adult credit dataset\n",
    "### Author: Francesca Naretto"
   ]
  },
  {
   "cell_type": "code",
   "execution_count": null,
   "id": "compact-maintenance",
   "metadata": {},
   "outputs": [],
   "source": [
    "!pip install bitarray deap lime\n",
    "!git clone https://github.com/rinziv/XAI_lib_HAI-net_Tutorial.git"
   ]
  },
  {
   "cell_type": "code",
   "execution_count": null,
   "id": "leading-alfred",
   "metadata": {},
   "outputs": [],
   "source": [
    "cd XAI_lib_HAI-net_Tutorial"
   ]
  },
  {
   "cell_type": "code",
   "execution_count": 16,
   "id": "urban-proposition",
   "metadata": {},
   "outputs": [],
   "source": [
    "import pandas as pd\n",
    "import numpy as np\n",
    "\n",
    "from sklearn import preprocessing\n",
    "from sklearn.ensemble import RandomForestClassifier\n",
    "from sklearn.model_selection import train_test_split\n",
    "from sklearn.linear_model import LogisticRegression\n",
    "from sklearn.metrics import classification_report\n",
    "\n",
    "from xailib.data_loaders.dataframe_loader import prepare_dataframe\n",
    "\n",
    "from xailib.explainers.lime_explainer import LimeXAITabularExplainer\n",
    "from xailib.explainers.lore_explainer import LoreTabularExplainer\n",
    "from xailib.explainers.shap_explainer_tab import ShapXAITabularExplainer\n",
    "\n",
    "from xailib.models.sklearn_classifier_wrapper import sklearn_classifier_wrapper"
   ]
  },
  {
   "cell_type": "markdown",
   "id": "swedish-transportation",
   "metadata": {},
   "source": [
    "# Learning and explaining Adult Dataset"
   ]
  },
  {
   "cell_type": "markdown",
   "id": "healthy-buying",
   "metadata": {},
   "source": [
    "## Loading and preparation of data\n",
    "\n",
    "In this notebook we are going to use the Adult dataset for the training of a machine learning model to explain. \n",
    "\n",
    "The Adult dataset classifies people as high (>50k) or low (=<50k) income.\n",
    "\n",
    "We start by reading from a CSV file the dataset to analyze. The table is loaded by means of the ```DataFrame``` class from the ```pandas``` library.\n",
    "\n",
    "Among all the attributes of the table, we select the ```class``` column that contains the observed class for the corresponding row."
   ]
  },
  {
   "cell_type": "code",
   "execution_count": 17,
   "id": "asian-rabbit",
   "metadata": {},
   "outputs": [],
   "source": [
    "source_file = 'datasets/adult_clean.csv'\n",
    "class_field = 'class'\n",
    "# Load and transform dataset \n",
    "df = pd.read_csv(source_file, skipinitialspace=True, na_values='?', keep_default_na=True)"
   ]
  },
  {
   "cell_type": "code",
   "execution_count": 18,
   "id": "narrow-standing",
   "metadata": {},
   "outputs": [
    {
     "name": "stdout",
     "output_type": "stream",
     "text": [
      "<class 'pandas.core.frame.DataFrame'>\n",
      "RangeIndex: 30162 entries, 0 to 30161\n",
      "Data columns (total 14 columns):\n",
      " #   Column          Non-Null Count  Dtype\n",
      "---  ------          --------------  -----\n",
      " 0   age             30162 non-null  int64\n",
      " 1   workclass       30162 non-null  int64\n",
      " 2   fnlwgt          30162 non-null  int64\n",
      " 3   education-num   30162 non-null  int64\n",
      " 4   marital-status  30162 non-null  int64\n",
      " 5   occupation      30162 non-null  int64\n",
      " 6   relationship    30162 non-null  int64\n",
      " 7   race            30162 non-null  int64\n",
      " 8   sex             30162 non-null  int64\n",
      " 9   capital-gain    30162 non-null  int64\n",
      " 10  capital-loss    30162 non-null  int64\n",
      " 11  hours-per-week  30162 non-null  int64\n",
      " 12  native-country  30162 non-null  int64\n",
      " 13  class           30162 non-null  int64\n",
      "dtypes: int64(14)\n",
      "memory usage: 3.2 MB\n"
     ]
    }
   ],
   "source": [
    "df.info()"
   ]
  },
  {
   "cell_type": "markdown",
   "id": "atomic-array",
   "metadata": {},
   "source": [
    "After the data is loaded in memory, we need to extract metadata information to automatically handle the content withint the table.\n",
    "\n",
    "The method ```prepare_dataframe``` scans the table and extract the following information:\n",
    " * ```df```: is a trasformed version of the original dataframe, where discrete attributes are transformed into numerical attributes by using one hot encoding strategy;\n",
    " * ```feature_names```: is a list containint the names of the features after the transformation;\n",
    " * ```class_values```: the list of all the possible values for the ```class_field``` column;\n",
    " * ```numeric_columns```: a list of the original features that contain numeric (i.e. continuous) values;\n",
    " * ```rdf```: the original dataframe, before the transformation;\n",
    " * ```real_feature_names```: the list of the features of the dataframe before the transformation;\n",
    " * ```features_map```: it is a dictionary pointing each feature to the original one before the transformation."
   ]
  },
  {
   "cell_type": "code",
   "execution_count": 19,
   "id": "amazing-suspension",
   "metadata": {},
   "outputs": [],
   "source": [
    "df, feature_names, class_values, numeric_columns, rdf, real_feature_names, features_map = prepare_dataframe(df, class_field)"
   ]
  },
  {
   "cell_type": "markdown",
   "id": "european-conversation",
   "metadata": {},
   "source": [
    "### Learning a Random Forest classfier\n",
    "\n",
    "We train a RF classifier by using the ```sklearn``` library. We start by splitting the dataset into a train and test subsets. "
   ]
  },
  {
   "cell_type": "code",
   "execution_count": 20,
   "id": "persistent-requirement",
   "metadata": {},
   "outputs": [],
   "source": [
    "test_size = 0.3\n",
    "random_state = 42\n",
    "X_train, X_test, Y_train, Y_test = train_test_split(df[feature_names], df[class_field],\n",
    "                                                        test_size=test_size,\n",
    "                                                        random_state=random_state,\n",
    "                                                        stratify=df[class_field])\n",
    "\n",
    "\n"
   ]
  },
  {
   "cell_type": "code",
   "execution_count": 21,
   "id": "sustainable-marshall",
   "metadata": {},
   "outputs": [],
   "source": [
    "bb = RandomForestClassifier(n_estimators=20, random_state=random_state)\n",
    "bb.fit(X_train.values, Y_train.values)\n",
    "bbox = sklearn_classifier_wrapper(bb)   "
   ]
  },
  {
   "cell_type": "code",
   "execution_count": 22,
   "id": "grateful-times",
   "metadata": {},
   "outputs": [
    {
     "name": "stdout",
     "output_type": "stream",
     "text": [
      "              precision    recall  f1-score   support\n",
      "\n",
      "           0       0.99      1.00      1.00     15857\n",
      "           1       1.00      0.98      0.99      5256\n",
      "\n",
      "    accuracy                           1.00     21113\n",
      "   macro avg       1.00      0.99      0.99     21113\n",
      "weighted avg       1.00      1.00      1.00     21113\n",
      "\n"
     ]
    }
   ],
   "source": [
    "Y_pred = bb.predict(X_train)\n",
    "print(classification_report(Y_train, Y_pred))"
   ]
  },
  {
   "cell_type": "code",
   "execution_count": 23,
   "id": "straight-emphasis",
   "metadata": {},
   "outputs": [
    {
     "name": "stdout",
     "output_type": "stream",
     "text": [
      "              precision    recall  f1-score   support\n",
      "\n",
      "           0       0.88      0.93      0.90      6797\n",
      "           1       0.75      0.61      0.67      2252\n",
      "\n",
      "    accuracy                           0.85      9049\n",
      "   macro avg       0.81      0.77      0.79      9049\n",
      "weighted avg       0.85      0.85      0.85      9049\n",
      "\n"
     ]
    }
   ],
   "source": [
    "Y_pred = bb.predict(X_test)\n",
    "print(classification_report(Y_test, Y_pred))"
   ]
  },
  {
   "cell_type": "code",
   "execution_count": 24,
   "id": "fallen-commission",
   "metadata": {},
   "outputs": [
    {
     "name": "stdout",
     "output_type": "stream",
     "text": [
      "Instance  [    58      2 111169      9      2     14      5      1      1      0\n",
      "      0     40     41]\n",
      "True class  1\n",
      "Predicted class  [0]\n"
     ]
    }
   ],
   "source": [
    "inst = X_train.iloc[147].values\n",
    "print('Instance ',inst)\n",
    "print('True class ',Y_train.iloc[8])\n",
    "print('Predicted class ',bb.predict(inst.reshape(1, -1)))"
   ]
  },
  {
   "cell_type": "code",
   "execution_count": 25,
   "id": "activated-dover",
   "metadata": {},
   "outputs": [],
   "source": [
    "explainer = ShapXAITabularExplainer(bbox, feature_names)\n",
    "config = {'explainer' : 'kernel', 'X_train' : X_train.iloc[0:100].values}\n",
    "explainer.fit(config)"
   ]
  },
  {
   "cell_type": "code",
   "execution_count": 26,
   "id": "pleased-better",
   "metadata": {},
   "outputs": [],
   "source": [
    "exp = explainer.explain(inst)\n",
    "# print(exp.exp)"
   ]
  },
  {
   "cell_type": "code",
   "execution_count": 27,
   "id": "sophisticated-guatemala",
   "metadata": {},
   "outputs": [
    {
     "data": {
      "text/html": [
       "\n",
       "        <style>\n",
       "        .vega-bind {\n",
       "          position: absolute;\n",
       "          left: 0px;\n",
       "          top: 0px;\n",
       "          background-color:#eee;\n",
       "          padding:10px;\n",
       "          font-size:10px;\n",
       "        }\n",
       "        .chart-wrapper{\n",
       "          padding-top: 70px;\n",
       "        }\n",
       "\n",
       "        </style>\n",
       "        "
      ],
      "text/plain": [
       "<IPython.core.display.HTML object>"
      ]
     },
     "metadata": {},
     "output_type": "display_data"
    },
    {
     "data": {
      "text/html": [
       "\n",
       "<div id=\"altair-viz-5d08a229d46649a1b0052783356e0286\"></div>\n",
       "<script type=\"text/javascript\">\n",
       "  (function(spec, embedOpt){\n",
       "    let outputDiv = document.currentScript.previousElementSibling;\n",
       "    if (outputDiv.id !== \"altair-viz-5d08a229d46649a1b0052783356e0286\") {\n",
       "      outputDiv = document.getElementById(\"altair-viz-5d08a229d46649a1b0052783356e0286\");\n",
       "    }\n",
       "    const paths = {\n",
       "      \"vega\": \"https://cdn.jsdelivr.net/npm//vega@5?noext\",\n",
       "      \"vega-lib\": \"https://cdn.jsdelivr.net/npm//vega-lib?noext\",\n",
       "      \"vega-lite\": \"https://cdn.jsdelivr.net/npm//vega-lite@4.8.1?noext\",\n",
       "      \"vega-embed\": \"https://cdn.jsdelivr.net/npm//vega-embed@6?noext\",\n",
       "    };\n",
       "\n",
       "    function loadScript(lib) {\n",
       "      return new Promise(function(resolve, reject) {\n",
       "        var s = document.createElement('script');\n",
       "        s.src = paths[lib];\n",
       "        s.async = true;\n",
       "        s.onload = () => resolve(paths[lib]);\n",
       "        s.onerror = () => reject(`Error loading script: ${paths[lib]}`);\n",
       "        document.getElementsByTagName(\"head\")[0].appendChild(s);\n",
       "      });\n",
       "    }\n",
       "\n",
       "    function showError(err) {\n",
       "      outputDiv.innerHTML = `<div class=\"error\" style=\"color:red;\">${err}</div>`;\n",
       "      throw err;\n",
       "    }\n",
       "\n",
       "    function displayChart(vegaEmbed) {\n",
       "      vegaEmbed(outputDiv, spec, embedOpt)\n",
       "        .catch(err => showError(`Javascript Error: ${err.message}<br>This usually means there's a typo in your chart specification. See the javascript console for the full traceback.`));\n",
       "    }\n",
       "\n",
       "    if(typeof define === \"function\" && define.amd) {\n",
       "      requirejs.config({paths});\n",
       "      require([\"vega-embed\"], displayChart, err => showError(`Error loading script: ${err.message}`));\n",
       "    } else if (typeof vegaEmbed === \"function\") {\n",
       "      displayChart(vegaEmbed);\n",
       "    } else {\n",
       "      loadScript(\"vega\")\n",
       "        .then(() => loadScript(\"vega-lite\"))\n",
       "        .then(() => loadScript(\"vega-embed\"))\n",
       "        .catch(showError)\n",
       "        .then(() => displayChart(vegaEmbed));\n",
       "    }\n",
       "  })({\"config\": {\"view\": {\"continuousWidth\": 400, \"continuousHeight\": 300}, \"axis\": {\"labelFontSize\": 10, \"labelLimit\": 225.0}}, \"vconcat\": [{\"layer\": [{\"data\": {\"name\": \"data-e07b3b4556d542296d6fe58718668e4d\"}, \"mark\": {\"type\": \"rule\", \"strokeWidth\": 3}, \"encoding\": {\"color\": {\"type\": \"quantitative\", \"field\": \"xValue\", \"legend\": null, \"scale\": {\"domain\": [-0.0700832239660342, 0.0700832239660342], \"domainMid\": 0, \"scheme\": \"redyellowblue\"}}, \"x\": {\"type\": \"quantitative\", \"axis\": {\"orient\": \"top\", \"titleFontSize\": 10}, \"field\": \"xValue\", \"title\": \"Select a cutoff range for Feature Importance values \"}}}, {\"data\": {\"name\": \"data-c7bc3ae69e1253e8223f70a11d04b99d\"}, \"mark\": {\"type\": \"rect\", \"color\": \"black\", \"height\": 20, \"opacity\": 0.4, \"tooltip\": true}, \"encoding\": {\"x\": {\"type\": \"quantitative\", \"field\": \"x_min\"}, \"x2\": {\"field\": \"x_max\"}, \"y\": {\"type\": \"quantitative\", \"axis\": null, \"field\": \"y\"}}, \"selection\": {\"Cutter\": {\"type\": \"single\", \"fields\": [\"cutoff\"], \"bind\": {\"input\": \"range\", \"max\": 0.0700832239660342, \"min\": 0, \"name\": \"Importance cutoff value (\\u00b1) \", \"step\": 0.001401664479320684}, \"init\": {\"cutoff\": 0.0}}}, \"transform\": [{\"calculate\": \"(-Cutter.cutoff)\", \"as\": \"x_min\"}, {\"calculate\": \"Cutter.cutoff\", \"as\": \"x_max\"}]}], \"height\": 20}, {\"layer\": [{\"data\": {\"name\": \"data-b7dccd9c1947bddef2f36254f952cd1c\"}, \"mark\": \"bar\", \"encoding\": {\"color\": {\"type\": \"quantitative\", \"field\": \"value\", \"legend\": null, \"scale\": {\"domain\": [-0.0700832239660342, 0.0700832239660342], \"domainMid\": 0, \"scheme\": \"blueorange\"}}, \"tooltip\": [{\"type\": \"nominal\", \"field\": \"name\", \"title\": \"Feature\"}, {\"type\": \"quantitative\", \"field\": \"value\", \"title\": \"Importance\"}], \"x\": {\"type\": \"quantitative\", \"field\": \"value\", \"title\": null}, \"y\": {\"type\": \"nominal\", \"field\": \"name\", \"sort\": {\"field\": \"value\", \"op\": \"mean\", \"order\": \"descending\"}, \"title\": null}}, \"selection\": {\"Cutter\": {\"type\": \"single\", \"fields\": [\"cutoff\"], \"bind\": {\"input\": \"range\", \"max\": 0.0700832239660342, \"min\": 0, \"name\": \"Importance cutoff value (\\u00b1) \", \"step\": 0.001401664479320684}, \"init\": {\"cutoff\": 0.0}}}, \"transform\": [{\"filter\": \"((datum.value > Cutter.cutoff) || (datum.value < (-Cutter.cutoff)))\"}]}, {\"data\": {\"name\": \"data-9c00aa9dc2b1c1a0b4bf9b34ead12925\"}, \"mark\": \"rule\", \"encoding\": {\"x\": {\"type\": \"quantitative\", \"field\": \"x\"}}}]}], \"padding\": 10, \"$schema\": \"https://vega.github.io/schema/vega-lite/v4.8.1.json\", \"datasets\": {\"data-e07b3b4556d542296d6fe58718668e4d\": [{\"xValue\": -0.0700832239660342}, {\"xValue\": -0.06938239172637385}, {\"xValue\": -0.0686815594867135}, {\"xValue\": -0.06798072724705316}, {\"xValue\": -0.06727989500739281}, {\"xValue\": -0.06657906276773247}, {\"xValue\": -0.06587823052807212}, {\"xValue\": -0.06517739828841178}, {\"xValue\": -0.06447656604875143}, {\"xValue\": -0.06377573380909109}, {\"xValue\": -0.06307490156943074}, {\"xValue\": -0.062374069329770396}, {\"xValue\": -0.06167323709011005}, {\"xValue\": -0.060972404850449705}, {\"xValue\": -0.06027157261078936}, {\"xValue\": -0.05957074037112901}, {\"xValue\": -0.05886990813146867}, {\"xValue\": -0.05816907589180832}, {\"xValue\": -0.05746824365214798}, {\"xValue\": -0.05676741141248763}, {\"xValue\": -0.056066579172827286}, {\"xValue\": -0.05536574693316694}, {\"xValue\": -0.054664914693506594}, {\"xValue\": -0.05396408245384625}, {\"xValue\": -0.0532632502141859}, {\"xValue\": -0.05256241797452556}, {\"xValue\": -0.05186158573486521}, {\"xValue\": -0.051160753495204866}, {\"xValue\": -0.05045992125554452}, {\"xValue\": -0.049759089015884175}, {\"xValue\": -0.04905825677622383}, {\"xValue\": -0.048357424536563484}, {\"xValue\": -0.04765659229690314}, {\"xValue\": -0.04695576005724279}, {\"xValue\": -0.04625492781758245}, {\"xValue\": -0.0455540955779221}, {\"xValue\": -0.044853263338261756}, {\"xValue\": -0.04415243109860141}, {\"xValue\": -0.043451598858941065}, {\"xValue\": -0.04275076661928072}, {\"xValue\": -0.042049934379620374}, {\"xValue\": -0.04134910213996003}, {\"xValue\": -0.04064826990029968}, {\"xValue\": -0.03994743766063934}, {\"xValue\": -0.03924660542097899}, {\"xValue\": -0.038545773181318646}, {\"xValue\": -0.0378449409416583}, {\"xValue\": -0.037144108701997955}, {\"xValue\": -0.03644327646233761}, {\"xValue\": -0.035742444222677264}, {\"xValue\": -0.03504161198301692}, {\"xValue\": -0.03434077974335657}, {\"xValue\": -0.03363994750369623}, {\"xValue\": -0.03293911526403588}, {\"xValue\": -0.032238283024375536}, {\"xValue\": -0.03153745078471519}, {\"xValue\": -0.030836618545054845}, {\"xValue\": -0.0301357863053945}, {\"xValue\": -0.029434954065734154}, {\"xValue\": -0.028734121826073808}, {\"xValue\": -0.028033289586413462}, {\"xValue\": -0.027332457346753117}, {\"xValue\": -0.02663162510709277}, {\"xValue\": -0.025930792867432426}, {\"xValue\": -0.02522996062777208}, {\"xValue\": -0.024529128388111734}, {\"xValue\": -0.02382829614845139}, {\"xValue\": -0.023127463908791043}, {\"xValue\": -0.022426631669130698}, {\"xValue\": -0.021725799429470352}, {\"xValue\": -0.021024967189810007}, {\"xValue\": -0.02032413495014966}, {\"xValue\": -0.019623302710489315}, {\"xValue\": -0.01892247047082897}, {\"xValue\": -0.018221638231168624}, {\"xValue\": -0.01752080599150828}, {\"xValue\": -0.016819973751847933}, {\"xValue\": -0.016119141512187588}, {\"xValue\": -0.015418309272527242}, {\"xValue\": -0.014717477032866896}, {\"xValue\": -0.01401664479320655}, {\"xValue\": -0.013315812553546205}, {\"xValue\": -0.01261498031388586}, {\"xValue\": -0.011914148074225514}, {\"xValue\": -0.011213315834565168}, {\"xValue\": -0.010512483594904823}, {\"xValue\": -0.009811651355244477}, {\"xValue\": -0.009110819115584132}, {\"xValue\": -0.008409986875923786}, {\"xValue\": -0.0077091546362634406}, {\"xValue\": -0.007008322396603095}, {\"xValue\": -0.006307490156942749}, {\"xValue\": -0.005606657917282404}, {\"xValue\": -0.004905825677622058}, {\"xValue\": -0.004204993437961713}, {\"xValue\": -0.003504161198301367}, {\"xValue\": -0.0028033289586410215}, {\"xValue\": -0.002102496718980676}, {\"xValue\": -0.0014016644793203303}, {\"xValue\": -0.0007008322396599848}, {\"xValue\": 3.608224830031759e-16}, {\"xValue\": 0.0007008322396607064}, {\"xValue\": 0.001401664479321052}, {\"xValue\": 0.0021024967189813976}, {\"xValue\": 0.002803328958641743}, {\"xValue\": 0.0035041611983020887}, {\"xValue\": 0.004204993437962434}, {\"xValue\": 0.00490582567762278}, {\"xValue\": 0.0056066579172831255}, {\"xValue\": 0.006307490156943471}, {\"xValue\": 0.007008322396603817}, {\"xValue\": 0.007709154636264162}, {\"xValue\": 0.008409986875924508}, {\"xValue\": 0.009110819115584853}, {\"xValue\": 0.009811651355245199}, {\"xValue\": 0.010512483594905545}, {\"xValue\": 0.01121331583456589}, {\"xValue\": 0.011914148074226236}, {\"xValue\": 0.012614980313886581}, {\"xValue\": 0.013315812553546927}, {\"xValue\": 0.014016644793207272}, {\"xValue\": 0.014717477032867618}, {\"xValue\": 0.015418309272527964}, {\"xValue\": 0.01611914151218831}, {\"xValue\": 0.016819973751848655}, {\"xValue\": 0.017520805991509}, {\"xValue\": 0.018221638231169346}, {\"xValue\": 0.01892247047082969}, {\"xValue\": 0.019623302710490037}, {\"xValue\": 0.020324134950150383}, {\"xValue\": 0.021024967189810728}, {\"xValue\": 0.021725799429471074}, {\"xValue\": 0.02242663166913142}, {\"xValue\": 0.023127463908791765}, {\"xValue\": 0.02382829614845211}, {\"xValue\": 0.024529128388112456}, {\"xValue\": 0.0252299606277728}, {\"xValue\": 0.025930792867433147}, {\"xValue\": 0.026631625107093493}, {\"xValue\": 0.02733245734675384}, {\"xValue\": 0.028033289586414184}, {\"xValue\": 0.02873412182607453}, {\"xValue\": 0.029434954065734875}, {\"xValue\": 0.03013578630539522}, {\"xValue\": 0.030836618545055566}, {\"xValue\": 0.03153745078471591}, {\"xValue\": 0.03223828302437626}, {\"xValue\": 0.0329391152640366}, {\"xValue\": 0.03363994750369695}, {\"xValue\": 0.034340779743357294}, {\"xValue\": 0.03504161198301764}, {\"xValue\": 0.035742444222677985}, {\"xValue\": 0.03644327646233833}, {\"xValue\": 0.03714410870199868}, {\"xValue\": 0.03784494094165902}, {\"xValue\": 0.03854577318131937}, {\"xValue\": 0.03924660542097971}, {\"xValue\": 0.03994743766064006}, {\"xValue\": 0.040648269900300404}, {\"xValue\": 0.04134910213996075}, {\"xValue\": 0.042049934379621096}, {\"xValue\": 0.04275076661928144}, {\"xValue\": 0.04345159885894179}, {\"xValue\": 0.04415243109860213}, {\"xValue\": 0.04485326333826248}, {\"xValue\": 0.045554095577922823}, {\"xValue\": 0.04625492781758317}, {\"xValue\": 0.046955760057243515}, {\"xValue\": 0.04765659229690386}, {\"xValue\": 0.048357424536564206}, {\"xValue\": 0.04905825677622455}, {\"xValue\": 0.0497590890158849}, {\"xValue\": 0.05045992125554524}, {\"xValue\": 0.05116075349520559}, {\"xValue\": 0.051861585734865934}, {\"xValue\": 0.05256241797452628}, {\"xValue\": 0.053263250214186625}, {\"xValue\": 0.05396408245384697}, {\"xValue\": 0.054664914693507316}, {\"xValue\": 0.055365746933167675}, {\"xValue\": 0.05606657917282801}, {\"xValue\": 0.05676741141248834}, {\"xValue\": 0.0574682436521487}, {\"xValue\": 0.05816907589180906}, {\"xValue\": 0.05886990813146939}, {\"xValue\": 0.05957074037112972}, {\"xValue\": 0.06027157261079008}, {\"xValue\": 0.06097240485045044}, {\"xValue\": 0.06167323709011077}, {\"xValue\": 0.062374069329771104}, {\"xValue\": 0.06307490156943146}, {\"xValue\": 0.06377573380909182}, {\"xValue\": 0.06447656604875215}, {\"xValue\": 0.06517739828841249}, {\"xValue\": 0.06587823052807285}, {\"xValue\": 0.0665790627677332}, {\"xValue\": 0.06727989500739354}, {\"xValue\": 0.06798072724705387}, {\"xValue\": 0.06868155948671423}, {\"xValue\": 0.06938239172637459}], \"data-c7bc3ae69e1253e8223f70a11d04b99d\": [{\"y\": 0, \"x\": -0.5, \"x2\": 0.5}], \"data-b7dccd9c1947bddef2f36254f952cd1c\": [{\"name\": \"age\", \"value\": -0.04049414791178786}, {\"name\": \"workclass\", \"value\": -0.004526877499450702}, {\"name\": \"fnlwgt\", \"value\": 0.0038191345220405237}, {\"name\": \"education-num\", \"value\": 0.03214651471873464}, {\"name\": \"marital-status\", \"value\": 0.0700832239660342}, {\"name\": \"occupation\", \"value\": 0.006928992951456853}, {\"name\": \"relationship\", \"value\": 0.0677330020380098}, {\"name\": \"race\", \"value\": -0.002716878627617325}, {\"name\": \"sex\", \"value\": 0.03422140854455344}, {\"name\": \"capital-gain\", \"value\": 0.02688923096819934}, {\"name\": \"capital-loss\", \"value\": 0.004513105476175117}, {\"name\": \"hours-per-week\", \"value\": 0.01928054924177479}, {\"name\": \"native-country\", \"value\": -0.0003772583881228031}], \"data-9c00aa9dc2b1c1a0b4bf9b34ead12925\": [{\"x\": 0}]}}, {\"mode\": \"vega-lite\"});\n",
       "</script>"
      ],
      "text/plain": [
       "alt.VConcatChart(...)"
      ]
     },
     "metadata": {},
     "output_type": "display_data"
    }
   ],
   "source": [
    "exp.plot_features_importance()"
   ]
  },
  {
   "cell_type": "code",
   "execution_count": 28,
   "id": "stone-stick",
   "metadata": {},
   "outputs": [
    {
     "name": "stdout",
     "output_type": "stream",
     "text": [
      "<xailib.explainers.lore_explainer.LoreTabularExplanation object at 0x7f95f0531b50>\n"
     ]
    }
   ],
   "source": [
    "explainer = LoreTabularExplainer(bbox)\n",
    "config = {'neigh_type':'rndgen', 'size':1000, 'ocr':0.1, 'ngen':10}\n",
    "explainer.fit(df, class_field, config)\n",
    "exp = explainer.explain(inst)\n",
    "print(exp)"
   ]
  },
  {
   "cell_type": "code",
   "execution_count": 29,
   "id": "loved-hepatitis",
   "metadata": {},
   "outputs": [
    {
     "data": {
      "text/html": [
       "\n",
       "                <style>\n",
       "                .red {\n",
       "                background-color:firebrick;\n",
       "                padding:3px 5px 3px 5px;\n",
       "                border-radius:5px;\n",
       "\n",
       "                color:white;\n",
       "                }\n",
       "                .rules{\n",
       "                    margin-top:10px;\n",
       "                    font-weight: 400;\n",
       "                }\n",
       "                .rule{\n",
       "                padding:5px 20px 5px 20px;\n",
       "                border-radius:5px;\n",
       "                margin-right:5px;\n",
       "                font-size:12px;\n",
       "                line-height:20px;\n",
       "                display: block;\n",
       "                margin-bottom: 10px;\n",
       "                width: fit-content;\n",
       "                \n",
       "                color:white;\n",
       "                background-color:firebrick;\n",
       "                opacity:0.8;\n",
       "                }\n",
       "                </style>\n",
       "                "
      ],
      "text/plain": [
       "<IPython.core.display.HTML object>"
      ]
     },
     "metadata": {},
     "output_type": "display_data"
    },
    {
     "data": {
      "text/html": [
       "\n",
       "            <h3>Why the predicted value for class <span class='red'>class</span> is <span class='red'>0</span> ?</h3>\n",
       "            "
      ],
      "text/plain": [
       "<IPython.core.display.HTML object>"
      ]
     },
     "metadata": {},
     "output_type": "display_data"
    },
    {
     "data": {
      "text/html": [
       "\n",
       "            <p>Because all the following conditions happen:</p>\n",
       "            "
      ],
      "text/plain": [
       "<IPython.core.display.HTML object>"
      ]
     },
     "metadata": {},
     "output_type": "display_data"
    },
    {
     "data": {
      "text/html": [
       "<p class='rules'><span class='rule'>capital-gain <strong><=</strong> 6105.053466796875</span><span class='rule'>education-num <strong><=</strong> 10.725756168365479</span><span class='rule'>relationship <strong>></strong> 2.0432846546173096</span><span class='rule'>capital-loss <strong><=</strong> 2317.5</span><span class='rule'>hours-per-week <strong><=</strong> 43.5</span></p>"
      ],
      "text/plain": [
       "<IPython.core.display.HTML object>"
      ]
     },
     "metadata": {},
     "output_type": "display_data"
    }
   ],
   "source": [
    "exp.plotRules()"
   ]
  },
  {
   "cell_type": "code",
   "execution_count": 30,
   "id": "terminal-therapy",
   "metadata": {},
   "outputs": [
    {
     "data": {
      "text/html": [
       "\n",
       "                <style>\n",
       "                .red {\n",
       "                background-color:firebrick;\n",
       "                padding:3px 5px 3px 5px;\n",
       "                border-radius:5px;\n",
       "                color:white;\n",
       "                }\n",
       "                .crules{\n",
       "                    margin-top:10px;\n",
       "                    font-weight: 400;\n",
       "                }\n",
       "                .crule{            \n",
       "                padding:5px 20px 5px 20px;\n",
       "                border-radius:5px;\n",
       "                margin-right:5px;\n",
       "                font-size:12px;\n",
       "                line-height:20px;\n",
       "                display: block;\n",
       "                margin-bottom: 10px;\n",
       "                width: fit-content;\n",
       "                \n",
       "                color:#202020;\n",
       "                background-color:gold;\n",
       "                }\n",
       "                </style>\n",
       "                "
      ],
      "text/plain": [
       "<IPython.core.display.HTML object>"
      ]
     },
     "metadata": {},
     "output_type": "display_data"
    },
    {
     "data": {
      "text/html": [
       "\n",
       "            <h3>The predicted value for class <span class='red'>class</span> is <span class='red'>0</span>.</h3>\n",
       "            <h3>It would have been:</h3>\n",
       "            "
      ],
      "text/plain": [
       "<IPython.core.display.HTML object>"
      ]
     },
     "metadata": {},
     "output_type": "display_data"
    },
    {
     "data": {
      "text/html": [
       "\n",
       "                <div class='crules'>\n",
       "                    <div>\n",
       "                        <h4><span class='red'>1</span> if the following condition holds</h4>\n",
       "                    </br><span class='crule'>capital-gain <= 6105.053466796875</span><span class='crule'>education-num <= 10.725756168365479</span><span class='crule'>relationship <= 4.5</span><span class='crule'>relationship > 2.0432846546173096</span><span class='crule'>capital-loss > 2317.5</span>\n",
       "                    </div>\n",
       "                </div>\n",
       "            "
      ],
      "text/plain": [
       "<IPython.core.display.HTML object>"
      ]
     },
     "metadata": {},
     "output_type": "display_data"
    }
   ],
   "source": [
    "exp.plotCounterfactualRules()"
   ]
  },
  {
   "cell_type": "code",
   "execution_count": 32,
   "id": "corresponding-petersburg",
   "metadata": {},
   "outputs": [
    {
     "name": "stdout",
     "output_type": "stream",
     "text": [
      "[('capital-gain', 0.20202781323631933), ('marital-status', -0.05393839333174429), ('relationship', -0.04623399356174276), ('education-num', 0.04331929786281839), ('age', 0.04189865018147442), ('hours-per-week', 0.03327784956240396), ('capital-loss', -0.014159256232603161), ('workclass', 0.013766392999885604), ('occupation', -0.013656069666905439), ('race', 0.00843993849390575)]\n"
     ]
    }
   ],
   "source": [
    "limeExplainer = LimeXAITabularExplainer(bbox)\n",
    "config = {'feature_selection': 'forward_selection'}\n",
    "limeExplainer.fit(df, class_field, config)\n",
    "lime_exp = limeExplainer.explain(inst)\n",
    "print(lime_exp.exp.as_list())"
   ]
  },
  {
   "cell_type": "code",
   "execution_count": 33,
   "id": "decreased-offer",
   "metadata": {},
   "outputs": [
    {
     "data": {
      "text/html": [
       "\n",
       "        <style>\n",
       "        .vega-bind {\n",
       "          position: absolute;\n",
       "          left: 0px;\n",
       "          top: 0px;\n",
       "          background-color:#eee;\n",
       "          padding:10px;\n",
       "          font-size:10px;\n",
       "        }\n",
       "        .chart-wrapper{\n",
       "          padding-top: 70px;\n",
       "        }\n",
       "\n",
       "        </style>\n",
       "        "
      ],
      "text/plain": [
       "<IPython.core.display.HTML object>"
      ]
     },
     "metadata": {},
     "output_type": "display_data"
    },
    {
     "data": {
      "text/html": [
       "\n",
       "<div id=\"altair-viz-440612308a74459b94c3fa1332cb3e56\"></div>\n",
       "<script type=\"text/javascript\">\n",
       "  (function(spec, embedOpt){\n",
       "    let outputDiv = document.currentScript.previousElementSibling;\n",
       "    if (outputDiv.id !== \"altair-viz-440612308a74459b94c3fa1332cb3e56\") {\n",
       "      outputDiv = document.getElementById(\"altair-viz-440612308a74459b94c3fa1332cb3e56\");\n",
       "    }\n",
       "    const paths = {\n",
       "      \"vega\": \"https://cdn.jsdelivr.net/npm//vega@5?noext\",\n",
       "      \"vega-lib\": \"https://cdn.jsdelivr.net/npm//vega-lib?noext\",\n",
       "      \"vega-lite\": \"https://cdn.jsdelivr.net/npm//vega-lite@4.8.1?noext\",\n",
       "      \"vega-embed\": \"https://cdn.jsdelivr.net/npm//vega-embed@6?noext\",\n",
       "    };\n",
       "\n",
       "    function loadScript(lib) {\n",
       "      return new Promise(function(resolve, reject) {\n",
       "        var s = document.createElement('script');\n",
       "        s.src = paths[lib];\n",
       "        s.async = true;\n",
       "        s.onload = () => resolve(paths[lib]);\n",
       "        s.onerror = () => reject(`Error loading script: ${paths[lib]}`);\n",
       "        document.getElementsByTagName(\"head\")[0].appendChild(s);\n",
       "      });\n",
       "    }\n",
       "\n",
       "    function showError(err) {\n",
       "      outputDiv.innerHTML = `<div class=\"error\" style=\"color:red;\">${err}</div>`;\n",
       "      throw err;\n",
       "    }\n",
       "\n",
       "    function displayChart(vegaEmbed) {\n",
       "      vegaEmbed(outputDiv, spec, embedOpt)\n",
       "        .catch(err => showError(`Javascript Error: ${err.message}<br>This usually means there's a typo in your chart specification. See the javascript console for the full traceback.`));\n",
       "    }\n",
       "\n",
       "    if(typeof define === \"function\" && define.amd) {\n",
       "      requirejs.config({paths});\n",
       "      require([\"vega-embed\"], displayChart, err => showError(`Error loading script: ${err.message}`));\n",
       "    } else if (typeof vegaEmbed === \"function\") {\n",
       "      displayChart(vegaEmbed);\n",
       "    } else {\n",
       "      loadScript(\"vega\")\n",
       "        .then(() => loadScript(\"vega-lite\"))\n",
       "        .then(() => loadScript(\"vega-embed\"))\n",
       "        .catch(showError)\n",
       "        .then(() => displayChart(vegaEmbed));\n",
       "    }\n",
       "  })({\"config\": {\"view\": {\"continuousWidth\": 400, \"continuousHeight\": 300}, \"axis\": {\"labelFontSize\": 10, \"labelLimit\": 225.0}}, \"vconcat\": [{\"layer\": [{\"data\": {\"name\": \"data-26982572af39114fca043a76d2733a02\"}, \"mark\": {\"type\": \"rule\", \"strokeWidth\": 3}, \"encoding\": {\"color\": {\"type\": \"quantitative\", \"field\": \"xValue\", \"legend\": null, \"scale\": {\"domain\": [-0.20202781323631933, 0.20202781323631933], \"domainMid\": 0, \"scheme\": \"redyellowblue\"}}, \"x\": {\"type\": \"quantitative\", \"axis\": {\"orient\": \"top\", \"titleFontSize\": 10}, \"field\": \"xValue\", \"title\": \"Select a cutoff range for Feature Importance values \"}}}, {\"data\": {\"name\": \"data-c7bc3ae69e1253e8223f70a11d04b99d\"}, \"mark\": {\"type\": \"rect\", \"color\": \"black\", \"height\": 20, \"opacity\": 0.4, \"tooltip\": true}, \"encoding\": {\"x\": {\"type\": \"quantitative\", \"field\": \"x_min\"}, \"x2\": {\"field\": \"x_max\"}, \"y\": {\"type\": \"quantitative\", \"axis\": null, \"field\": \"y\"}}, \"selection\": {\"Cutter\": {\"type\": \"single\", \"fields\": [\"cutoff\"], \"bind\": {\"input\": \"range\", \"max\": 0.20202781323631933, \"min\": 0, \"name\": \"Importance cutoff value (\\u00b1) \", \"step\": 0.0040405562647263865}, \"init\": {\"cutoff\": 0.0}}}, \"transform\": [{\"calculate\": \"(-Cutter.cutoff)\", \"as\": \"x_min\"}, {\"calculate\": \"Cutter.cutoff\", \"as\": \"x_max\"}]}], \"height\": 20}, {\"layer\": [{\"data\": {\"name\": \"data-4896a6f00ca20a09d603ec68196319e5\"}, \"mark\": \"bar\", \"encoding\": {\"color\": {\"type\": \"quantitative\", \"field\": \"value\", \"legend\": null, \"scale\": {\"domain\": [-0.20202781323631933, 0.20202781323631933], \"domainMid\": 0, \"scheme\": \"blueorange\"}}, \"tooltip\": [{\"type\": \"nominal\", \"field\": \"name\", \"title\": \"Feature\"}, {\"type\": \"quantitative\", \"field\": \"value\", \"title\": \"Importance\"}], \"x\": {\"type\": \"quantitative\", \"field\": \"value\", \"title\": null}, \"y\": {\"type\": \"nominal\", \"field\": \"name\", \"sort\": {\"field\": \"value\", \"op\": \"mean\", \"order\": \"descending\"}, \"title\": null}}, \"selection\": {\"Cutter\": {\"type\": \"single\", \"fields\": [\"cutoff\"], \"bind\": {\"input\": \"range\", \"max\": 0.20202781323631933, \"min\": 0, \"name\": \"Importance cutoff value (\\u00b1) \", \"step\": 0.0040405562647263865}, \"init\": {\"cutoff\": 0.0}}}, \"transform\": [{\"filter\": \"((datum.value > Cutter.cutoff) || (datum.value < (-Cutter.cutoff)))\"}]}, {\"data\": {\"name\": \"data-9c00aa9dc2b1c1a0b4bf9b34ead12925\"}, \"mark\": \"rule\", \"encoding\": {\"x\": {\"type\": \"quantitative\", \"field\": \"x\"}}}]}], \"padding\": 10, \"$schema\": \"https://vega.github.io/schema/vega-lite/v4.8.1.json\", \"datasets\": {\"data-26982572af39114fca043a76d2733a02\": [{\"xValue\": -0.20202781323631933}, {\"xValue\": -0.20000753510395614}, {\"xValue\": -0.19798725697159295}, {\"xValue\": -0.19596697883922976}, {\"xValue\": -0.19394670070686656}, {\"xValue\": -0.19192642257450337}, {\"xValue\": -0.18990614444214018}, {\"xValue\": -0.187885866309777}, {\"xValue\": -0.1858655881774138}, {\"xValue\": -0.18384531004505061}, {\"xValue\": -0.18182503191268742}, {\"xValue\": -0.17980475378032423}, {\"xValue\": -0.17778447564796104}, {\"xValue\": -0.17576419751559785}, {\"xValue\": -0.17374391938323466}, {\"xValue\": -0.17172364125087147}, {\"xValue\": -0.16970336311850828}, {\"xValue\": -0.1676830849861451}, {\"xValue\": -0.1656628068537819}, {\"xValue\": -0.1636425287214187}, {\"xValue\": -0.16162225058905552}, {\"xValue\": -0.15960197245669233}, {\"xValue\": -0.15758169432432914}, {\"xValue\": -0.15556141619196595}, {\"xValue\": -0.15354113805960276}, {\"xValue\": -0.15152085992723957}, {\"xValue\": -0.14950058179487638}, {\"xValue\": -0.1474803036625132}, {\"xValue\": -0.14546002553015}, {\"xValue\": -0.1434397473977868}, {\"xValue\": -0.14141946926542362}, {\"xValue\": -0.13939919113306043}, {\"xValue\": -0.13737891300069724}, {\"xValue\": -0.13535863486833405}, {\"xValue\": -0.13333835673597086}, {\"xValue\": -0.13131807860360767}, {\"xValue\": -0.12929780047124448}, {\"xValue\": -0.1272775223388813}, {\"xValue\": -0.1252572442065181}, {\"xValue\": -0.12323696607415491}, {\"xValue\": -0.12121668794179172}, {\"xValue\": -0.11919640980942853}, {\"xValue\": -0.11717613167706534}, {\"xValue\": -0.11515585354470215}, {\"xValue\": -0.11313557541233896}, {\"xValue\": -0.11111529727997577}, {\"xValue\": -0.10909501914761258}, {\"xValue\": -0.10707474101524939}, {\"xValue\": -0.1050544628828862}, {\"xValue\": -0.103034184750523}, {\"xValue\": -0.10101390661815982}, {\"xValue\": -0.09899362848579663}, {\"xValue\": -0.09697335035343344}, {\"xValue\": -0.09495307222107024}, {\"xValue\": -0.09293279408870705}, {\"xValue\": -0.09091251595634386}, {\"xValue\": -0.08889223782398067}, {\"xValue\": -0.08687195969161748}, {\"xValue\": -0.0848516815592543}, {\"xValue\": -0.0828314034268911}, {\"xValue\": -0.08081112529452791}, {\"xValue\": -0.07879084716216472}, {\"xValue\": -0.07677056902980153}, {\"xValue\": -0.07475029089743834}, {\"xValue\": -0.07273001276507515}, {\"xValue\": -0.07070973463271196}, {\"xValue\": -0.06868945650034877}, {\"xValue\": -0.06666917836798558}, {\"xValue\": -0.06464890023562239}, {\"xValue\": -0.0626286221032592}, {\"xValue\": -0.06060834397089601}, {\"xValue\": -0.05858806583853282}, {\"xValue\": -0.05656778770616963}, {\"xValue\": -0.05454750957380644}, {\"xValue\": -0.05252723144144325}, {\"xValue\": -0.05050695330908006}, {\"xValue\": -0.04848667517671687}, {\"xValue\": -0.04646639704435368}, {\"xValue\": -0.04444611891199049}, {\"xValue\": -0.0424258407796273}, {\"xValue\": -0.04040556264726411}, {\"xValue\": -0.03838528451490092}, {\"xValue\": -0.03636500638253773}, {\"xValue\": -0.03434472825017454}, {\"xValue\": -0.03232445011781135}, {\"xValue\": -0.03030417198544816}, {\"xValue\": -0.028283893853084968}, {\"xValue\": -0.026263615720721778}, {\"xValue\": -0.024243337588358588}, {\"xValue\": -0.022223059455995398}, {\"xValue\": -0.020202781323632207}, {\"xValue\": -0.018182503191269017}, {\"xValue\": -0.016162225058905827}, {\"xValue\": -0.014141946926542637}, {\"xValue\": -0.012121668794179447}, {\"xValue\": -0.010101390661816256}, {\"xValue\": -0.008081112529453066}, {\"xValue\": -0.006060834397089876}, {\"xValue\": -0.004040556264726686}, {\"xValue\": -0.0020202781323634955}, {\"xValue\": -3.0531133177191805e-16}, {\"xValue\": 0.002020278132362885}, {\"xValue\": 0.004040556264726075}, {\"xValue\": 0.006060834397089265}, {\"xValue\": 0.008081112529452456}, {\"xValue\": 0.010101390661815646}, {\"xValue\": 0.012121668794178836}, {\"xValue\": 0.014141946926542026}, {\"xValue\": 0.016162225058905216}, {\"xValue\": 0.018182503191268407}, {\"xValue\": 0.020202781323631597}, {\"xValue\": 0.022223059455994787}, {\"xValue\": 0.024243337588357977}, {\"xValue\": 0.026263615720721167}, {\"xValue\": 0.028283893853084358}, {\"xValue\": 0.030304171985447548}, {\"xValue\": 0.03232445011781074}, {\"xValue\": 0.03434472825017393}, {\"xValue\": 0.03636500638253712}, {\"xValue\": 0.03838528451490031}, {\"xValue\": 0.0404055626472635}, {\"xValue\": 0.04242584077962669}, {\"xValue\": 0.04444611891198988}, {\"xValue\": 0.04646639704435307}, {\"xValue\": 0.04848667517671626}, {\"xValue\": 0.05050695330907942}, {\"xValue\": 0.05252723144144264}, {\"xValue\": 0.05454750957380586}, {\"xValue\": 0.05656778770616902}, {\"xValue\": 0.05858806583853218}, {\"xValue\": 0.0606083439708954}, {\"xValue\": 0.06262862210325862}, {\"xValue\": 0.06464890023562178}, {\"xValue\": 0.06666917836798494}, {\"xValue\": 0.06868945650034816}, {\"xValue\": 0.07070973463271138}, {\"xValue\": 0.07273001276507454}, {\"xValue\": 0.0747502908974377}, {\"xValue\": 0.07677056902980092}, {\"xValue\": 0.07879084716216414}, {\"xValue\": 0.0808111252945273}, {\"xValue\": 0.08283140342689047}, {\"xValue\": 0.08485168155925368}, {\"xValue\": 0.0868719596916169}, {\"xValue\": 0.08889223782398006}, {\"xValue\": 0.09091251595634323}, {\"xValue\": 0.09293279408870644}, {\"xValue\": 0.09495307222106966}, {\"xValue\": 0.09697335035343282}, {\"xValue\": 0.09899362848579599}, {\"xValue\": 0.1010139066181592}, {\"xValue\": 0.10303418475052242}, {\"xValue\": 0.10505446288288559}, {\"xValue\": 0.10707474101524875}, {\"xValue\": 0.10909501914761197}, {\"xValue\": 0.11111529727997518}, {\"xValue\": 0.11313557541233835}, {\"xValue\": 0.11515585354470151}, {\"xValue\": 0.11717613167706473}, {\"xValue\": 0.11919640980942794}, {\"xValue\": 0.12121668794179111}, {\"xValue\": 0.12323696607415427}, {\"xValue\": 0.1252572442065175}, {\"xValue\": 0.1272775223388807}, {\"xValue\": 0.12929780047124387}, {\"xValue\": 0.13131807860360703}, {\"xValue\": 0.13333835673597025}, {\"xValue\": 0.13535863486833347}, {\"xValue\": 0.13737891300069663}, {\"xValue\": 0.1393991911330598}, {\"xValue\": 0.141419469265423}, {\"xValue\": 0.14343974739778623}, {\"xValue\": 0.1454600255301494}, {\"xValue\": 0.14748030366251255}, {\"xValue\": 0.14950058179487577}, {\"xValue\": 0.151520859927239}, {\"xValue\": 0.15354113805960215}, {\"xValue\": 0.1555614161919653}, {\"xValue\": 0.15758169432432853}, {\"xValue\": 0.15960197245669175}, {\"xValue\": 0.1616222505890549}, {\"xValue\": 0.16364252872141807}, {\"xValue\": 0.1656628068537813}, {\"xValue\": 0.1676830849861445}, {\"xValue\": 0.16970336311850767}, {\"xValue\": 0.17172364125087083}, {\"xValue\": 0.17374391938323405}, {\"xValue\": 0.17576419751559727}, {\"xValue\": 0.17778447564796043}, {\"xValue\": 0.1798047537803236}, {\"xValue\": 0.1818250319126868}, {\"xValue\": 0.18384531004505003}, {\"xValue\": 0.1858655881774132}, {\"xValue\": 0.18788586630977636}, {\"xValue\": 0.18990614444213957}, {\"xValue\": 0.1919264225745028}, {\"xValue\": 0.19394670070686595}, {\"xValue\": 0.19596697883922912}, {\"xValue\": 0.19798725697159233}, {\"xValue\": 0.20000753510395555}], \"data-c7bc3ae69e1253e8223f70a11d04b99d\": [{\"y\": 0, \"x\": -0.5, \"x2\": 0.5}], \"data-4896a6f00ca20a09d603ec68196319e5\": [{\"name\": \"capital-gain\", \"value\": 0.20202781323631933}, {\"name\": \"marital-status\", \"value\": -0.05393839333174429}, {\"name\": \"relationship\", \"value\": -0.04623399356174276}, {\"name\": \"education-num\", \"value\": 0.04331929786281839}, {\"name\": \"age\", \"value\": 0.04189865018147442}, {\"name\": \"hours-per-week\", \"value\": 0.03327784956240396}, {\"name\": \"capital-loss\", \"value\": -0.014159256232603161}, {\"name\": \"workclass\", \"value\": 0.013766392999885604}, {\"name\": \"occupation\", \"value\": -0.013656069666905439}, {\"name\": \"race\", \"value\": 0.00843993849390575}], \"data-9c00aa9dc2b1c1a0b4bf9b34ead12925\": [{\"x\": 0}]}}, {\"mode\": \"vega-lite\"});\n",
       "</script>"
      ],
      "text/plain": [
       "alt.VConcatChart(...)"
      ]
     },
     "metadata": {},
     "output_type": "display_data"
    }
   ],
   "source": [
    "lime_exp.plot_features_importance()"
   ]
  },
  {
   "cell_type": "code",
   "execution_count": null,
   "id": "brief-aircraft",
   "metadata": {},
   "outputs": [],
   "source": []
  }
 ],
 "metadata": {
  "kernelspec": {
   "display_name": "Python 3",
   "language": "python",
   "name": "python3"
  },
  "language_info": {
   "codemirror_mode": {
    "name": "ipython",
    "version": 3
   },
   "file_extension": ".py",
   "mimetype": "text/x-python",
   "name": "python",
   "nbconvert_exporter": "python",
   "pygments_lexer": "ipython3",
   "version": "3.8.8"
  }
 },
 "nbformat": 4,
 "nbformat_minor": 5
}
